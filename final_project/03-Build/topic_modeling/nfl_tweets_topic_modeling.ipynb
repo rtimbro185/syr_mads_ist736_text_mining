{
 "cells": [
  {
   "cell_type": "markdown",
   "metadata": {},
   "source": [
    "# Topic Modeling - Mallet LDA\n",
    "\n",
    "\n",
    "Author: Ryan Timbrook (RTIMBROO)<br>\n",
    "DATE: 12/7/2019<br>\n",
    "Topic: Perform Topic Modeling on NFL Tweet Text"
   ]
  },
  {
   "cell_type": "markdown",
   "metadata": {},
   "source": [
    "## 1. Objective\n",
    "_____________________________________________________________________________________________\n",
    "Topic Modeling\n",
    "\n",
    "LDA is an algorithm that can “summarize” the main topics of a text collection.\n",
    "\n",
    "Topic modeling will be performed at the NFL Type level collected by NFL Game Schedule Week.\n",
    "* Coach\n",
    "* Team\n",
    "* Player\n",
    "\n",
    "\n",
    "### Topic Modeling References\n",
    "* [sklearn LatentDirichletAllocation](https://scikit-learn.org/stable/modules/generated/sklearn.decomposition.LatentDirichletAllocation.html)\n",
    "* [Topic Modeling with SciKit Learn](https://medium.com/mlreview/topic-modeling-with-scikit-learn-e80d33668730)\n",
    "* [Complete Guide to Topic Modeling](https://nlpforhackers.io/topic-modeling/)\n",
    "* [Topic Modelling with SciKit-learn -- Derek Greene University College Dublin](http://derekgreene.com/slides/topic-modelling-with-scikitlearn.pdf)\n"
   ]
  },
  {
   "cell_type": "markdown",
   "metadata": {},
   "source": [
    "______________________________________________________________________________________________\n",
    "### Coding Environment Setup\n",
    "Import packages"
   ]
  },
  {
   "cell_type": "code",
   "execution_count": 1,
   "metadata": {},
   "outputs": [
    {
     "name": "stderr",
     "output_type": "stream",
     "text": [
      "[nltk_data] Downloading package wordnet to\n",
      "[nltk_data]     C:\\Users\\rt310\\AppData\\Roaming\\nltk_data...\n",
      "[nltk_data]   Package wordnet is already up-to-date!\n",
      "C:\\ProgramData\\Anaconda3\\lib\\site-packages\\past\\types\\oldstr.py:33: DeprecationWarning: invalid escape sequence \\d\n",
      "  \"\"\"\n"
     ]
    }
   ],
   "source": [
    "# import packages for analysis and modeling\n",
    "import pandas as pd #data frame operations\n",
    "import numpy as np #arrays and math functions\n",
    "np.random.seed(42)\n",
    "\n",
    "import matplotlib.pyplot as plt #2D plotting\n",
    "%matplotlib inline\n",
    "import seaborn as sns #\n",
    "import os\n",
    "import sys\n",
    "import io\n",
    "from os import path\n",
    "import re\n",
    "import random\n",
    "import json\n",
    "from datetime import date\n",
    "from datetime import time\n",
    "from datetime import datetime\n",
    "import warnings\n",
    "from timeit import default_timer               # performance processing time\n",
    "import logging                                 # logging framework\n",
    "warnings.filterwarnings('ignore')\n",
    "\n",
    "# \n",
    "import nltk\n",
    "nltk.download('wordnet')\n",
    "from nltk import PorterStemmer\n",
    "from nltk.stem import PorterStemmer \n",
    "stemmer = PorterStemmer()\n",
    "\n",
    "from nltk.corpus import stopwords\n",
    "from nltk.tokenize import word_tokenize, wordpunct_tokenize\n",
    "from nltk.stem.porter import *\n",
    "from wordcloud import WordCloud, STOPWORDS, ImageColorGenerator\n",
    "\n",
    "from sklearn.model_selection import train_test_split\n",
    "from sklearn.feature_extraction.text import CountVectorizer\n",
    "from sklearn.feature_extraction.text import TfidfVectorizer\n",
    "from scipy.stats import itemfreq\n",
    "\n",
    "from sklearn.decomposition import NMF, LatentDirichletAllocation, TruncatedSVD\n",
    "from scipy.stats import zscore\n",
    "\n",
    "\n",
    "## IMPORTANT - you must install gensim first ##\n",
    "## conda install -c anaconda gensim\n",
    "from gensim import models, corpora\n",
    "from gensim.utils import simple_preprocess, lemmatize\n",
    "from gensim.parsing.preprocessing import STOPWORDS\n",
    "from nltk.stem import WordNetLemmatizer, SnowballStemmer\n",
    "\n",
    "## conda install -c conda-forge pyldavis\n",
    "import pyLDAvis.sklearn as LDAvis\n",
    "import pyLDAvis\n",
    "pyLDAvis.enable_notebook()"
   ]
  },
  {
   "cell_type": "code",
   "execution_count": 2,
   "metadata": {},
   "outputs": [],
   "source": [
    "# custome python packages\n",
    "import rtimbroo_utils as br             # custome python helper functions"
   ]
  },
  {
   "cell_type": "code",
   "execution_count": 3,
   "metadata": {},
   "outputs": [
    {
     "data": {
      "text/plain": [
       "['2019-12-12']"
      ]
     },
     "execution_count": 3,
     "metadata": {},
     "output_type": "execute_result"
    }
   ],
   "source": [
    "# get current date\n",
    "now = datetime.utcnow().isoformat()\n",
    "collection_date = re.findall('^[0-9]{4}-[0-9]{2}-[0-9]{2}',now)\n",
    "collection_date"
   ]
  },
  {
   "cell_type": "code",
   "execution_count": 4,
   "metadata": {},
   "outputs": [],
   "source": [
    "# set global properties\n",
    "notebook_file_name = 'nfl_tweets_topic_modeling'\n",
    "report_file_name = 'nfl_tweets_topic_modeling'\n",
    "app_name = 'nfl_tweets_topic_modeling'\n",
    "log_level = 10 # 10-DEBUG, 20-INFO, 30-WARNING, 40-ERROR, 50-CRITICAL\n",
    "\n",
    "# setup working directory structure\n",
    "# set global properties\n",
    "dataDir = './data'\n",
    "outputDir = './output'\n",
    "configDir = './config'\n",
    "logOutDir = './logs'\n",
    "imageDir = './images'\n",
    "modelDir = './models'\n",
    "corpusDir = './corpus'\n"
   ]
  },
  {
   "cell_type": "code",
   "execution_count": 5,
   "metadata": {},
   "outputs": [],
   "source": [
    "# create base output directories if they don't exist\n",
    "if not os.path.exists(outputDir): os.mkdir(outputDir)\n",
    "if not os.path.exists(logOutDir): os.mkdir(logOutDir)\n",
    "if not os.path.exists(imageDir): os.mkdir(imageDir)\n",
    "if not os.path.exists(modelDir): os.mkdir(modelDir)\n",
    "if not os.path.exists(corpusDir): os.mkdir(corpusDir)"
   ]
  },
  {
   "cell_type": "code",
   "execution_count": 6,
   "metadata": {},
   "outputs": [],
   "source": [
    "# get a logger for troubleshooting / data exploration\n",
    "logger = br.getFileLogger(logOutDir+'/',app_name+'_'+collection_date[0],level=log_level)"
   ]
  },
  {
   "cell_type": "markdown",
   "metadata": {},
   "source": [
    "[NLTK 3.4.5](https://www.nltk.org/index.html)\n",
    "* [nltk.stem.wordnet](https://www.nltk.org/_modules/nltk/stem/wordnet.html)\n",
    "* [WordNetLemmatizer lemmatize](https://www.nltk.org/api/nltk.stem.html?highlight=wordnetlemmatizer#nltk.stem.wordnet.WordNetLemmatizer.lemmatize)"
   ]
  },
  {
   "cell_type": "code",
   "execution_count": 7,
   "metadata": {},
   "outputs": [],
   "source": [
    "# gensim lemmatize function -- requires pattern package\n",
    "# lemmatize each word to its root form, keeping only nouns(NN), adjectives(JJ), verbs(VB) and adverbs(RB).\n",
    "# We keep only these POS tags because they are the ones contributing the most to the meaning of the sentences\n",
    "# this implementation allows Nouns(NN), Adjectives(JJ), and Pronouns(RB) - topic keyword choices\n",
    "def gen_lemmatize(text):\n",
    "        stems = []\n",
    "        tokens = text.split(' ')\n",
    "        for i,word in enumerate(tokens):\n",
    "            try:\n",
    "            \n",
    "                lem_word = lemmatize(word,allowed_tags=re.compile('(NN|VB|JJ|RB)'))\n",
    "\n",
    "                if lem_word:\n",
    "                    stems = stems + [lem_word[0].split(b'/')[0].decode('utf-8')]\n",
    "                    \n",
    "            except BaseException as be:\n",
    "                logger.error(f'***ERROR***: Caught BaseException: {be} | word_idx:[{i}] | word:[{word}]')\n",
    "                continue\n",
    "\n",
    "        return ' '.join(stems)"
   ]
  },
  {
   "cell_type": "markdown",
   "metadata": {},
   "source": [
    "## 2. OBTAIN the data   \n",
    "________________________________________________________________________________________________\n"
   ]
  },
  {
   "cell_type": "code",
   "execution_count": 8,
   "metadata": {},
   "outputs": [
    {
     "name": "stderr",
     "output_type": "stream",
     "text": [
      "train shape: (9928, 17)\n",
      "train size: 168776\n",
      "train len: 9928\n",
      "train info: None\n"
     ]
    },
    {
     "name": "stdout",
     "output_type": "stream",
     "text": [
      "<class 'pandas.core.frame.DataFrame'>\n",
      "RangeIndex: 9928 entries, 0 to 9927\n",
      "Data columns (total 17 columns):\n",
      "id                  9928 non-null int64\n",
      "created_at          9928 non-null object\n",
      "date                9928 non-null object\n",
      "time                9928 non-null object\n",
      "user                9928 non-null object\n",
      "favorite_count      9928 non-null float64\n",
      "year                9928 non-null int64\n",
      "month               9928 non-null int64\n",
      "day_of_month        9928 non-null int64\n",
      "day_of_week         9928 non-null int64\n",
      "nfl_type            9928 non-null object\n",
      "nfl_schedule_wk     9928 non-null int64\n",
      "text                9870 non-null object\n",
      "text_clean          9708 non-null object\n",
      "sentiment_scores    9928 non-null object\n",
      "sentiment           9928 non-null object\n",
      "sentiment_class     9928 non-null int64\n",
      "dtypes: float64(1), int64(7), object(9)\n",
      "memory usage: 1.3+ MB\n"
     ]
    }
   ],
   "source": [
    "# pre-processed data file\n",
    "train = pd.read_csv(f'{dataDir}/nfl_master_sent_merged_timeseries.csv', encoding='latin')\n",
    "\n",
    "logger.info(f'train shape: {train.shape}')\n",
    "logger.info(f'train size: {train.size}')\n",
    "logger.info(f'train len: {len(train)}')\n",
    "logger.info(f'train info: {train.info()}')\n",
    "\n",
    "\n",
    "\n",
    "# nfl foster list to use for custom stop word removal\n",
    "nfl_roster = pd.read_csv(f'{dataDir}/nfl_teams_roster_data.csv', encoding='utf8')\n",
    "nfl_coaches_df = pd.read_csv(f'{dataDir}/nfl_coaches_list.csv', encoding='utf8')"
   ]
  },
  {
   "cell_type": "code",
   "execution_count": 9,
   "metadata": {},
   "outputs": [
    {
     "data": {
      "text/html": [
       "<div>\n",
       "<style scoped>\n",
       "    .dataframe tbody tr th:only-of-type {\n",
       "        vertical-align: middle;\n",
       "    }\n",
       "\n",
       "    .dataframe tbody tr th {\n",
       "        vertical-align: top;\n",
       "    }\n",
       "\n",
       "    .dataframe thead th {\n",
       "        text-align: right;\n",
       "    }\n",
       "</style>\n",
       "<table border=\"1\" class=\"dataframe\">\n",
       "  <thead>\n",
       "    <tr style=\"text-align: right;\">\n",
       "      <th></th>\n",
       "      <th>id</th>\n",
       "      <th>created_at</th>\n",
       "      <th>date</th>\n",
       "      <th>time</th>\n",
       "      <th>user</th>\n",
       "      <th>favorite_count</th>\n",
       "      <th>year</th>\n",
       "      <th>month</th>\n",
       "      <th>day_of_month</th>\n",
       "      <th>day_of_week</th>\n",
       "      <th>nfl_type</th>\n",
       "      <th>nfl_schedule_wk</th>\n",
       "      <th>text</th>\n",
       "      <th>text_clean</th>\n",
       "      <th>sentiment_scores</th>\n",
       "      <th>sentiment</th>\n",
       "      <th>sentiment_class</th>\n",
       "    </tr>\n",
       "  </thead>\n",
       "  <tbody>\n",
       "    <tr>\n",
       "      <th>0</th>\n",
       "      <td>1200925546487504897</td>\n",
       "      <td>Sat Nov 30 23:52:17 +0000 2019</td>\n",
       "      <td>2019-11-30</td>\n",
       "      <td>23:52:17</td>\n",
       "      <td>miamidolphin12</td>\n",
       "      <td>1398.0</td>\n",
       "      <td>2019</td>\n",
       "      <td>11</td>\n",
       "      <td>30</td>\n",
       "      <td>5</td>\n",
       "      <td>team</td>\n",
       "      <td>13</td>\n",
       "      <td>RT SEVENTEEN!</td>\n",
       "      <td>seventeen</td>\n",
       "      <td>{'neg': 0.0, 'neu': 1.0, 'pos': 0.0, 'compound...</td>\n",
       "      <td>neutral</td>\n",
       "      <td>1</td>\n",
       "    </tr>\n",
       "    <tr>\n",
       "      <th>1</th>\n",
       "      <td>1200925257407827968</td>\n",
       "      <td>Sat Nov 30 23:51:08 +0000 2019</td>\n",
       "      <td>2019-11-30</td>\n",
       "      <td>23:51:08</td>\n",
       "      <td>JT_Evans97</td>\n",
       "      <td>28503.0</td>\n",
       "      <td>2019</td>\n",
       "      <td>11</td>\n",
       "      <td>30</td>\n",
       "      <td>5</td>\n",
       "      <td>player</td>\n",
       "      <td>13</td>\n",
       "      <td>You mean the same fan experts who could see La...</td>\n",
       "      <td>mean fan experts could see would great</td>\n",
       "      <td>{'neg': 0.0, 'neu': 0.439, 'pos': 0.561, 'comp...</td>\n",
       "      <td>positive</td>\n",
       "      <td>2</td>\n",
       "    </tr>\n",
       "    <tr>\n",
       "      <th>2</th>\n",
       "      <td>1200924548700495872</td>\n",
       "      <td>Sat Nov 30 23:48:19 +0000 2019</td>\n",
       "      <td>2019-11-30</td>\n",
       "      <td>23:48:19</td>\n",
       "      <td>MigiziLaFern</td>\n",
       "      <td>161.0</td>\n",
       "      <td>2019</td>\n",
       "      <td>11</td>\n",
       "      <td>30</td>\n",
       "      <td>5</td>\n",
       "      <td>player</td>\n",
       "      <td>13</td>\n",
       "      <td>Deshaun Watson or Sam Darnold?  WhoShouldIStart</td>\n",
       "      <td>whoshouldistart</td>\n",
       "      <td>{'neg': 0.0, 'neu': 1.0, 'pos': 0.0, 'compound...</td>\n",
       "      <td>neutral</td>\n",
       "      <td>1</td>\n",
       "    </tr>\n",
       "    <tr>\n",
       "      <th>3</th>\n",
       "      <td>1200924401002303498</td>\n",
       "      <td>Sat Nov 30 23:47:43 +0000 2019</td>\n",
       "      <td>2019-11-30</td>\n",
       "      <td>23:47:43</td>\n",
       "      <td>DelindaTierney</td>\n",
       "      <td>3148.0</td>\n",
       "      <td>2019</td>\n",
       "      <td>11</td>\n",
       "      <td>30</td>\n",
       "      <td>5</td>\n",
       "      <td>team</td>\n",
       "      <td>13</td>\n",
       "      <td>Since 2012, Tom Brady has won 7 straight games...</td>\n",
       "      <td>since straight games ppg ypg ypa intÃÂ¢ÃÂÃ...</td>\n",
       "      <td>{'neg': 0.0, 'neu': 0.808, 'pos': 0.192, 'comp...</td>\n",
       "      <td>positive</td>\n",
       "      <td>2</td>\n",
       "    </tr>\n",
       "    <tr>\n",
       "      <th>4</th>\n",
       "      <td>1200922963375280129</td>\n",
       "      <td>Sat Nov 30 23:42:01 +0000 2019</td>\n",
       "      <td>2019-11-30</td>\n",
       "      <td>23:42:01</td>\n",
       "      <td>TifdanyBrooks</td>\n",
       "      <td>10198.0</td>\n",
       "      <td>2019</td>\n",
       "      <td>11</td>\n",
       "      <td>30</td>\n",
       "      <td>5</td>\n",
       "      <td>player</td>\n",
       "      <td>13</td>\n",
       "      <td>RT Top 5 current NFL quarterbacks   1. Tom Bra...</td>\n",
       "      <td>top current quarterbacks russel watsonÃÂ¢ÃÂ...</td>\n",
       "      <td>{'neg': 0.0, 'neu': 0.69, 'pos': 0.31, 'compou...</td>\n",
       "      <td>positive</td>\n",
       "      <td>2</td>\n",
       "    </tr>\n",
       "  </tbody>\n",
       "</table>\n",
       "</div>"
      ],
      "text/plain": [
       "                    id                      created_at        date      time  \\\n",
       "0  1200925546487504897  Sat Nov 30 23:52:17 +0000 2019  2019-11-30  23:52:17   \n",
       "1  1200925257407827968  Sat Nov 30 23:51:08 +0000 2019  2019-11-30  23:51:08   \n",
       "2  1200924548700495872  Sat Nov 30 23:48:19 +0000 2019  2019-11-30  23:48:19   \n",
       "3  1200924401002303498  Sat Nov 30 23:47:43 +0000 2019  2019-11-30  23:47:43   \n",
       "4  1200922963375280129  Sat Nov 30 23:42:01 +0000 2019  2019-11-30  23:42:01   \n",
       "\n",
       "             user  favorite_count  year  month  day_of_month  day_of_week  \\\n",
       "0  miamidolphin12          1398.0  2019     11            30            5   \n",
       "1      JT_Evans97         28503.0  2019     11            30            5   \n",
       "2    MigiziLaFern           161.0  2019     11            30            5   \n",
       "3  DelindaTierney          3148.0  2019     11            30            5   \n",
       "4   TifdanyBrooks         10198.0  2019     11            30            5   \n",
       "\n",
       "  nfl_type  nfl_schedule_wk  \\\n",
       "0     team               13   \n",
       "1   player               13   \n",
       "2   player               13   \n",
       "3     team               13   \n",
       "4   player               13   \n",
       "\n",
       "                                                text  \\\n",
       "0                                     RT SEVENTEEN!    \n",
       "1  You mean the same fan experts who could see La...   \n",
       "2    Deshaun Watson or Sam Darnold?  WhoShouldIStart   \n",
       "3  Since 2012, Tom Brady has won 7 straight games...   \n",
       "4  RT Top 5 current NFL quarterbacks   1. Tom Bra...   \n",
       "\n",
       "                                          text_clean  \\\n",
       "0                                          seventeen   \n",
       "1             mean fan experts could see would great   \n",
       "2                                    whoshouldistart   \n",
       "3  since straight games ppg ypg ypa intÃÂ¢ÃÂÃ...   \n",
       "4  top current quarterbacks russel watsonÃÂ¢ÃÂ...   \n",
       "\n",
       "                                    sentiment_scores sentiment  \\\n",
       "0  {'neg': 0.0, 'neu': 1.0, 'pos': 0.0, 'compound...   neutral   \n",
       "1  {'neg': 0.0, 'neu': 0.439, 'pos': 0.561, 'comp...  positive   \n",
       "2  {'neg': 0.0, 'neu': 1.0, 'pos': 0.0, 'compound...   neutral   \n",
       "3  {'neg': 0.0, 'neu': 0.808, 'pos': 0.192, 'comp...  positive   \n",
       "4  {'neg': 0.0, 'neu': 0.69, 'pos': 0.31, 'compou...  positive   \n",
       "\n",
       "   sentiment_class  \n",
       "0                1  \n",
       "1                2  \n",
       "2                1  \n",
       "3                2  \n",
       "4                2  "
      ]
     },
     "execution_count": 9,
     "metadata": {},
     "output_type": "execute_result"
    }
   ],
   "source": [
    "train.head()"
   ]
  },
  {
   "cell_type": "code",
   "execution_count": 10,
   "metadata": {},
   "outputs": [
    {
     "name": "stdout",
     "output_type": "stream",
     "text": [
      "<class 'pandas.core.frame.DataFrame'>\n",
      "RangeIndex: 32 entries, 0 to 31\n",
      "Data columns (total 4 columns):\n",
      "team      32 non-null object\n",
      "year      32 non-null int64\n",
      "roster    32 non-null object\n",
      "text      32 non-null object\n",
      "dtypes: int64(1), object(3)\n",
      "memory usage: 1.1+ KB\n"
     ]
    }
   ],
   "source": [
    "nfl_roster.info()"
   ]
  },
  {
   "cell_type": "code",
   "execution_count": 11,
   "metadata": {},
   "outputs": [
    {
     "data": {
      "text/html": [
       "<div>\n",
       "<style scoped>\n",
       "    .dataframe tbody tr th:only-of-type {\n",
       "        vertical-align: middle;\n",
       "    }\n",
       "\n",
       "    .dataframe tbody tr th {\n",
       "        vertical-align: top;\n",
       "    }\n",
       "\n",
       "    .dataframe thead th {\n",
       "        text-align: right;\n",
       "    }\n",
       "</style>\n",
       "<table border=\"1\" class=\"dataframe\">\n",
       "  <thead>\n",
       "    <tr style=\"text-align: right;\">\n",
       "      <th></th>\n",
       "      <th>team</th>\n",
       "      <th>year</th>\n",
       "      <th>roster</th>\n",
       "      <th>text</th>\n",
       "    </tr>\n",
       "  </thead>\n",
       "  <tbody>\n",
       "    <tr>\n",
       "      <th>0</th>\n",
       "      <td>green_bay_packers</td>\n",
       "      <td>2019</td>\n",
       "      <td>['Jaire Alexander', 'Davante Adams', 'Yosuah N...</td>\n",
       "      <td>{'team_roster_news': {'2019-12-07T01:47:01.090...</td>\n",
       "    </tr>\n",
       "    <tr>\n",
       "      <th>1</th>\n",
       "      <td>arizona_cardinals</td>\n",
       "      <td>2019</td>\n",
       "      <td>['Chandler Jones', 'Larry Fitzgerald', 'Keesea...</td>\n",
       "      <td>{'team_roster_news': {'2019-12-07T01:47:01.927...</td>\n",
       "    </tr>\n",
       "    <tr>\n",
       "      <th>2</th>\n",
       "      <td>baltimore_ravens</td>\n",
       "      <td>2019</td>\n",
       "      <td>['Denzel Rice', 'Randin Crecelius', 'Kalil Mor...</td>\n",
       "      <td>{'team_roster_news': {'2019-12-07T01:47:03.116...</td>\n",
       "    </tr>\n",
       "    <tr>\n",
       "      <th>3</th>\n",
       "      <td>chicago_bears</td>\n",
       "      <td>2019</td>\n",
       "      <td>['Khalil Mack', 'Josh Caldwell', 'Bobby Massie...</td>\n",
       "      <td>{'team_roster_news': {'2019-12-07T01:47:04.113...</td>\n",
       "    </tr>\n",
       "    <tr>\n",
       "      <th>4</th>\n",
       "      <td>cincinnati_bengals</td>\n",
       "      <td>2019</td>\n",
       "      <td>['LaRoy Reynolds', 'Dre Kirkpatrick', 'Andy Da...</td>\n",
       "      <td>{'team_roster_news': {'2019-12-07T01:47:05.368...</td>\n",
       "    </tr>\n",
       "  </tbody>\n",
       "</table>\n",
       "</div>"
      ],
      "text/plain": [
       "                 team  year  \\\n",
       "0   green_bay_packers  2019   \n",
       "1   arizona_cardinals  2019   \n",
       "2    baltimore_ravens  2019   \n",
       "3       chicago_bears  2019   \n",
       "4  cincinnati_bengals  2019   \n",
       "\n",
       "                                              roster  \\\n",
       "0  ['Jaire Alexander', 'Davante Adams', 'Yosuah N...   \n",
       "1  ['Chandler Jones', 'Larry Fitzgerald', 'Keesea...   \n",
       "2  ['Denzel Rice', 'Randin Crecelius', 'Kalil Mor...   \n",
       "3  ['Khalil Mack', 'Josh Caldwell', 'Bobby Massie...   \n",
       "4  ['LaRoy Reynolds', 'Dre Kirkpatrick', 'Andy Da...   \n",
       "\n",
       "                                                text  \n",
       "0  {'team_roster_news': {'2019-12-07T01:47:01.090...  \n",
       "1  {'team_roster_news': {'2019-12-07T01:47:01.927...  \n",
       "2  {'team_roster_news': {'2019-12-07T01:47:03.116...  \n",
       "3  {'team_roster_news': {'2019-12-07T01:47:04.113...  \n",
       "4  {'team_roster_news': {'2019-12-07T01:47:05.368...  "
      ]
     },
     "execution_count": 11,
     "metadata": {},
     "output_type": "execute_result"
    }
   ],
   "source": [
    "nfl_roster.head()"
   ]
  },
  {
   "cell_type": "code",
   "execution_count": 12,
   "metadata": {},
   "outputs": [
    {
     "data": {
      "text/html": [
       "<div>\n",
       "<style scoped>\n",
       "    .dataframe tbody tr th:only-of-type {\n",
       "        vertical-align: middle;\n",
       "    }\n",
       "\n",
       "    .dataframe tbody tr th {\n",
       "        vertical-align: top;\n",
       "    }\n",
       "\n",
       "    .dataframe thead th {\n",
       "        text-align: right;\n",
       "    }\n",
       "</style>\n",
       "<table border=\"1\" class=\"dataframe\">\n",
       "  <thead>\n",
       "    <tr style=\"text-align: right;\">\n",
       "      <th></th>\n",
       "      <th>Team</th>\n",
       "      <th>Coach</th>\n",
       "      <th>Season</th>\n",
       "      <th>W</th>\n",
       "      <th>L</th>\n",
       "      <th>T</th>\n",
       "      <th>W%</th>\n",
       "      <th>W.1</th>\n",
       "      <th>L.1</th>\n",
       "      <th>T.1</th>\n",
       "      <th>W%.1</th>\n",
       "    </tr>\n",
       "  </thead>\n",
       "  <tbody>\n",
       "    <tr>\n",
       "      <th>0</th>\n",
       "      <td>Arizona Cardinals</td>\n",
       "      <td>Kliff Kingsbury</td>\n",
       "      <td>2019</td>\n",
       "      <td>3</td>\n",
       "      <td>6</td>\n",
       "      <td>1</td>\n",
       "      <td>0.350</td>\n",
       "      <td>3</td>\n",
       "      <td>6</td>\n",
       "      <td>1</td>\n",
       "      <td>0.350</td>\n",
       "    </tr>\n",
       "    <tr>\n",
       "      <th>1</th>\n",
       "      <td>Atlanta Falcons</td>\n",
       "      <td>Dan Quinn</td>\n",
       "      <td>2015</td>\n",
       "      <td>37</td>\n",
       "      <td>34</td>\n",
       "      <td>0</td>\n",
       "      <td>0.521</td>\n",
       "      <td>37</td>\n",
       "      <td>34</td>\n",
       "      <td>0</td>\n",
       "      <td>0.521</td>\n",
       "    </tr>\n",
       "    <tr>\n",
       "      <th>2</th>\n",
       "      <td>Baltimore Ravens</td>\n",
       "      <td>John Harbaugh</td>\n",
       "      <td>2008</td>\n",
       "      <td>109</td>\n",
       "      <td>74</td>\n",
       "      <td>0</td>\n",
       "      <td>0.596</td>\n",
       "      <td>109</td>\n",
       "      <td>74</td>\n",
       "      <td>0</td>\n",
       "      <td>0.596</td>\n",
       "    </tr>\n",
       "    <tr>\n",
       "      <th>3</th>\n",
       "      <td>Buffalo Bills</td>\n",
       "      <td>Sean McDermott</td>\n",
       "      <td>2017</td>\n",
       "      <td>20</td>\n",
       "      <td>18</td>\n",
       "      <td>0</td>\n",
       "      <td>0.526</td>\n",
       "      <td>20</td>\n",
       "      <td>18</td>\n",
       "      <td>0</td>\n",
       "      <td>0.526</td>\n",
       "    </tr>\n",
       "    <tr>\n",
       "      <th>4</th>\n",
       "      <td>Carolina Panthers</td>\n",
       "      <td>Perry Fewell*</td>\n",
       "      <td>2019</td>\n",
       "      <td>0</td>\n",
       "      <td>0</td>\n",
       "      <td>0</td>\n",
       "      <td>0.000</td>\n",
       "      <td>0</td>\n",
       "      <td>0</td>\n",
       "      <td>0</td>\n",
       "      <td>0.000</td>\n",
       "    </tr>\n",
       "  </tbody>\n",
       "</table>\n",
       "</div>"
      ],
      "text/plain": [
       "                Team            Coach  Season    W   L  T     W%  W.1  L.1  \\\n",
       "0  Arizona Cardinals  Kliff Kingsbury    2019    3   6  1  0.350    3    6   \n",
       "1    Atlanta Falcons        Dan Quinn    2015   37  34  0  0.521   37   34   \n",
       "2   Baltimore Ravens    John Harbaugh    2008  109  74  0  0.596  109   74   \n",
       "3      Buffalo Bills   Sean McDermott    2017   20  18  0  0.526   20   18   \n",
       "4  Carolina Panthers    Perry Fewell*    2019    0   0  0  0.000    0    0   \n",
       "\n",
       "   T.1   W%.1  \n",
       "0    1  0.350  \n",
       "1    0  0.521  \n",
       "2    0  0.596  \n",
       "3    0  0.526  \n",
       "4    0  0.000  "
      ]
     },
     "execution_count": 12,
     "metadata": {},
     "output_type": "execute_result"
    }
   ],
   "source": [
    "nfl_coaches_df.head()"
   ]
  },
  {
   "cell_type": "markdown",
   "metadata": {},
   "source": [
    "## Create NFL Stop Words Lists\n",
    "----------------------------------------------------------------------------------------------------------"
   ]
  },
  {
   "cell_type": "code",
   "execution_count": 13,
   "metadata": {},
   "outputs": [],
   "source": [
    "# NFL Teams Stop Words\n",
    "nfl_teams = [t.replace('_', ' ') for t in nfl_roster['team']]\n",
    "#logger.info(f'{nfl_teams}')"
   ]
  },
  {
   "cell_type": "code",
   "execution_count": 14,
   "metadata": {},
   "outputs": [],
   "source": [
    "# NFL Players Stop Words\n",
    "nfl_teams_players = [re.sub(r'\\'|\"|-|\\.','',p.lower()) for p in nfl_roster['roster']]\n",
    "\n",
    "nfl_players = []\n",
    "for i, team_list in enumerate(nfl_teams_players):\n",
    "    team_players = team_list.split(',')\n",
    "    for player in team_players:\n",
    "        nfl_players.append(re.sub(r'\\[|\\]','',player.strip()))\n",
    "    #if i == 2: break\n",
    "        \n",
    "#logger.info(f'team count: {i+1} | player count: {len(nfl_players)} | \\n{nfl_players}')"
   ]
  },
  {
   "cell_type": "code",
   "execution_count": 15,
   "metadata": {},
   "outputs": [],
   "source": [
    "# NFL Coaches Stop Words\n",
    "nfl_coaches = nfl_coaches_df['Coach']\n",
    "nfl_coaches = [re.sub(r'\\*|\\'','',c.lower()) for c in nfl_coaches]"
   ]
  },
  {
   "cell_type": "code",
   "execution_count": 16,
   "metadata": {},
   "outputs": [],
   "source": [
    "# dump stop words to file to be used by other modules\n",
    "with open(f'{dataDir}/nfl_stop_words_config.txt', 'w+') as f:\n",
    "    \n",
    "    nfl_stop_words = {'coaches':nfl_coaches,'players':nfl_players,'teams':nfl_teams}\n",
    "    json.dump(nfl_stop_words,f)\n",
    "    "
   ]
  },
  {
   "cell_type": "code",
   "execution_count": 17,
   "metadata": {},
   "outputs": [],
   "source": [
    "nfl_types_stop_words = []\n",
    "\n",
    "for coach in nfl_coaches:\n",
    "    nfl_types_stop_words.append(coach)\n",
    "    \n",
    "for player in nfl_players:\n",
    "    nfl_types_stop_words.append(player)\n",
    "    \n",
    "for team in nfl_teams:\n",
    "    nfl_types_stop_words.append(team)"
   ]
  },
  {
   "cell_type": "code",
   "execution_count": 18,
   "metadata": {},
   "outputs": [
    {
     "data": {
      "text/plain": [
       "['kliff',\n",
       " 'kingsbury',\n",
       " 'dan',\n",
       " 'quinn',\n",
       " 'john',\n",
       " 'harbaugh',\n",
       " 'sean',\n",
       " 'mcdermott',\n",
       " 'perry',\n",
       " 'fewell']"
      ]
     },
     "execution_count": 18,
     "metadata": {},
     "output_type": "execute_result"
    }
   ],
   "source": [
    "nfl_types_stop_words_v2 = [name for names in nfl_types_stop_words for name in names.split()]\n",
    "nfl_types_stop_words_v2[:10]"
   ]
  },
  {
   "cell_type": "markdown",
   "metadata": {},
   "source": [
    "### 3.2 Topic Modeling - SciKit Learn package\n",
    "--------------------------------------------------------------------------------------------------\n",
    "\n",
    "\n",
    "Resources:\n",
    "* [sklearn.decomposition.LatentDirichletAllocation](https://scikit-learn.org/stable/modules/generated/sklearn.decomposition.LatentDirichletAllocation.html)\n",
    "* [Topic Modelling with SciKit-learn - Insight, Derek Greene -- University College Dublin](http://derekgreene.com/slides/topic-modelling-with-scikitlearn.pdf)\n",
    "* [sklearn.feature_extraction.text.CountVectorizer](https://scikit-learn.org/stable/modules/generated/sklearn.feature_extraction.text.CountVectorizer.html)\n",
    "* [sklearn.feature_extraction.text.TfidfVectorizer](https://scikit-learn.org/stable/modules/generated/sklearn.feature_extraction.text.TfidfVectorizer.html)"
   ]
  },
  {
   "cell_type": "code",
   "execution_count": 19,
   "metadata": {},
   "outputs": [],
   "source": [
    "# function to display the topic model top 10 feature words\n",
    "def display_topics(model, feature_names, no_top_words):\n",
    "    top_ids = []\n",
    "    top_words = []\n",
    "    \n",
    "    for topic_idx, topic in enumerate(model.components_):\n",
    "        top_ids.append(str(topic_idx))\n",
    "        logger.debug(\"Topic %d:\" % (topic_idx))\n",
    "        top_10 = \" \".join([feature_names[i] for i in topic.argsort()[:-no_top_words - 1:-1]])\n",
    "        top_words.append(top_10)\n",
    "        logger.debug(top_10)\n",
    "    \n",
    "    top_df = pd.DataFrame()\n",
    "    top_df['Topic']=top_ids\n",
    "    top_df['Top_10_Features']=top_words\n",
    "    \n",
    "    return top_df\n",
    "no_top_words = 10"
   ]
  },
  {
   "cell_type": "code",
   "execution_count": 20,
   "metadata": {},
   "outputs": [],
   "source": [
    "# vectorization parameters\n",
    "no_features = 1000\n",
    "max_df = 0.95\n",
    "min_df = 2\n",
    "max_features = no_features # None\n",
    "vect_input = 'content'\n",
    "encoding = 'latin'\n",
    "decode_error = 'strict'\n",
    "stop_words = nfl_types_stop_words_v2"
   ]
  },
  {
   "cell_type": "markdown",
   "metadata": {},
   "source": [
    "#### Build a CountVectorizer data model"
   ]
  },
  {
   "cell_type": "code",
   "execution_count": 21,
   "metadata": {},
   "outputs": [
    {
     "name": "stderr",
     "output_type": "stream",
     "text": [
      "***ERROR***: Caught BaseException: generator raised StopIteration | word_idx:[0] | word:[seventeen]\n",
      "***ERROR***: Caught BaseException: generator raised StopIteration | word_idx:[0] | word:[mean]\n",
      "***ERROR***: Caught BaseException: generator raised StopIteration | word_idx:[3] | word:[could]\n"
     ]
    }
   ],
   "source": [
    "# this block is just to filter out non-utf8 text from the data set. it was causing the Vectorizer classes to fail\n",
    "train_dict = train[['id','text_clean','sentiment_class','nfl_type']]\n",
    "text_tokens = []\n",
    "text_ids = []\n",
    "text_classes = []\n",
    "text_nfl_type = []\n",
    "\n",
    "for index, row in train_dict.iterrows():\n",
    "    try:\n",
    "        # add lemitization\n",
    "        tokens = word_tokenize(gen_lemmatize(str(row['text_clean'])))\n",
    "        \n",
    "        text_tokens.append(tokens)\n",
    "        text_ids.append(row['id'])\n",
    "        text_classes.append(row['sentiment_class'])\n",
    "        text_nfl_type.append(row['nfl_type'])\n",
    "    except BaseException as be:\n",
    "        logger.warning(f'****WARNING***: Caught Exception Tokenizing text: {be}')\n",
    "        #pass\n"
   ]
  },
  {
   "cell_type": "code",
   "execution_count": 22,
   "metadata": {},
   "outputs": [
    {
     "data": {
      "text/plain": [
       "(9928, 4)"
      ]
     },
     "execution_count": 22,
     "metadata": {},
     "output_type": "execute_result"
    }
   ],
   "source": [
    "train_clean_df = pd.DataFrame()\n",
    "text = []\n",
    "for doc in text_tokens:\n",
    "    text.append(' '.join(doc))\n",
    "\n",
    "\n",
    "train_clean_df['id'] = text_ids\n",
    "train_clean_df['text'] = text\n",
    "train_clean_df['sentiment_class'] = text_classes\n",
    "train_clean_df['nfl_type'] = text_nfl_type\n",
    "train_clean_df.shape"
   ]
  },
  {
   "cell_type": "code",
   "execution_count": 23,
   "metadata": {},
   "outputs": [],
   "source": [
    "coaches_text = train_clean_df[train_clean_df['nfl_type']=='coach'].text\n",
    "players_text = train_clean_df[train_clean_df['nfl_type']=='player'].text\n",
    "teams_text = train_clean_df[train_clean_df['nfl_type']=='team'].text"
   ]
  },
  {
   "cell_type": "code",
   "execution_count": 24,
   "metadata": {},
   "outputs": [
    {
     "name": "stderr",
     "output_type": "stream",
     "text": [
      "coach_train_tf_vec_model shape: [(288, 222)]\n"
     ]
    }
   ],
   "source": [
    "# ---- TRAIN VECTORIZER COACHES-----#\n",
    "# build vectorizer from content\n",
    "#train_documents or test_documents - in-memory content for training versus pulling from hard disk\n",
    "# LDA can only use raw term counts for LDA because it is a probabilistic graphical model\n",
    "coach_train_tf_vectorizer = CountVectorizer(input='content',stop_words=stop_words, max_df=max_df, min_df=min_df, max_features=max_features,encoding=encoding)\n",
    "coach_train_tf_vec_model = coach_train_tf_vectorizer.fit_transform(coaches_text)\n",
    "coach_train_tf_vec_feature_names = coach_train_tf_vectorizer.get_feature_names()\n",
    "logger.info(f'coach_train_tf_vec_model shape: [{coach_train_tf_vec_model.shape}]')"
   ]
  },
  {
   "cell_type": "code",
   "execution_count": 25,
   "metadata": {},
   "outputs": [
    {
     "name": "stderr",
     "output_type": "stream",
     "text": [
      "player_train_tf_vec_model shape: [(4828, 1000)]\n"
     ]
    }
   ],
   "source": [
    "# ---- TRAIN VECTORIZER PLAYERS-----#\n",
    "# build vectorizer from content\n",
    "#train_documents or test_documents - in-memory content for training versus pulling from hard disk\n",
    "# LDA can only use raw term counts for LDA because it is a probabilistic graphical model\n",
    "player_train_tf_vectorizer = CountVectorizer(input='content',stop_words=stop_words, max_df=max_df, min_df=min_df, max_features=max_features,encoding=encoding)\n",
    "player_train_tf_vec_model = player_train_tf_vectorizer.fit_transform(players_text)\n",
    "player_train_tf_vec_feature_names = player_train_tf_vectorizer.get_feature_names()\n",
    "logger.info(f'player_train_tf_vec_model shape: [{player_train_tf_vec_model.shape}]')"
   ]
  },
  {
   "cell_type": "code",
   "execution_count": 26,
   "metadata": {},
   "outputs": [
    {
     "name": "stderr",
     "output_type": "stream",
     "text": [
      "team_train_tf_vec_model shape: [(4812, 1000)]\n"
     ]
    }
   ],
   "source": [
    "# ---- TRAIN VECTORIZER TEAMS-----#\n",
    "# build vectorizer from content\n",
    "#train_documents or test_documents - in-memory content for training versus pulling from hard disk\n",
    "# LDA can only use raw term counts for LDA because it is a probabilistic graphical model\n",
    "team_train_tf_vectorizer = CountVectorizer(input='content',stop_words=stop_words, max_df=max_df, min_df=min_df, max_features=max_features,encoding=encoding)\n",
    "team_train_tf_vec_model = team_train_tf_vectorizer.fit_transform(teams_text)\n",
    "team_train_tf_vec_feature_names = team_train_tf_vectorizer.get_feature_names()\n",
    "logger.info(f'team_train_tf_vec_model shape: [{team_train_tf_vec_model.shape}]')"
   ]
  },
  {
   "cell_type": "markdown",
   "metadata": {},
   "source": [
    "## Build Topic Models\n",
    "* [LDA](https://scikit-learn.org/stable/modules/generated/sklearn.decomposition.LatentDirichletAllocation.html)\n",
    "\n",
    "**from sklearn.decomposition import NMF, LatentDirichletAllocation, TruncatedSVD**"
   ]
  },
  {
   "cell_type": "markdown",
   "metadata": {},
   "source": [
    "#### Build a Latent Dirichlet Allocation Model\n",
    "object parameters:\n",
    "* LatentDirichletAllocation(n_components=10, doc_topic_prior=None, topic_word_prior=None, learning_method=’batch’, learning_decay=0.7, learning_offset=10.0, max_iter=10, batch_size=128, evaluate_every=-1, total_samples=1000000.0, perp_tol=0.1, mean_change_tol=0.001, max_doc_update_iter=100, n_jobs=None, verbose=0, random_state=None)\n",
    "\n",
    "Latent Dirichlet Allocation with online variational Bayes algorithm"
   ]
  },
  {
   "cell_type": "code",
   "execution_count": 27,
   "metadata": {},
   "outputs": [],
   "source": [
    "# LDA algorithm parameters\n",
    "n_topics = 10            # int, optional (default=10) - Number of Topics\n",
    "max_iter=5\n",
    "learning_method='online' # ‘batch’ | ‘online’, default=’batch’ -- Method used to update _component. Only used in fit method. In general, if the data size is large, the online update will be much faster than the batch update.\n",
    "learning_offset=50.\n",
    "random_state=42"
   ]
  },
  {
   "cell_type": "code",
   "execution_count": 28,
   "metadata": {},
   "outputs": [
    {
     "name": "stderr",
     "output_type": "stream",
     "text": [
      "Coach Elapsed time training LDA mode: [0.21228719999999868]\n",
      "Coach train_cong_lda_model shape: [(288, 10)]\n"
     ]
    }
   ],
   "source": [
    "# COACH --- instantiate the lda object\n",
    "coach_lda = LatentDirichletAllocation(n_components=n_topics, \n",
    "                                max_iter=max_iter, \n",
    "                                learning_method=learning_method, \n",
    "                                learning_offset=learning_offset,\n",
    "                                random_state=random_state)\n",
    "# build the lda model\n",
    "with br.elapsed_timer() as elapsed:\n",
    "    coach_train_cong_lda_model = coach_lda.fit_transform(coach_train_tf_vec_model)\n",
    "    logger.info(f'Coach Elapsed time training LDA mode: [{elapsed()}]')\n",
    "    logger.info(f'Coach train_cong_lda_model shape: [{coach_train_cong_lda_model.shape}]') #(NO_DOCUMENTS, NO_TOPICS)"
   ]
  },
  {
   "cell_type": "code",
   "execution_count": 29,
   "metadata": {},
   "outputs": [
    {
     "name": "stderr",
     "output_type": "stream",
     "text": [
      "Player Elapsed time training LDA mode: [2.6423711999999995]\n",
      "Player train_cong_lda_model shape: [(4828, 10)]\n"
     ]
    }
   ],
   "source": [
    "# PLAYER --- instantiate the lda object\n",
    "player_lda = LatentDirichletAllocation(n_components=n_topics, \n",
    "                                max_iter=max_iter, \n",
    "                                learning_method=learning_method, \n",
    "                                learning_offset=learning_offset,\n",
    "                                random_state=random_state)\n",
    "# build the lda model\n",
    "with br.elapsed_timer() as elapsed:\n",
    "    player_train_cong_lda_model = player_lda.fit_transform(player_train_tf_vec_model)\n",
    "    logger.info(f'Player Elapsed time training LDA mode: [{elapsed()}]')\n",
    "    logger.info(f'Player train_cong_lda_model shape: [{player_train_cong_lda_model.shape}]') #(NO_DOCUMENTS, NO_TOPICS)"
   ]
  },
  {
   "cell_type": "code",
   "execution_count": 30,
   "metadata": {},
   "outputs": [
    {
     "name": "stderr",
     "output_type": "stream",
     "text": [
      "Team Elapsed time training LDA mode: [2.7854177000000035]\n",
      "Team train_cong_lda_model shape: [(4812, 10)]\n"
     ]
    }
   ],
   "source": [
    "# TEAM ---- instantiate the lda object\n",
    "team_lda = LatentDirichletAllocation(n_components=n_topics, \n",
    "                                max_iter=max_iter, \n",
    "                                learning_method=learning_method, \n",
    "                                learning_offset=learning_offset,\n",
    "                                random_state=random_state)\n",
    "# build the lda model\n",
    "with br.elapsed_timer() as elapsed:\n",
    "    team_train_cong_lda_model = team_lda.fit_transform(team_train_tf_vec_model)\n",
    "    logger.info(f'Team Elapsed time training LDA mode: [{elapsed()}]')\n",
    "    logger.info(f'Team train_cong_lda_model shape: [{team_train_cong_lda_model.shape}]') #(NO_DOCUMENTS, NO_TOPICS)"
   ]
  },
  {
   "cell_type": "markdown",
   "metadata": {},
   "source": [
    "### Evaluate Topic Models"
   ]
  },
  {
   "cell_type": "code",
   "execution_count": 31,
   "metadata": {},
   "outputs": [
    {
     "name": "stderr",
     "output_type": "stream",
     "text": [
      "COACH LDA --- 1st doc in corpus:\n",
      " [0.03333345 0.03333354 0.03333358 0.03333349 0.03333344 0.03333373\n",
      " 0.03333694 0.03333344 0.69999497 0.03333342]\n",
      "PLAYER LDA --- 1st doc in corpus:\n",
      " [0.02500255 0.025      0.02500161 0.02500004 0.02500659 0.025\n",
      " 0.52662897 0.025      0.025      0.27336022]\n",
      "TEAM LDA --- 1st doc in corpus:\n",
      " [0.1 0.1 0.1 0.1 0.1 0.1 0.1 0.1 0.1 0.1]\n"
     ]
    }
   ],
   "source": [
    "# First document of each of the three model types\n",
    "logger.info(f'COACH LDA --- 1st doc in corpus:\\n {coach_train_cong_lda_model[0]}')\n",
    "logger.info(f'PLAYER LDA --- 1st doc in corpus:\\n {player_train_cong_lda_model[0]}')\n",
    "logger.info(f'TEAM LDA --- 1st doc in corpus:\\n {team_train_cong_lda_model[0]}')"
   ]
  },
  {
   "cell_type": "code",
   "execution_count": 32,
   "metadata": {},
   "outputs": [
    {
     "data": {
      "text/html": [
       "<div>\n",
       "<style scoped>\n",
       "    .dataframe tbody tr th:only-of-type {\n",
       "        vertical-align: middle;\n",
       "    }\n",
       "\n",
       "    .dataframe tbody tr th {\n",
       "        vertical-align: top;\n",
       "    }\n",
       "\n",
       "    .dataframe thead th {\n",
       "        text-align: right;\n",
       "    }\n",
       "</style>\n",
       "<table border=\"1\" class=\"dataframe\">\n",
       "  <thead>\n",
       "    <tr style=\"text-align: right;\">\n",
       "      <th></th>\n",
       "      <th>Topic</th>\n",
       "      <th>Top_10_Features</th>\n",
       "    </tr>\n",
       "  </thead>\n",
       "  <tbody>\n",
       "    <tr>\n",
       "      <th>0</th>\n",
       "      <td>0</td>\n",
       "      <td>stand always espn cornerback chronicle release...</td>\n",
       "    </tr>\n",
       "    <tr>\n",
       "      <th>1</th>\n",
       "      <td>1</td>\n",
       "      <td>week check seasonã start head coachgm letã blo...</td>\n",
       "    </tr>\n",
       "    <tr>\n",
       "      <th>2</th>\n",
       "      <td>2</td>\n",
       "      <td>trading away quite left franchise askingã what...</td>\n",
       "    </tr>\n",
       "    <tr>\n",
       "      <th>3</th>\n",
       "      <td>3</td>\n",
       "      <td>office oversee front rumble offseason fly some...</td>\n",
       "    </tr>\n",
       "    <tr>\n",
       "      <th>4</th>\n",
       "      <td>4</td>\n",
       "      <td>longterm move follow donã seem coach base week...</td>\n",
       "    </tr>\n",
       "  </tbody>\n",
       "</table>\n",
       "</div>"
      ],
      "text/plain": [
       "  Topic                                    Top_10_Features\n",
       "0     0  stand always espn cornerback chronicle release...\n",
       "1     1  week check seasonã start head coachgm letã blo...\n",
       "2     2  trading away quite left franchise askingã what...\n",
       "3     3  office oversee front rumble offseason fly some...\n",
       "4     4  longterm move follow donã seem coach base week..."
      ]
     },
     "execution_count": 32,
     "metadata": {},
     "output_type": "execute_result"
    }
   ],
   "source": [
    "# display top 10 words fitted to each of the topic model spaces\n",
    "coach_lda_top_10 = display_topics(coach_lda, coach_train_tf_vec_feature_names, no_top_words)\n",
    "coach_lda_top_10.to_csv(f'{outputDir}/coach_lda_top_10.csv', index=False)\n",
    "coach_lda_top_10.head()"
   ]
  },
  {
   "cell_type": "code",
   "execution_count": 33,
   "metadata": {},
   "outputs": [
    {
     "data": {
      "text/html": [
       "<div>\n",
       "<style scoped>\n",
       "    .dataframe tbody tr th:only-of-type {\n",
       "        vertical-align: middle;\n",
       "    }\n",
       "\n",
       "    .dataframe tbody tr th {\n",
       "        vertical-align: top;\n",
       "    }\n",
       "\n",
       "    .dataframe thead th {\n",
       "        text-align: right;\n",
       "    }\n",
       "</style>\n",
       "<table border=\"1\" class=\"dataframe\">\n",
       "  <thead>\n",
       "    <tr style=\"text-align: right;\">\n",
       "      <th></th>\n",
       "      <th>Topic</th>\n",
       "      <th>Top_10_Features</th>\n",
       "    </tr>\n",
       "  </thead>\n",
       "  <tbody>\n",
       "    <tr>\n",
       "      <th>0</th>\n",
       "      <td>0</td>\n",
       "      <td>draft trade season electric pick accuracy tco ...</td>\n",
       "    </tr>\n",
       "    <tr>\n",
       "      <th>1</th>\n",
       "      <td>1</td>\n",
       "      <td>need hof hou det reach attention marino fewest...</td>\n",
       "    </tr>\n",
       "    <tr>\n",
       "      <th>2</th>\n",
       "      <td>2</td>\n",
       "      <td>int start starter national tds come make back ...</td>\n",
       "    </tr>\n",
       "    <tr>\n",
       "      <th>3</th>\n",
       "      <td>3</td>\n",
       "      <td>qbs defense face last next falk take break run...</td>\n",
       "    </tr>\n",
       "    <tr>\n",
       "      <th>4</th>\n",
       "      <td>4</td>\n",
       "      <td>calculate valuation recent clemson birthday hi...</td>\n",
       "    </tr>\n",
       "  </tbody>\n",
       "</table>\n",
       "</div>"
      ],
      "text/plain": [
       "  Topic                                    Top_10_Features\n",
       "0     0  draft trade season electric pick accuracy tco ...\n",
       "1     1  need hof hou det reach attention marino fewest...\n",
       "2     2  int start starter national tds come make back ...\n",
       "3     3  qbs defense face last next falk take break run...\n",
       "4     4  calculate valuation recent clemson birthday hi..."
      ]
     },
     "execution_count": 33,
     "metadata": {},
     "output_type": "execute_result"
    }
   ],
   "source": [
    "player_lda_top_10 = display_topics(player_lda, player_train_tf_vec_feature_names, no_top_words)\n",
    "player_lda_top_10.to_csv(f'{outputDir}/player_lda_top_10.csv', index=False)\n",
    "player_lda_top_10.head()"
   ]
  },
  {
   "cell_type": "code",
   "execution_count": 34,
   "metadata": {},
   "outputs": [
    {
     "data": {
      "text/html": [
       "<div>\n",
       "<style scoped>\n",
       "    .dataframe tbody tr th:only-of-type {\n",
       "        vertical-align: middle;\n",
       "    }\n",
       "\n",
       "    .dataframe tbody tr th {\n",
       "        vertical-align: top;\n",
       "    }\n",
       "\n",
       "    .dataframe thead th {\n",
       "        text-align: right;\n",
       "    }\n",
       "</style>\n",
       "<table border=\"1\" class=\"dataframe\">\n",
       "  <thead>\n",
       "    <tr style=\"text-align: right;\">\n",
       "      <th></th>\n",
       "      <th>Topic</th>\n",
       "      <th>Top_10_Features</th>\n",
       "    </tr>\n",
       "  </thead>\n",
       "  <tbody>\n",
       "    <tr>\n",
       "      <th>0</th>\n",
       "      <td>0</td>\n",
       "      <td>game report team injury week fan friday amp st...</td>\n",
       "    </tr>\n",
       "    <tr>\n",
       "      <th>1</th>\n",
       "      <td>1</td>\n",
       "      <td>sign roster place active practice list squad r...</td>\n",
       "    </tr>\n",
       "    <tr>\n",
       "      <th>2</th>\n",
       "      <td>2</td>\n",
       "      <td>october come join welcome detail conroe saturd...</td>\n",
       "    </tr>\n",
       "    <tr>\n",
       "      <th>3</th>\n",
       "      <td>3</td>\n",
       "      <td>week game texas preview beat matchup tomorrow ...</td>\n",
       "    </tr>\n",
       "    <tr>\n",
       "      <th>4</th>\n",
       "      <td>4</td>\n",
       "      <td>work get texas want back drop democrat stop fe...</td>\n",
       "    </tr>\n",
       "  </tbody>\n",
       "</table>\n",
       "</div>"
      ],
      "text/plain": [
       "  Topic                                    Top_10_Features\n",
       "0     0  game report team injury week fan friday amp st...\n",
       "1     1  sign roster place active practice list squad r...\n",
       "2     2  october come join welcome detail conroe saturd...\n",
       "3     3  week game texas preview beat matchup tomorrow ...\n",
       "4     4  work get texas want back drop democrat stop fe..."
      ]
     },
     "execution_count": 34,
     "metadata": {},
     "output_type": "execute_result"
    }
   ],
   "source": [
    "team_lda_top_10 = display_topics(team_lda, team_train_tf_vec_feature_names, no_top_words)\n",
    "team_lda_top_10.to_csv(f'{outputDir}/team_lda_top_10.csv', index=False)\n",
    "team_lda_top_10.head()"
   ]
  },
  {
   "cell_type": "markdown",
   "metadata": {},
   "source": [
    "### Evaluate Topic Models Visually\n"
   ]
  },
  {
   "cell_type": "code",
   "execution_count": 35,
   "metadata": {},
   "outputs": [
    {
     "data": {
      "text/html": [
       "\n",
       "<link rel=\"stylesheet\" type=\"text/css\" href=\"https://cdn.rawgit.com/bmabey/pyLDAvis/files/ldavis.v1.0.0.css\">\n",
       "\n",
       "\n",
       "<div id=\"ldavis_el1833616369689472885560277313\"></div>\n",
       "<script type=\"text/javascript\">\n",
       "\n",
       "var ldavis_el1833616369689472885560277313_data = {\"mdsDat\": {\"x\": [-51.741539001464844, -175.26498413085938, 167.16632080078125, -73.39639282226562, 65.30048370361328, 43.6438102722168, -40.96125030517578, 32.8614616394043, -158.6022491455078, 150.50137329101562], \"y\": [68.9183349609375, 1.577359676361084, 74.5519790649414, -69.13407897949219, 145.2681121826172, 7.214017868041992, 209.18826293945312, -133.06028747558594, 138.04405212402344, -61.91469955444336], \"topics\": [1, 2, 3, 4, 5, 6, 7, 8, 9, 10], \"cluster\": [1, 1, 1, 1, 1, 1, 1, 1, 1, 1], \"Freq\": [30.70217139921112, 15.506579223900557, 10.874932075001857, 8.424190664450748, 7.388321643119264, 7.006403490769643, 6.923007505406476, 6.789363325586782, 4.193574394383467, 2.191456278170097]}, \"tinfo\": {\"Category\": [\"Default\", \"Default\", \"Default\", \"Default\", \"Default\", \"Default\", \"Default\", \"Default\", \"Default\", \"Default\", \"Default\", \"Default\", \"Default\", \"Default\", \"Default\", \"Default\", \"Default\", \"Default\", \"Default\", \"Default\", \"Default\", \"Default\", \"Default\", \"Default\", \"Default\", \"Default\", \"Default\", \"Default\", \"Default\", \"Default\", \"Topic1\", \"Topic1\", \"Topic1\", \"Topic1\", \"Topic1\", \"Topic1\", \"Topic1\", \"Topic1\", \"Topic1\", \"Topic1\", \"Topic1\", \"Topic1\", \"Topic1\", \"Topic1\", \"Topic1\", \"Topic1\", \"Topic1\", \"Topic1\", \"Topic1\", \"Topic1\", \"Topic1\", \"Topic1\", \"Topic1\", \"Topic1\", \"Topic1\", \"Topic1\", \"Topic1\", \"Topic1\", \"Topic1\", \"Topic1\", \"Topic1\", \"Topic1\", \"Topic2\", \"Topic2\", \"Topic2\", \"Topic2\", \"Topic2\", \"Topic2\", \"Topic2\", \"Topic2\", \"Topic2\", \"Topic2\", \"Topic2\", \"Topic2\", \"Topic2\", \"Topic2\", \"Topic2\", \"Topic2\", \"Topic2\", \"Topic2\", \"Topic2\", \"Topic2\", \"Topic2\", \"Topic2\", \"Topic2\", \"Topic2\", \"Topic2\", \"Topic2\", \"Topic2\", \"Topic2\", \"Topic2\", \"Topic2\", \"Topic2\", \"Topic2\", \"Topic2\", \"Topic3\", \"Topic3\", \"Topic3\", \"Topic3\", \"Topic3\", \"Topic3\", \"Topic3\", \"Topic3\", \"Topic3\", \"Topic3\", \"Topic3\", \"Topic3\", \"Topic3\", \"Topic3\", \"Topic3\", \"Topic3\", \"Topic3\", \"Topic3\", \"Topic3\", \"Topic3\", \"Topic3\", \"Topic3\", \"Topic3\", \"Topic3\", \"Topic3\", \"Topic3\", \"Topic3\", \"Topic3\", \"Topic3\", \"Topic3\", \"Topic3\", \"Topic3\", \"Topic3\", \"Topic3\", \"Topic3\", \"Topic4\", \"Topic4\", \"Topic4\", \"Topic4\", \"Topic4\", \"Topic4\", \"Topic4\", \"Topic4\", \"Topic4\", \"Topic4\", \"Topic4\", \"Topic4\", \"Topic4\", \"Topic4\", \"Topic4\", \"Topic4\", \"Topic4\", \"Topic4\", \"Topic4\", \"Topic4\", \"Topic4\", \"Topic4\", \"Topic4\", \"Topic4\", \"Topic4\", \"Topic4\", \"Topic4\", \"Topic4\", \"Topic4\", \"Topic4\", \"Topic4\", \"Topic4\", \"Topic4\", \"Topic4\", \"Topic4\", \"Topic4\", \"Topic4\", \"Topic4\", \"Topic4\", \"Topic4\", \"Topic4\", \"Topic4\", \"Topic4\", \"Topic4\", \"Topic4\", \"Topic4\", \"Topic4\", \"Topic5\", \"Topic5\", \"Topic5\", \"Topic5\", \"Topic5\", \"Topic5\", \"Topic5\", \"Topic5\", \"Topic5\", \"Topic5\", \"Topic5\", \"Topic5\", \"Topic5\", \"Topic5\", \"Topic5\", \"Topic5\", \"Topic5\", \"Topic5\", \"Topic5\", \"Topic5\", \"Topic5\", \"Topic5\", \"Topic5\", \"Topic5\", \"Topic5\", \"Topic5\", \"Topic5\", \"Topic5\", \"Topic5\", \"Topic5\", \"Topic5\", \"Topic5\", \"Topic5\", \"Topic6\", \"Topic6\", \"Topic6\", \"Topic6\", \"Topic6\", \"Topic6\", \"Topic6\", \"Topic6\", \"Topic6\", \"Topic6\", \"Topic6\", \"Topic6\", \"Topic6\", \"Topic6\", \"Topic6\", \"Topic6\", \"Topic6\", \"Topic6\", \"Topic6\", \"Topic6\", \"Topic6\", \"Topic6\", \"Topic6\", \"Topic6\", \"Topic6\", \"Topic6\", \"Topic6\", \"Topic6\", \"Topic6\", \"Topic6\", \"Topic6\", \"Topic6\", \"Topic6\", \"Topic6\", \"Topic7\", \"Topic7\", \"Topic7\", \"Topic7\", \"Topic7\", \"Topic7\", \"Topic7\", \"Topic7\", \"Topic7\", \"Topic7\", \"Topic7\", \"Topic7\", \"Topic7\", \"Topic7\", \"Topic7\", \"Topic7\", \"Topic7\", \"Topic7\", \"Topic7\", \"Topic7\", \"Topic7\", \"Topic7\", \"Topic7\", \"Topic7\", \"Topic7\", \"Topic7\", \"Topic7\", \"Topic7\", \"Topic7\", \"Topic7\", \"Topic7\", \"Topic7\", \"Topic7\", \"Topic7\", \"Topic7\", \"Topic7\", \"Topic7\", \"Topic7\", \"Topic7\", \"Topic7\", \"Topic7\", \"Topic7\", \"Topic7\", \"Topic7\", \"Topic7\", \"Topic8\", \"Topic8\", \"Topic8\", \"Topic8\", \"Topic8\", \"Topic8\", \"Topic8\", \"Topic8\", \"Topic8\", \"Topic8\", \"Topic8\", \"Topic8\", \"Topic8\", \"Topic8\", \"Topic8\", \"Topic8\", \"Topic8\", \"Topic8\", \"Topic8\", \"Topic8\", \"Topic8\", \"Topic8\", \"Topic8\", \"Topic8\", \"Topic8\", \"Topic8\", \"Topic8\", \"Topic8\", \"Topic8\", \"Topic8\", \"Topic8\", \"Topic8\", \"Topic8\", \"Topic9\", \"Topic9\", \"Topic9\", \"Topic9\", \"Topic9\", \"Topic9\", \"Topic9\", \"Topic9\", \"Topic9\", \"Topic9\", \"Topic9\", \"Topic9\", \"Topic9\", \"Topic9\", \"Topic9\", \"Topic9\", \"Topic9\", \"Topic9\", \"Topic9\", \"Topic9\", \"Topic9\", \"Topic9\", \"Topic9\", \"Topic9\", \"Topic9\", \"Topic9\", \"Topic9\", \"Topic9\", \"Topic9\", \"Topic9\", \"Topic9\", \"Topic9\", \"Topic9\", \"Topic10\", \"Topic10\", \"Topic10\", \"Topic10\", \"Topic10\", \"Topic10\", \"Topic10\", \"Topic10\", \"Topic10\", \"Topic10\", \"Topic10\", \"Topic10\", \"Topic10\", \"Topic10\", \"Topic10\", \"Topic10\", \"Topic10\", \"Topic10\", \"Topic10\", \"Topic10\", \"Topic10\", \"Topic10\", \"Topic10\", \"Topic10\", \"Topic10\", \"Topic10\", \"Topic10\", \"Topic10\", \"Topic10\", \"Topic10\", \"Topic10\", \"Topic10\", \"Topic10\", \"Topic10\", \"Topic10\", \"Topic10\", \"Topic10\", \"Topic10\", \"Topic10\", \"Topic10\", \"Topic10\", \"Topic10\", \"Topic10\", \"Topic10\", \"Topic10\", \"Topic10\", \"Topic10\", \"Topic10\", \"Topic10\", \"Topic10\", \"Topic10\", \"Topic10\", \"Topic10\"], \"Freq\": [39.0, 24.0, 35.0, 25.0, 18.0, 15.0, 50.0, 14.0, 14.0, 14.0, 15.0, 12.0, 12.0, 15.0, 39.0, 14.0, 14.0, 13.0, 13.0, 13.0, 13.0, 9.0, 16.0, 9.0, 11.0, 16.0, 11.0, 9.0, 9.0, 9.0, 45.040699521167326, 20.688744261296915, 18.595366869296395, 19.691715947054014, 18.54106483719773, 19.687570778652294, 19.673515681119063, 18.630224314442597, 18.608857321671884, 18.739495465425104, 15.20892481172594, 21.069201134123254, 20.08003512181118, 13.890133383363887, 9.910067654098482, 11.014983008023568, 8.64596453472005, 5.419301465406261, 21.4181127491789, 19.01109284712213, 3.6675465468606245, 3.333670252609812, 3.201366899259473, 19.637813458126708, 2.980026765607233, 2.9310089765033807, 3.366739469060358, 11.60270900473589, 3.090595038964474, 3.025159433385185, 3.35156172477191, 3.08428755272221, 21.78521292050228, 13.22642501001371, 13.62176620598703, 12.6719697187416, 10.625073915557985, 10.070842669167401, 10.637348331545141, 5.051757349060461, 3.0241988284634336, 2.942157303776166, 2.5391145123633465, 2.625296936404445, 2.56192046992553, 2.374570258842443, 17.30300680897475, 2.166026699453531, 2.6050471443035703, 2.6595123299400645, 2.5639360555542923, 2.6759164189909863, 2.596324530299943, 2.4238665209531765, 10.727853195960734, 1.677641603556039, 1.5438364713535557, 1.658659731311015, 2.5965741513225558, 0.9990611301940897, 1.0728054917729422, 1.0689184432168095, 1.612055832596057, 1.1037607608286242, 1.1107785321522796, 12.394929977770614, 10.93038184312324, 10.916407560589715, 10.363361243191035, 12.017426426535035, 10.382293617979686, 10.364546477323204, 10.44114608460643, 3.420703160131738, 1.9900975584073388, 2.033378353699283, 1.9568215727528473, 1.9215701331449733, 13.486523283532334, 1.4088842716806578, 1.40931841923213, 1.4044300430950434, 2.498200666453042, 1.397039683325176, 1.3626686773466268, 1.3615871355553095, 1.1699528582044794, 1.1792383761539669, 1.1552717282968676, 1.097160812249335, 0.880526035559358, 1.1777303421297907, 0.8382449509207537, 0.794023939810099, 0.799733911345032, 1.9727447178492532, 0.8828717547056599, 1.0865934596385614, 1.0801402015851291, 0.914368347211379, 10.483511832394406, 10.25516953246524, 10.99978945768649, 10.25527561922901, 11.165670015424249, 21.7935273604145, 10.236173642191888, 10.571552940228617, 1.2690932840446774, 1.2542100673319772, 1.2610627682502087, 0.9523182670518395, 0.9856579235996217, 0.7963166522746845, 0.7659824211166788, 0.8085729534928056, 0.8072145731085926, 0.6456258388483421, 0.296195429687295, 0.23820502743688363, 0.22681863265022792, 0.2563444272394283, 0.24954251604236294, 0.2532784492084586, 0.2798887881180354, 0.260030390453151, 0.2555869637715151, 0.2313753796414554, 0.2489323950243348, 0.2600996777926774, 1.2176223781734825, 0.26856365567655743, 0.3009721615428671, 0.28297880111730517, 0.3090868024727589, 0.5005336008080424, 0.5040716702499822, 0.4859597373272124, 0.4835982043737228, 0.49108282707166717, 0.4666340545574096, 0.4655474579142557, 0.46526216589984926, 0.45878603454243455, 0.5062202816166732, 0.5290046208439834, 0.48624360634070773, 8.694270540187636, 8.674215784261268, 3.1748579333170146, 2.4944198630702417, 1.7887753973804745, 1.6540583632379986, 1.4620451959278717, 1.4603940084197864, 1.4444169710010337, 1.4663409797355287, 1.4799925692294786, 1.4403052743560532, 1.4635912616401456, 1.537513907991625, 1.5152460262905412, 1.4332913623343668, 1.2822734442386616, 1.1365397045278218, 1.1294698518418045, 1.126230319427261, 1.1347633937564208, 1.1063967045591574, 1.0386272797069775, 1.0728817064679663, 0.9134412243067217, 0.8828467332581198, 0.8612192448968455, 1.0837723232408194, 0.7746367197644226, 0.74701490098705, 1.0950635990619684, 1.0440870992634566, 1.4144618459084937, 2.2576108282558667, 2.210602001813957, 2.2568922081649085, 2.2649498528399814, 3.329647909266833, 1.8162408144518405, 1.8272789728622503, 1.799522910383708, 1.7864577330009923, 1.7386101946143169, 1.7836404051072379, 1.8061158336200152, 1.460728730194547, 1.4559557515669195, 1.472348964992098, 1.4866343790061747, 1.488193976299033, 1.4683261249894064, 1.4123314586012425, 1.466878216270551, 2.2615955972070068, 1.5279696790428494, 2.2041245920522896, 1.533401562101034, 2.219058508626347, 0.7638340449387888, 0.7628944618542985, 0.7291263909338268, 0.7287283608939302, 0.7411660476748783, 2.2050607314463746, 1.1724310763472625, 1.5353658745228178, 0.8491453117933413, 6.746533412944981, 6.465444583763909, 6.477601565230445, 6.426253129823342, 6.4185210972633735, 6.444720627802275, 6.459322824018352, 2.182156288033567, 1.796844424319648, 2.0533837432169504, 1.7811976118712318, 1.8013505877013063, 1.0260370592230141, 0.6694741137186915, 0.6113845326079724, 0.7116212727053539, 0.43713360901223264, 0.4166636917530306, 0.4104891313026791, 0.4125590268717418, 0.38781500411166286, 0.42553368201791525, 0.36284647951972926, 0.3953373012929513, 0.3670168483701254, 0.39962097634977056, 0.31606377082648324, 0.3623321108354767, 0.37459420272576516, 0.3729491660343074, 0.36534765435522115, 0.43020657825097525, 0.4111157237481653, 0.42204173678028895, 0.4005742986762448, 0.47889244098914513, 0.4294727376813059, 0.47055868444935844, 0.4304386968259134, 0.47815933494809953, 0.46239739094194093, 0.4344246484458299, 0.45553316462742743, 0.41941812663456063, 0.41977364134466205, 4.040728838653517, 4.352042746843287, 3.299294000153851, 2.0100080317257008, 3.8529538909898093, 1.7020961786452422, 1.4987468276163443, 1.4589626135002751, 1.4347378059354254, 1.6924424897721426, 1.3551424547994926, 1.339702597707992, 2.0408318961942733, 1.3154991675941525, 1.3136730383727955, 1.0857735593098339, 1.0235418999546726, 1.061839985088531, 1.0563707367715116, 1.702421319632055, 1.3248023034801275, 1.3335662154829087, 1.0046150162409087, 0.9958506551818075, 0.9937738301336743, 0.9912573660949726, 0.980363629031438, 0.9691751854997886, 0.966426761514983, 0.8695601136548652, 1.462844674491865, 1.0312137694532437, 1.0012529029988275, 2.680239799751625, 2.508557536655787, 2.487069338261361, 2.4853973144052244, 2.5051174933548914, 2.474094559772086, 2.4975175986063274, 1.9679760581513284, 2.4900721101667047, 1.8006043347371752, 1.8350476948973764, 1.812498095875965, 1.7868171173565268, 1.063069126519809, 0.7801322541766643, 0.7782218401759987, 0.7448178993646217, 0.5796282151850799, 0.5983653201390836, 0.4053400129502419, 0.3659988197294327, 0.373127575578821, 0.8443194503186756, 0.31542984154829745, 0.30656105280456064, 0.3728096146183462, 0.3362028362633343, 0.29117497927981156, 0.30917931669478593, 0.27699283876325304, 0.3275565230659159, 0.2986882057532156, 0.30453192003979795, 0.9612929514612168, 0.8921841396791353, 0.8926212897967027, 0.4284764668586878, 0.4395646398506927, 0.4608421849317354, 0.8932169901809227, 0.18687126376649002, 0.223268373360793, 0.17614642010198778, 0.19676248846111022, 0.17552391882629673, 0.1897346775628048, 0.17004705580313906, 0.19765393026720002, 0.18034694027950812, 0.17915502611980272, 0.17140668464003184, 0.1730865796488257, 0.19523287948696486, 0.18013497600593004, 0.16514588052708923, 0.1914429968027845, 0.167311015971684, 0.18340748203471505, 0.1630289485652735, 0.1704738583805294, 0.16801899355496894, 0.15917057306887386, 0.1532273252073079, 0.18303155114778183, 0.16994533191741665, 0.2084915250123318, 0.17953426266269712, 0.1915404776195156, 0.19296806342094408, 0.18448940845874823, 0.17775341916258275, 0.1907815209959272, 0.28093663306938266, 0.18108052956835488, 0.257420455672449, 0.2724451255590273, 0.1917025232271132, 0.21424237570337476, 0.22893136332806815, 0.20634840272685592, 0.1946989485708684, 0.19350729156743088, 0.19078641257877424, 0.1946358810720827, 0.19269623825521148, 0.19150892497793862], \"Term\": [\"trading\", \"want\", \"left\", \"direction\", \"away\", \"quite\", \"trade\", \"franchise\", \"what\\u00e3\", \"asking\\u00e3\", \"average\", \"stand\", \"always\", \"offensive\", \"get\", \"wide\", \"goodnotgreat\", \"receiver\", \"pick\", \"wealth\", \"draft\", \"week\", \"try\", \"check\", \"head\", \"better\", \"start\", \"season\\u00e3\", \"coachgm\", \"let\\u00e3\", \"trade\", \"houston\\u00e3\", \"tackle\", \"question\", \"process\", \"slew\", \"beg\", \"land\", \"week\\u00e3\", \"obj\", \"lack\", \"saturday\", \"deal\", \"frantic\", \"vision\", \"texans\\u00e3\", \"franchise\\u00e3\", \"seismic\", \"left\", \"mmqb\", \"breaking\", \"wondering\\u00e3\", \"bring\", \"get\", \"rent\", \"exactly\", \"think\", \"direction\", \"interested\", \"player\", \"away\", \"plan\", \"want\", \"better\", \"try\", \"roster\", \"wild\", \"task\", \"weekend\", \"give\", \"credit\", \"time\", \"praise\", \"fickleness\", \"maintain\", \"high\", \"get\", \"know\", \"worth\", \"sort\", \"really\", \"sensible\", \"follow\", \"everythingsport\", \"mmqb\", \"world\", \"sunday\", \"expect\", \"plan\", \"trend\", \"call\", \"support\", \"head\", \"player\", \"fan\", \"average\", \"wide\", \"goodnotgreat\", \"receiver\", \"offensive\", \"pick\", \"draft\", \"wealth\", \"astro\", \"bargain\", \"hold\", \"need\", \"end\", \"trading\", \"busy\", \"corydlg\", \"good\\u00e3\", \"game\", \"volunteer\", \"soccer\", \"sec\", \"come\", \"video\", \"lot\", \"great\\u00e3\", \"share\", \"apology\", \"dub\", \"naturally\", \"yard\", \"start\", \"icymi\", \"quite\", \"away\", \"asking\\u00e3\", \"franchise\", \"what\\u00e3\", \"quite\", \"asking\\u00e3\", \"away\", \"trading\", \"direction\", \"left\", \"feel\", \"fit\", \"go\", \"play\", \"call\", \"usual\", \"signale\", \"tomorrow\", \"business\", \"despit\\u00e3\", \"video\", \"rwc\", \"smartest\", \"trend\", \"yard\", \"action\", \"good\\u00e3\", \"final\", \"lot\", \"ahead\", \"houstontexan\", \"great\\u00e3\", \"saturday\", \"volunteer\", \"decision\", \"drive\", \"astro\", \"week\\u00e3\", \"question\", \"process\", \"obj\", \"slew\", \"tackle\", \"land\", \"houston\\u00e3\", \"beg\", \"mmqb\", \"get\", \"trade\", \"stand\", \"always\", \"espn\", \"cornerback\", \"chronicle\", \"release\", \"announce\", \"accidentally\", \"presser\", \"speak\", \"reporter\", \"crossen\\u00e3\", \"bob\", \"football\", \"talk\", \"purpose\", \"opposed\", \"for\\u00e3\", \"safety\", \"connect\", \"allpro\", \"sound\", \"nflnews\", \"briefly\", \"press\", \"conference\", \"slip\", \"blog\", \"houstontexan\", \"trend\", \"offseason\", \"interested\", \"coach\", \"don\\u00e3\", \"base\", \"seem\", \"move\", \"longterm\", \"asleep\", \"headscratch\", \"wheel\", \"ownership\", \"matter\", \"let\", \"make\", \"preview\", \"lead\", \"allin\", \"run\", \"issue\", \"explain\", \"protect\", \"plan\\u00e3\", \"follow\", \"season\", \"sensible\", \"really\", \"coach\", \"cup\", \"app\", \"rugby\", \"support\", \"world\", \"weekend\", \"plan\", \"trade\", \"head\", \"week\", \"season\\u00e3\", \"check\", \"coachgm\", \"let\\u00e3\", \"head\", \"start\", \"blog\", \"era\", \"decision\", \"back\\u00e3\", \"post\", \"nan\", \"move\", \"say\", \"astro\", \"for\\u00e3\", \"share\", \"yard\", \"runrunpasspunt\", \"app\", \"bob\", \"naturally\", \"briefly\", \"article\", \"accidentally\", \"scenario\", \"nflnews\", \"even\", \"business\", \"rugby\", \"talk\", \"purpose\", \"icymi\", \"good\\u00e3\", \"bring\", \"espn\", \"plan\", \"wondering\\u00e3\", \"always\", \"away\", \"texans\\u00e3\", \"get\", \"average\", \"trade\", \"letter\", \"fan\", \"game\", \"reason\", \"coach\", \"open\", \"social\", \"protest\", \"back\", \"apology\", \"hear\", \"hurt\", \"everythingsport\", \"kick\", \"mind\", \"less\", \"amp\", \"gimm\", \"action\", \"sort\", \"say\", \"expect\", \"runrunpasspunt\", \"maqb\", \"conlon\", \"holiday\", \"that\\u00e3\", \"craft\", \"hectic\", \"right\", \"player\", \"think\", \"give\", \"office\", \"oversee\", \"fly\", \"someone\", \"front\", \"blindly\", \"rumble\", \"drive\", \"offseason\", \"bus\", \"school\", \"toddler\", \"dexterity\", \"final\", \"ahead\", \"wear\", \"cap\", \"rwc\", \"support\", \"year\", \"cup\", \"rugby\", \"coach\", \"slip\", \"press\", \"world\", \"mind\", \"conference\", \"sit\", \"frenzied\", \"say\", \"center\", \"trade\", \"article\", \"even\", \"worth\", \"scenario\", \"smartest\", \"room\", \"plan\", \"usual\", \"matter\", \"year\", \"hectic\", \"ahead\", \"safety\", \"rwc\", \"play\", \"action\", \"trend\", \"wear\", \"rugby\", \"call\", \"come\", \"slip\", \"good\\u00e3\", \"maqb\", \"great\\u00e3\", \"share\", \"houstontexan\", \"holiday\", \"nan\", \"cup\", \"issue\", \"sound\", \"praise\", \"reporter\", \"need\", \"high\", \"go\", \"fit\", \"make\", \"texans\\u00e3\", \"talk\", \"houston\\u00e3\", \"get\", \"really\", \"beg\", \"trade\", \"slew\", \"draft\", \"receiver\", \"coach\", \"question\", \"deal\", \"trading\"], \"Total\": [39.0, 24.0, 35.0, 25.0, 18.0, 15.0, 50.0, 14.0, 14.0, 14.0, 15.0, 12.0, 12.0, 15.0, 39.0, 14.0, 14.0, 13.0, 13.0, 13.0, 13.0, 9.0, 16.0, 9.0, 11.0, 16.0, 11.0, 9.0, 9.0, 9.0, 50.01942224840501, 24.13553525746855, 21.805097472976502, 23.098624995033255, 21.78598878028198, 23.178243792948923, 23.17620116687403, 21.957203369285693, 22.019695438622417, 22.219854103878475, 18.101855325502523, 25.26106167454198, 24.086333514612942, 16.830462564896944, 12.791344085517487, 14.722617077420555, 11.822001034060877, 8.37407246885048, 35.608297100405224, 32.64072941451971, 6.622575377001235, 6.631801121290987, 6.4753815677889905, 39.81934353753386, 6.081606832167697, 6.014919571268971, 7.011290669578553, 25.12111759816533, 6.718587040711155, 7.508129582591593, 18.199858162310566, 9.69792509649892, 24.776907029017938, 16.133140348342852, 16.771355184052762, 15.854920331594203, 13.792807350671819, 13.254584249242129, 16.094552502649528, 8.975945351864327, 6.190093050951771, 6.243107598170188, 5.651157615735802, 5.917427665685043, 5.834320847453143, 5.453665874494538, 39.81934353753386, 5.190138228935822, 6.618305830634627, 7.013295094772848, 6.879069381980729, 7.628511600088392, 7.593874695410589, 7.215969340723333, 32.64072941451971, 5.2051783990842, 4.922803797571566, 5.6073637395098626, 9.69792509649892, 4.3371346688921175, 4.8471493265874335, 4.839197001138895, 11.29290519902167, 7.508129582591593, 8.571107902936111, 15.96557144059581, 14.163397405259293, 14.21246890142324, 13.563205253393106, 15.753981434755872, 13.68129516050096, 13.768092049383995, 13.977054257872238, 6.977843880951563, 5.296545115626185, 5.415031000647846, 5.241786838687533, 5.423011992706078, 39.28445388319266, 4.81550509693464, 4.861515135371312, 4.867287056163378, 8.80699874614621, 4.934730779564267, 4.831403726288787, 4.863488158058098, 4.478947118703631, 4.531009870183648, 4.4795227815632295, 4.69715503487924, 4.200232566489178, 5.772048107785063, 4.169220455611209, 4.115454217988403, 4.231403727092996, 11.672325095079335, 5.081004972902036, 15.528492650842589, 18.199858162310566, 14.708708511774603, 14.663666555117603, 14.429974948688871, 15.528492650842589, 14.708708511774603, 18.199858162310566, 39.28445388319266, 25.12111759816533, 35.608297100405224, 4.6949607068874295, 4.805346581958011, 5.166691935521564, 4.626334350843833, 4.8471493265874335, 4.117250210435868, 3.9719690306957847, 4.221927330776747, 4.37662125339247, 3.9547101963285107, 4.531009870183648, 3.9634553701052058, 3.826453680425339, 4.3371346688921175, 4.231403727092996, 4.329046885524022, 4.867287056163378, 4.539739779381499, 4.4795227815632295, 4.073127497631727, 4.393821481062191, 4.69715503487924, 25.26106167454198, 4.934730779564267, 5.91196139984679, 5.388273828609522, 6.977843880951563, 22.019695438622417, 23.098624995033255, 21.78598878028198, 22.219854103878475, 23.178243792948923, 21.805097472976502, 21.957203369285693, 24.13553525746855, 23.17620116687403, 32.64072941451971, 39.81934353753386, 50.01942224840501, 12.534710067571968, 12.61853072081804, 6.453789558340161, 5.742896511022275, 4.963638399924486, 4.899325956094363, 4.606002467487048, 4.655417303034374, 4.620384445923793, 4.69282979190377, 4.756871582928159, 4.744208219800708, 4.8249343794671855, 5.116310686200844, 5.100658198935763, 4.910558811435226, 4.572316669658879, 4.366673243118754, 4.4204110901318066, 4.452863995024655, 4.53073051597963, 4.451893269338102, 4.248101521114754, 4.496474017476404, 4.258172391463537, 4.126756747976512, 4.183121170357017, 6.0209127143308265, 4.393821481062191, 4.3371346688921175, 6.979240328404642, 6.718587040711155, 10.77996510903572, 5.426597320833153, 5.430863293931895, 5.547468661483676, 5.735872705683411, 8.732637647225278, 4.94577947912009, 5.111643848963853, 5.059130858497647, 5.063015050529214, 4.9332487658511015, 5.12153656644926, 5.651092910424521, 4.60242028649459, 4.626508898677155, 4.68730193652725, 4.746172208993057, 4.7765241326164825, 4.735293319960037, 4.57330987602996, 4.783607867399525, 7.593874695410589, 5.17676069651957, 7.628511600088392, 6.879069381980729, 10.77996510903572, 3.981502223183835, 4.239919422390605, 4.291062217017615, 4.839197001138895, 5.2051783990842, 16.094552502649528, 9.69792509649892, 50.01942224840501, 11.29290519902167, 9.947215467556049, 9.617136025822758, 9.790470195732247, 9.753838729450239, 9.870241804440122, 11.29290519902167, 11.672325095079335, 6.0209127143308265, 5.1077162341621225, 5.91196139984679, 5.140152485394652, 5.227094626068165, 4.130436899805803, 5.735872705683411, 5.4759801945407345, 6.977843880951563, 4.366673243118754, 4.200232566489178, 4.231403727092996, 4.2932493751530165, 4.239919422390605, 4.8249343794671855, 4.115454217988403, 4.496474017476404, 4.258459910162629, 4.655417303034374, 3.704956527330193, 4.248101521114754, 4.392254281262921, 4.37662125339247, 4.291062217017615, 5.100658198935763, 4.910558811435226, 5.081004972902036, 4.867287056163378, 6.4753815677889905, 6.453789558340161, 9.69792509649892, 6.631801121290987, 12.61853072081804, 18.199858162310566, 14.722617077420555, 39.81934353753386, 15.96557144059581, 50.01942224840501, 7.279731295999261, 8.571107902936111, 8.80699874614621, 5.410369637736898, 10.77996510903572, 5.032322994831356, 4.610086547960692, 4.675518637916859, 4.623356631304791, 5.772048107785063, 4.637144687468214, 4.7080505395636, 7.215969340723333, 4.7079204182670145, 4.7093301482204835, 4.358951773726658, 4.110996847149821, 4.341134496735361, 4.329046885524022, 7.013295094772848, 5.4759801945407345, 5.6073637395098626, 4.2932493751530165, 4.269124812000375, 4.302777286931549, 4.344383908726225, 4.360785648499107, 4.466602722670635, 4.5381444482953235, 4.3444425867585705, 7.508129582591593, 7.011290669578553, 8.975945351864327, 6.460998544268762, 6.161439185109516, 6.128616109666319, 6.2280756092639855, 6.284685062792642, 6.207341361655856, 6.300578169964419, 5.388273828609522, 6.979240328404642, 5.085816157126211, 5.284460962905389, 5.2493668651759124, 5.276004586133748, 4.539739779381499, 4.073127497631727, 4.174786776786544, 4.141259551675604, 3.9634553701052058, 4.839197001138895, 3.972087603542807, 3.981502223183835, 4.291062217017615, 10.77996510903572, 4.183121170357017, 4.258172391463537, 5.2051783990842, 4.7093301482204835, 4.126756747976512, 4.522715032888455, 4.433642031264562, 5.4759801945407345, 4.909663429282175, 50.01942224840501, 4.258459910162629, 4.392254281262921, 6.618305830634627, 3.704956527330193, 3.826453680425339, 4.027357958525532, 9.69792509649892, 4.117250210435868, 4.9332487658511015, 3.972087603542807, 4.5381444482953235, 4.073127497631727, 4.4204110901318066, 3.9634553701052058, 4.626334350843833, 4.329046885524022, 4.3371346688921175, 4.174786776786544, 4.291062217017615, 4.8471493265874335, 4.478947118703631, 4.183121170357017, 4.867287056163378, 4.269124812000375, 4.69715503487924, 4.200232566489178, 4.393821481062191, 4.344383908726225, 4.130436899805803, 3.981502223183835, 4.7765241326164825, 4.451893269338102, 5.651157615735802, 4.756871582928159, 5.241786838687533, 5.453665874494538, 5.166691935521564, 4.805346581958011, 5.651092910424521, 14.722617077420555, 5.100658198935763, 24.13553525746855, 39.81934353753386, 6.879069381980729, 23.17620116687403, 50.01942224840501, 23.178243792948923, 13.768092049383995, 13.563205253393106, 10.77996510903572, 23.098624995033255, 24.086333514612942, 39.28445388319266], \"loglift\": [30.0, 29.0, 28.0, 27.0, 26.0, 25.0, 24.0, 23.0, 22.0, 21.0, 20.0, 19.0, 18.0, 17.0, 16.0, 15.0, 14.0, 13.0, 12.0, 11.0, 10.0, 9.0, 8.0, 7.0, 6.0, 5.0, 4.0, 3.0, 2.0, 1.0, 1.076, 1.0267, 1.0216, 1.0213, 1.0196, 1.0176, 1.017, 1.0165, 1.0125, 1.0105, 1.0067, 0.9994, 0.9989, 0.9888, 0.9256, 0.8907, 0.868, 0.7457, 0.6725, 0.6403, 0.5899, 0.493, 0.4764, 0.4739, 0.4675, 0.4619, 0.4473, 0.4084, 0.4043, 0.2718, -0.5112, 0.0352, 1.7352, 1.6652, 1.6559, 1.6398, 1.603, 1.5892, 1.4498, 1.2891, 1.1476, 1.1116, 1.0639, 1.0512, 1.0409, 1.0324, 1.0304, 0.99, 0.9315, 0.8942, 0.877, 0.8163, 0.7907, 0.773, 0.7512, 0.7316, 0.7043, 0.6458, 0.5462, 0.3958, 0.3558, 0.3538, -0.0828, -0.0534, -0.1794, 1.9656, 1.9596, 1.9549, 1.9496, 1.948, 1.9428, 1.9347, 1.927, 1.5058, 1.2398, 1.2392, 1.2334, 1.1812, 1.1496, 0.9897, 0.9805, 0.9758, 0.9587, 0.9568, 0.953, 0.9456, 0.8763, 0.8726, 0.8635, 0.7645, 0.6563, 0.6293, 0.6145, 0.5733, 0.5527, 0.4409, 0.4686, -0.4409, -0.6056, -0.5593, 2.1385, 2.1325, 2.1293, 2.1134, 1.9855, 1.8848, 1.5763, 1.2597, 1.1659, 1.1308, 1.0638, 0.8934, 0.8812, 0.8311, 0.8282, 0.8213, 0.7836, 0.6616, -0.2536, -0.3377, -0.3515, -0.3544, -0.3566, -0.3646, -0.3818, -0.3858, -0.3896, -0.3941, -0.3967, -0.4196, -0.5583, -0.4369, -0.5037, -0.4725, -0.6428, -1.31, -1.3507, -1.3288, -1.3534, -1.3803, -1.3703, -1.3796, -1.4748, -1.4482, -1.6923, -1.847, -2.1594, 2.2394, 2.2305, 1.8959, 1.7714, 1.5847, 1.5194, 1.4577, 1.4459, 1.4425, 1.442, 1.4377, 1.4132, 1.4124, 1.403, 1.3915, 1.3739, 1.3339, 1.2593, 1.2408, 1.2306, 1.2208, 1.213, 1.1967, 1.1723, 1.0659, 1.0632, 1.0248, 0.8905, 0.8697, 0.8464, 0.7531, 0.7435, 0.5743, 1.7813, 1.7595, 1.759, 1.7292, 1.6941, 1.6566, 1.6297, 1.6247, 1.6166, 1.6154, 1.6035, 1.5177, 1.5107, 1.5022, 1.5003, 1.4975, 1.4922, 1.4874, 1.4834, 1.4763, 1.4471, 1.4381, 1.4168, 1.1574, 1.0777, 1.0073, 0.9432, 0.8859, 0.7651, 0.7092, 0.6706, 0.5455, -0.8253, 0.0706, 2.2821, 2.2732, 2.2573, 2.2531, 2.24, 2.1094, 2.0786, 1.6554, 1.6256, 1.6128, 1.6105, 1.605, 1.2776, 0.5223, 0.4779, 0.3874, 0.3688, 0.3597, 0.3374, 0.3279, 0.2785, 0.2421, 0.2418, 0.239, 0.2191, 0.215, 0.2088, 0.2087, 0.2086, 0.2077, 0.2069, 0.1975, 0.1901, 0.1822, 0.1729, 0.066, -0.0395, -0.3554, -0.0645, -0.6027, -1.0024, -0.8528, -1.8003, -0.969, -2.1101, 2.1011, 2.0121, 1.708, 1.6996, 1.661, 1.6058, 1.5662, 1.5252, 1.5197, 1.463, 1.4596, 1.433, 1.4269, 1.4148, 1.4131, 1.2999, 1.2994, 1.2817, 1.2793, 1.2741, 1.2707, 1.2536, 1.2374, 1.2342, 1.2243, 1.2121, 1.1973, 1.1619, 1.1431, 1.0811, 1.0542, 0.773, 0.4965, 2.2917, 2.273, 2.2698, 2.253, 2.2518, 2.2518, 2.2463, 2.1644, 2.141, 2.1333, 2.1139, 2.1082, 2.0889, 1.7199, 1.5189, 1.4918, 1.456, 1.2491, 1.0813, 0.8893, 0.7848, 0.7292, 0.6247, 0.5867, 0.5404, 0.5353, 0.532, 0.5203, 0.4887, 0.3986, 0.3552, 0.3721, -1.9298, 2.3322, 2.2267, 1.8172, 1.6634, 1.6567, 1.6528, 1.4358, 0.7281, 0.7252, 0.7049, 0.6823, 0.6762, 0.6722, 0.6718, 0.6676, 0.6424, 0.6339, 0.6278, 0.6101, 0.6087, 0.6072, 0.5886, 0.5849, 0.5813, 0.5776, 0.5716, 0.5712, 0.568, 0.5644, 0.5631, 0.5588, 0.555, 0.5209, 0.5436, 0.5113, 0.4791, 0.4882, 0.5235, 0.4321, -0.1384, 0.4824, -0.7201, -1.1641, 0.2403, -0.8632, -1.5661, -0.9008, -0.4381, -0.4292, -0.2137, -0.9558, -1.0077, -1.503], \"logprob\": [30.0, 29.0, 28.0, 27.0, 26.0, 25.0, 24.0, 23.0, 22.0, 21.0, 20.0, 19.0, 18.0, 17.0, 16.0, 15.0, 14.0, 13.0, 12.0, 11.0, 10.0, 9.0, 8.0, 7.0, 6.0, 5.0, 4.0, 3.0, 2.0, 1.0, -2.5345, -3.3125, -3.4192, -3.3619, -3.4221, -3.3621, -3.3628, -3.4173, -3.4185, -3.4115, -3.6202, -3.2943, -3.3424, -3.7109, -4.0486, -3.9428, -4.185, -4.6521, -3.2779, -3.3971, -5.0426, -5.138, -5.1785, -3.3646, -5.2502, -5.2668, -5.1282, -3.8909, -5.2137, -5.2351, -5.1327, -5.2158, -2.5778, -3.0768, -3.0474, -3.1196, -3.2958, -3.3494, -3.2947, -4.0393, -4.5524, -4.5799, -4.7272, -4.6938, -4.7183, -4.7942, -2.8082, -4.8861, -4.7016, -4.6809, -4.7175, -4.6747, -4.7049, -4.7737, -3.2862, -5.1416, -5.2248, -5.153, -4.7048, -5.66, -5.5888, -5.5924, -5.1815, -5.5603, -5.554, -2.7869, -2.9127, -2.914, -2.966, -2.8179, -2.9641, -2.9658, -2.9585, -4.0744, -4.616, -4.5945, -4.6329, -4.6511, -2.7025, -4.9614, -4.9611, -4.9646, -4.3887, -4.9699, -4.9948, -4.9956, -5.1473, -5.1394, -5.1599, -5.2115, -5.4315, -5.1406, -5.4807, -5.5349, -5.5277, -4.6248, -5.4288, -5.2212, -5.2271, -5.3938, -2.6991, -2.7211, -2.651, -2.7211, -2.636, -1.9673, -2.723, -2.6907, -4.8106, -4.8224, -4.8169, -5.0977, -5.0633, -5.2766, -5.3155, -5.2614, -5.263, -5.4864, -6.2656, -6.4835, -6.5325, -6.4101, -6.437, -6.4221, -6.3222, -6.3958, -6.4131, -6.5126, -6.4395, -6.3956, -4.852, -6.3635, -6.2496, -6.3113, -6.223, -5.741, -5.7339, -5.7705, -5.7754, -5.76, -5.8111, -5.8134, -5.814, -5.828, -5.7297, -5.6856, -5.7699, -2.755, -2.7573, -3.7624, -4.0036, -4.3361, -4.4144, -4.5378, -4.539, -4.55, -4.5349, -4.5256, -4.5528, -4.5368, -4.4875, -4.5021, -4.5577, -4.669, -4.7897, -4.7959, -4.7988, -4.7912, -4.8166, -4.8798, -4.8473, -5.0082, -5.0423, -5.0671, -4.8372, -5.173, -5.2093, -4.8269, -4.8745, -4.5709, -4.0503, -4.0713, -4.0506, -4.047, -3.6617, -4.2678, -4.2618, -4.2771, -4.2844, -4.3115, -4.2859, -4.2734, -4.4857, -4.4889, -4.4777, -4.4681, -4.467, -4.4805, -4.5194, -4.4815, -4.0485, -4.4407, -4.0743, -4.4371, -4.0675, -5.134, -5.1352, -5.1805, -5.181, -5.1641, -4.0738, -4.7055, -4.4358, -5.0281, -2.9436, -2.9861, -2.9843, -2.9922, -2.9934, -2.9894, -2.9871, -4.0723, -4.2666, -4.1331, -4.2753, -4.2641, -4.8269, -5.2539, -5.3447, -5.1928, -5.6801, -5.7281, -5.743, -5.738, -5.7998, -5.707, -5.8664, -5.7806, -5.855, -5.7699, -6.0044, -5.8678, -5.8345, -5.8389, -5.8595, -5.6961, -5.7415, -5.7153, -5.7675, -5.5889, -5.6978, -5.6065, -5.6956, -5.5904, -5.624, -5.6864, -5.6389, -5.7215, -5.7207, -3.4367, -3.3625, -3.6394, -4.135, -3.4843, -4.3013, -4.4285, -4.4554, -4.4721, -4.307, -4.5292, -4.5407, -4.1198, -4.5589, -4.5603, -4.7508, -4.8099, -4.7731, -4.7783, -4.3011, -4.5519, -4.5453, -4.8285, -4.8373, -4.8394, -4.8419, -4.853, -4.8644, -4.8673, -4.9729, -4.4527, -4.8024, -4.8319, -3.3654, -3.4316, -3.4402, -3.4409, -3.433, -3.4454, -3.436, -3.6743, -3.439, -3.7632, -3.7443, -3.7566, -3.7709, -4.2902, -4.5996, -4.6021, -4.6459, -4.8967, -4.8649, -5.2544, -5.3564, -5.3372, -4.5205, -5.5051, -5.5337, -5.338, -5.4414, -5.5852, -5.5252, -5.6351, -5.4674, -5.5597, -5.5403, -3.7418, -3.8164, -3.8159, -4.5499, -4.5243, -4.477, -3.8153, -5.3797, -5.2017, -5.4388, -5.3281, -5.4423, -5.3645, -5.474, -5.3236, -5.4152, -5.4218, -5.4661, -5.4563, -5.3359, -5.4164, -5.5033, -5.3555, -5.4902, -5.3984, -5.5162, -5.4715, -5.486, -5.5401, -5.5782, -5.4004, -5.4746, -5.2702, -5.4197, -5.355, -5.3476, -5.3925, -5.4297, -5.359, -4.972, -5.4112, -5.0594, -5.0027, -5.3541, -5.243, -5.1767, -5.2805, -5.3386, -5.3448, -5.3589, -5.339, -5.349, -5.3552]}, \"token.table\": {\"Topic\": [1, 5, 1, 2, 8, 1, 9, 1, 2, 6, 1, 2, 5, 1, 2, 5, 1, 8, 1, 5, 1, 2, 3, 8, 1, 2, 5, 6, 1, 10, 1, 2, 3, 4, 1, 2, 6, 1, 2, 3, 7, 1, 2, 3, 1, 2, 3, 4, 1, 8, 1, 2, 7, 1, 3, 8, 1, 2, 6, 1, 2, 1, 2, 1, 2, 9, 1, 2, 5, 7, 1, 2, 5, 1, 1, 2, 5, 1, 2, 6, 1, 2, 9, 1, 2, 4, 1, 2, 3, 1, 2, 4, 1, 2, 9, 1, 2, 1, 7, 1, 2, 5, 1, 2, 5, 6, 8, 9, 1, 2, 7, 1, 2, 3, 1, 2, 5, 1, 2, 8, 1, 2, 5, 1, 2, 5, 1, 3, 1, 2, 8, 1, 2, 1, 2, 5, 1, 6, 1, 2, 8, 1, 2, 7, 1, 4, 1, 2, 9, 1, 2, 3, 4, 1, 2, 6, 1, 2, 3, 1, 2, 9, 1, 2, 3, 1, 2, 3, 8, 1, 2, 7, 1, 2, 5, 1, 2, 10, 1, 2, 8, 1, 2, 6, 1, 2, 8, 1, 2, 6, 1, 2, 5, 8, 1, 2, 4, 1, 2, 1, 2, 9, 1, 2, 4, 1, 2, 9, 1, 2, 6, 1, 2, 5, 8, 1, 2, 5, 1, 3, 4, 1, 2, 1, 2, 1, 2, 1, 2, 9, 1, 3, 8, 1, 2, 4, 1, 2, 5, 8, 1, 2, 8, 1, 2, 4, 1, 2, 3, 1, 2, 3, 1, 2, 3, 1, 2, 6, 7, 1, 2, 6, 1, 2, 8, 1, 2, 8, 1, 2, 1, 2, 3, 8, 1, 2, 8, 1, 2, 5, 8, 1, 2, 1, 2, 8, 1, 2, 3, 8, 1, 5, 1, 2, 6, 1, 2, 8, 1, 2, 1, 1, 2, 1, 2, 6, 1, 2, 3, 4, 6, 1, 2, 8, 1, 2, 6, 1, 2, 8, 1, 2, 7, 1, 2, 6, 1, 2, 3, 1, 2, 1, 2, 6, 1, 2, 8, 1, 2, 6, 1, 2, 8, 1, 2, 4, 8, 1, 6, 7, 1, 7, 1, 2, 3, 1, 2, 3, 1, 2, 5, 1, 2, 1, 2, 3, 1, 2, 9, 1, 2, 5, 9, 1, 2, 8, 1, 2, 5, 1, 2, 9, 1, 2, 6, 1, 2, 3, 1, 2, 6, 10, 1, 2, 6, 1, 2, 4, 6, 1, 2, 8, 1, 2, 7, 1, 2, 1, 2, 5, 1, 2, 5, 1, 2, 6, 1, 2, 1, 6, 1, 2, 8, 1, 2, 5, 1, 2, 4, 1, 2, 3, 4, 1, 2, 6, 1, 2, 8, 1, 3, 1, 2, 5, 1, 2, 1, 2, 5, 1, 2, 8, 1, 2, 1, 2, 1, 2, 6, 1, 2, 9, 1, 2, 6, 1, 5, 8, 1, 2, 9, 1, 2, 5, 1, 2, 4, 1, 2, 5, 7, 8, 1, 2, 1, 2, 9, 1, 5, 6, 1, 7, 1, 2, 3, 1, 2, 6, 1, 1, 2, 6, 1, 2, 3, 1, 2, 4, 1, 2, 1, 2, 1, 2, 5, 1, 2, 1, 2, 3, 1, 8, 1, 2, 9, 1, 2, 8, 1, 2, 5, 1, 2, 5, 1, 2, 5, 1, 2, 3, 7, 8, 1, 2, 1, 2, 6, 9, 1, 2, 1, 2, 5, 1, 2, 1, 2, 5, 6, 1, 2, 8, 1, 2, 8, 1, 2, 1, 2, 9, 1, 2, 4, 1, 2, 6, 8, 1, 2, 3, 4, 1, 2, 5, 1, 2, 1, 2, 4, 1, 2, 3, 1, 1, 2, 3, 1, 2, 1, 2, 3, 1, 9, 1, 7, 1, 2, 6, 8, 1, 2, 4, 1, 3, 4, 1, 2, 6, 1, 2, 3, 1, 2, 1, 2, 1, 2, 6, 1, 2, 10, 1, 3, 1, 2, 8], \"Freq\": [0.2148035148961202, 0.2148035148961202, 0.23099772916387623, 0.23099772916387623, 0.23099772916387623, 0.24551158798280642, 0.24551158798280642, 0.21334234780294198, 0.21334234780294198, 0.21334234780294198, 0.2207149589835583, 0.2207149589835583, 0.2207149589835583, 0.07924852917703017, 0.07924852917703017, 0.7132367625932715, 0.24325000411841866, 0.24325000411841866, 0.2171080035364336, 0.2171080035364336, 0.17324872927709103, 0.17324872927709103, 0.17324872927709103, 0.34649745855418207, 0.2358535388005481, 0.2358535388005481, 0.2358535388005481, 0.2358535388005481, 0.23482667938555524, 0.23482667938555524, 0.0679869343524947, 0.0679869343524947, 0.0679869343524947, 0.679869343524947, 0.20219259759189895, 0.20219259759189895, 0.4043851951837979, 0.1433107442730047, 0.1433107442730047, 0.42993223281901405, 0.1433107442730047, 0.06263477657037007, 0.06263477657037007, 0.7516173188444409, 0.16483644945171017, 0.05494548315057005, 0.05494548315057005, 0.6044003146562705, 0.21629307011035892, 0.21629307011035892, 0.1945467576772135, 0.1945467576772135, 0.389093515354427, 0.18880231890213492, 0.37760463780426984, 0.18880231890213492, 0.18413278808128664, 0.18413278808128664, 0.36826557616257327, 0.8629541940888136, 0.04314770970444068, 0.06198421252206592, 0.805794762786857, 0.16109956610042828, 0.16109956610042828, 0.32219913220085655, 0.16608777563239288, 0.16608777563239288, 0.16608777563239288, 0.33217555126478576, 0.20725670472443386, 0.20725670472443386, 0.20725670472443386, 0.6039946353636276, 0.22239648135701645, 0.22239648135701645, 0.22239648135701645, 0.46329316173785656, 0.15443105391261885, 0.15443105391261885, 0.19662527490279152, 0.19662527490279152, 0.39325054980558305, 0.22848675773003332, 0.22848675773003332, 0.22848675773003332, 0.20766253588570813, 0.20766253588570813, 0.20766253588570813, 0.20630682750267892, 0.20630682750267892, 0.20630682750267892, 0.24147242826047643, 0.24147242826047643, 0.24147242826047643, 0.40735989926959476, 0.20367994963479738, 0.10214014036178863, 0.6128408421707319, 0.20146511881591, 0.20146511881591, 0.40293023763182, 0.09276467872440555, 0.09276467872440555, 0.09276467872440555, 0.1855293574488111, 0.3710587148976222, 0.09276467872440555, 0.10252373734462632, 0.10252373734462632, 0.6151424240677579, 0.22326675745380004, 0.22326675745380004, 0.22326675745380004, 0.24232104315097652, 0.24232104315097652, 0.24232104315097652, 0.23240803167693877, 0.23240803167693877, 0.23240803167693877, 0.22457456619320415, 0.22457456619320415, 0.22457456619320415, 0.1741281595586324, 0.1741281595586324, 0.3482563191172648, 0.20569718948815371, 0.20569718948815371, 0.22388380209513867, 0.22388380209513867, 0.22388380209513867, 0.161548460058487, 0.48464538017546094, 0.21078332857026402, 0.21078332857026402, 0.21078332857026402, 0.25116148226091994, 0.25116148226091994, 0.8303463865874894, 0.04151731932937447, 0.04151731932937447, 0.16914860100844287, 0.16914860100844287, 0.33829720201688573, 0.25286302923748594, 0.25286302923748594, 0.18953736367632676, 0.18953736367632676, 0.3790747273526535, 0.47768575395214086, 0.03980714616267841, 0.03980714616267841, 0.39807146162678403, 0.18427753910556766, 0.18427753910556766, 0.3685550782111353, 0.07263170498956255, 0.07263170498956255, 0.7263170498956255, 0.1855881923985397, 0.1855881923985397, 0.3711763847970794, 0.23985299185945771, 0.23985299185945771, 0.23985299185945771, 0.1843993709298439, 0.1843993709298439, 0.3687987418596878, 0.1843993709298439, 0.19578221540806515, 0.19578221540806515, 0.3915644308161303, 0.1549477234980045, 0.1549477234980045, 0.4648431704940136, 0.22767352160505297, 0.22767352160505297, 0.22767352160505297, 0.1385815200677889, 0.2771630401355778, 0.2771630401355778, 0.4987597863036909, 0.16625326210123031, 0.16625326210123031, 0.17833692381215305, 0.3566738476243061, 0.17833692381215305, 0.2111801597980924, 0.2111801597980924, 0.2111801597980924, 0.11667103148444098, 0.11667103148444098, 0.11667103148444098, 0.4666841259377639, 0.21299432784027705, 0.21299432784027705, 0.21299432784027705, 0.168992348786782, 0.506977046360346, 0.22027694286394572, 0.22027694286394572, 0.22027694286394572, 0.2081015350182161, 0.2081015350182161, 0.2081015350182161, 0.1631689735669292, 0.1631689735669292, 0.3263379471338584, 0.1316850804246687, 0.3950552412740061, 0.2633701608493374, 0.19545333763586545, 0.19545333763586545, 0.3909066752717309, 0.19545333763586545, 0.22900728868958892, 0.22900728868958892, 0.22900728868958892, 0.068195767834819, 0.068195767834819, 0.6819576783481899, 0.7612924389085834, 0.08458804876762038, 0.8318250283387695, 0.05941607345276925, 0.45109640920414146, 0.22554820460207073, 0.15911696290404778, 0.15911696290404778, 0.4773508887121434, 0.11354605908597212, 0.22709211817194425, 0.3406381772579164, 0.5022684510393278, 0.42692818338342864, 0.02511342255196639, 0.23035453076886342, 0.23035453076886342, 0.23035453076886342, 0.23035453076886342, 0.11140887792864039, 0.557044389643202, 0.11140887792864039, 0.19354744050538258, 0.19354744050538258, 0.19354744050538258, 0.07036075202246246, 0.07036075202246246, 0.7739682722470871, 0.20545326142901596, 0.20545326142901596, 0.20545326142901596, 0.2128948251812832, 0.2128948251812832, 0.2128948251812832, 0.08855117282722184, 0.1771023456544437, 0.08855117282722184, 0.531307036963331, 0.19563178295426495, 0.19563178295426495, 0.3912635659085299, 0.21564994568801765, 0.21564994568801765, 0.21564994568801765, 0.22035437862178076, 0.22035437862178076, 0.22035437862178076, 0.18336290176425282, 0.36672580352850565, 0.18467114959828698, 0.18467114959828698, 0.36934229919657396, 0.18467114959828698, 0.23018223550441252, 0.23018223550441252, 0.23018223550441252, 0.22759231441470706, 0.22759231441470706, 0.22759231441470706, 0.22759231441470706, 0.8700863592201344, 0.04143268377238735, 0.21240213791177617, 0.21240213791177617, 0.21240213791177617, 0.19681145862544708, 0.19681145862544708, 0.19681145862544708, 0.19681145862544708, 0.44652245804386476, 0.14884081934795493, 0.20935725901006186, 0.20935725901006186, 0.20935725901006186, 0.21240800845314628, 0.21240800845314628, 0.21240800845314628, 0.1926730957616592, 0.3853461915233184, 0.8286443422662582, 0.8653196712008276, 0.04554314058951724, 0.21614569903581665, 0.21614569903581665, 0.21614569903581665, 0.5897501905464898, 0.028083342406975704, 0.028083342406975704, 0.3089167664767327, 0.028083342406975704, 0.22941295336815723, 0.22941295336815723, 0.22941295336815723, 0.19525390222749028, 0.19525390222749028, 0.39050780445498057, 0.1373677075896431, 0.1373677075896431, 0.5494708303585724, 0.10131464049342243, 0.10131464049342243, 0.6078878429605346, 0.34353881624221805, 0.114512938747406, 0.34353881624221805, 0.22323806547335556, 0.22323806547335556, 0.22323806547335556, 0.1713995555175081, 0.5141986665525243, 0.17695692069675742, 0.17695692069675742, 0.35391384139351484, 0.23424004779364416, 0.23424004779364416, 0.23424004779364416, 0.20270617750359413, 0.20270617750359413, 0.40541235500718825, 0.21234442447783586, 0.21234442447783586, 0.21234442447783586, 0.582094834913467, 0.33700227284463885, 0.03063657025860353, 0.03063657025860353, 0.17434138644833352, 0.34868277289666705, 0.17434138644833352, 0.2421051390585379, 0.2421051390585379, 0.24298654462709368, 0.24298654462709368, 0.24298654462709368, 0.19077464055184384, 0.19077464055184384, 0.3815492811036877, 0.23539927071648412, 0.23539927071648412, 0.23539927071648412, 0.8550911230638346, 0.045004795950728135, 0.06347601742083024, 0.06347601742083024, 0.761712209049963, 0.15477483753452498, 0.15477483753452498, 0.46432451260357493, 0.14328206981641312, 0.14328206981641312, 0.14328206981641312, 0.28656413963282623, 0.1987153847292968, 0.1987153847292968, 0.3974307694585936, 0.21870751136635636, 0.21870751136635636, 0.21870751136635636, 0.1622997436080716, 0.1622997436080716, 0.48689923082421477, 0.19751076977254384, 0.19751076977254384, 0.3950215395450877, 0.07309249513796642, 0.07309249513796642, 0.7309249513796642, 0.30934452165268217, 0.30934452165268217, 0.10311484055089405, 0.10311484055089405, 0.20904723541723377, 0.20904723541723377, 0.20904723541723377, 0.2161538540372903, 0.2161538540372903, 0.2161538540372903, 0.2161538540372903, 0.3995668917270452, 0.13318896390901505, 0.13318896390901505, 0.19131086608091552, 0.19131086608091552, 0.38262173216183104, 0.17695489455390037, 0.5308646836617011, 0.23484253526342067, 0.23484253526342067, 0.23484253526342067, 0.21643220638971342, 0.21643220638971342, 0.21643220638971342, 0.21727698422814942, 0.21727698422814942, 0.21727698422814942, 0.8721201590444444, 0.04590106100233918, 0.21866001366784465, 0.21866001366784465, 0.21388001576773571, 0.21388001576773571, 0.21388001576773571, 0.20364281101191548, 0.20364281101191548, 0.20364281101191548, 0.8658524048206535, 0.04329262024103268, 0.04329262024103268, 0.06439775079815871, 0.06439775079815871, 0.06439775079815871, 0.7083752587797458, 0.1453685003700405, 0.43610550111012153, 0.290737000740081, 0.1848302550393377, 0.1848302550393377, 0.3696605100786754, 0.07372888497354489, 0.7372888497354488, 0.2041097099808355, 0.2041097099808355, 0.408219419961671, 0.4932906849768674, 0.16443022832562246, 0.21022219804900344, 0.21022219804900344, 0.21022219804900344, 0.23017912655766257, 0.23017912655766257, 0.23017912655766257, 0.24830174280463338, 0.24830174280463338, 0.06307190317489603, 0.8199347412736484, 0.2330425310623957, 0.2330425310623957, 0.2330425310623957, 0.15871559292242654, 0.15871559292242654, 0.3174311858448531, 0.21069610540156927, 0.21069610540156927, 0.21069610540156927, 0.23292380959453557, 0.23292380959453557, 0.23292380959453557, 0.2523050991169496, 0.2523050991169496, 0.2523050991169496, 0.2262233035819712, 0.2262233035819712, 0.2262233035819712, 0.8313189790104402, 0.039586618048116196, 0.039586618048116196, 0.18261570795981835, 0.18261570795981835, 0.18261570795981835, 0.18261570795981835, 0.18261570795981835, 0.2699087000409703, 0.2699087000409703, 0.18923405944703986, 0.18923405944703986, 0.3784681188940797, 0.19317099217514885, 0.19317099217514885, 0.3863419843502977, 0.10398106019452384, 0.6238863611671431, 0.20561374213344064, 0.20561374213344064, 0.20561374213344064, 0.1802623973242147, 0.1802623973242147, 0.3605247946484294, 0.59708105209249, 0.13108717039748788, 0.39326151119246366, 0.26217434079497576, 0.23808205478390063, 0.23808205478390063, 0.23808205478390063, 0.25176429933665073, 0.25176429933665073, 0.25176429933665073, 0.44221225203363956, 0.22110612601681978, 0.8628781446368349, 0.04314390723184174, 0.23905594872229172, 0.23905594872229172, 0.23905594872229172, 0.2613385875061324, 0.2613385875061324, 0.20697918382576233, 0.20697918382576233, 0.20697918382576233, 0.21691566733001094, 0.21691566733001094, 0.1605632401945385, 0.1605632401945385, 0.321126480389077, 0.14258632874942342, 0.4277589862482703, 0.28517265749884685, 0.2246235341910337, 0.2246235341910337, 0.2246235341910337, 0.21309104407009052, 0.21309104407009052, 0.21309104407009052, 0.0797784707112659, 0.0797784707112659, 0.718006236401393, 0.08567273374021829, 0.08567273374021829, 0.17134546748043658, 0.5140364024413098, 0.08567273374021829, 0.2031362697195657, 0.4062725394391314, 0.20664585462518928, 0.20664585462518928, 0.20664585462518928, 0.20664585462518928, 0.8713558847213173, 0.045860836037964064, 0.19605312902727867, 0.19605312902727867, 0.39210625805455734, 0.07544559536502837, 0.7544559536502837, 0.747149772500042, 0.0679227065909129, 0.0679227065909129, 0.0679227065909129, 0.22931647657210108, 0.22931647657210108, 0.22931647657210108, 0.4278812762701121, 0.14262709209003735, 0.14262709209003735, 0.1601766402829727, 0.48052992084891816, 0.1904991641247175, 0.1904991641247175, 0.380998328249435, 0.23685864811321153, 0.23685864811321153, 0.23685864811321153, 0.8996505352765233, 0.01999223411725607, 0.03998446823451214, 0.01999223411725607, 0.05091072427649742, 0.02545536213824871, 0.33091970779723323, 0.5600179670414717, 0.23056697021018283, 0.23056697021018283, 0.23056697021018283, 0.059625473852635454, 0.8347566339368964, 0.24288055106909232, 0.24288055106909232, 0.24288055106909232, 0.2207013510565292, 0.2207013510565292, 0.2207013510565292, 0.7817786726042434, 0.2026453001531928, 0.2026453001531928, 0.2026453001531928, 0.04036016274464086, 0.8879235803820988, 0.07154583373222395, 0.07154583373222395, 0.7154583373222395, 0.2395331913860591, 0.2395331913860591, 0.10053064631620894, 0.7037145242134625, 0.06213282412390014, 0.6834610653629016, 0.12426564824780029, 0.06213282412390014, 0.8628638871486892, 0.045413888797299434, 0.045413888797299434, 0.06930018960918996, 0.06930018960918996, 0.6930018960918997, 0.19766241039611274, 0.19766241039611274, 0.3953248207922255, 0.07060452879961344, 0.07060452879961344, 0.7766498167957478, 0.07250155639644254, 0.7975171203608679, 0.45236579703343116, 0.15078859901114372, 0.19211637398939874, 0.3842327479787975, 0.19211637398939874, 0.15109606983878385, 0.45328820951635157, 0.15109606983878385, 0.2363281937852352, 0.2363281937852352, 0.25175678378998345, 0.25175678378998345, 0.25175678378998345], \"Term\": [\"accidentally\", \"accidentally\", \"action\", \"action\", \"action\", \"ahead\", \"ahead\", \"allin\", \"allin\", \"allin\", \"allpro\", \"allpro\", \"allpro\", \"always\", \"always\", \"always\", \"amp\", \"amp\", \"announce\", \"announce\", \"apology\", \"apology\", \"apology\", \"apology\", \"app\", \"app\", \"app\", \"app\", \"article\", \"article\", \"asking\\u00e3\", \"asking\\u00e3\", \"asking\\u00e3\", \"asking\\u00e3\", \"asleep\", \"asleep\", \"asleep\", \"astro\", \"astro\", \"astro\", \"astro\", \"average\", \"average\", \"average\", \"away\", \"away\", \"away\", \"away\", \"back\", \"back\", \"back\\u00e3\", \"back\\u00e3\", \"back\\u00e3\", \"bargain\", \"bargain\", \"bargain\", \"base\", \"base\", \"base\", \"beg\", \"beg\", \"better\", \"better\", \"blindly\", \"blindly\", \"blindly\", \"blog\", \"blog\", \"blog\", \"blog\", \"bob\", \"bob\", \"bob\", \"breaking\", \"briefly\", \"briefly\", \"briefly\", \"bring\", \"bring\", \"bring\", \"bus\", \"bus\", \"bus\", \"business\", \"business\", \"business\", \"busy\", \"busy\", \"busy\", \"call\", \"call\", \"call\", \"cap\", \"cap\", \"cap\", \"center\", \"center\", \"check\", \"check\", \"chronicle\", \"chronicle\", \"chronicle\", \"coach\", \"coach\", \"coach\", \"coach\", \"coach\", \"coach\", \"coachgm\", \"coachgm\", \"coachgm\", \"come\", \"come\", \"come\", \"conference\", \"conference\", \"conference\", \"conlon\", \"conlon\", \"conlon\", \"connect\", \"connect\", \"connect\", \"cornerback\", \"cornerback\", \"cornerback\", \"corydlg\", \"corydlg\", \"craft\", \"craft\", \"craft\", \"credit\", \"credit\", \"crossen\\u00e3\", \"crossen\\u00e3\", \"crossen\\u00e3\", \"cup\", \"cup\", \"deal\", \"deal\", \"deal\", \"decision\", \"decision\", \"decision\", \"despit\\u00e3\", \"despit\\u00e3\", \"dexterity\", \"dexterity\", \"dexterity\", \"direction\", \"direction\", \"direction\", \"direction\", \"don\\u00e3\", \"don\\u00e3\", \"don\\u00e3\", \"draft\", \"draft\", \"draft\", \"drive\", \"drive\", \"drive\", \"dub\", \"dub\", \"dub\", \"end\", \"end\", \"end\", \"end\", \"era\", \"era\", \"era\", \"espn\", \"espn\", \"espn\", \"even\", \"even\", \"even\", \"everythingsport\", \"everythingsport\", \"everythingsport\", \"exactly\", \"exactly\", \"exactly\", \"expect\", \"expect\", \"expect\", \"explain\", \"explain\", \"explain\", \"fan\", \"fan\", \"fan\", \"fan\", \"feel\", \"feel\", \"feel\", \"fickleness\", \"fickleness\", \"final\", \"final\", \"final\", \"fit\", \"fit\", \"fit\", \"fly\", \"fly\", \"fly\", \"follow\", \"follow\", \"follow\", \"football\", \"football\", \"football\", \"football\", \"for\\u00e3\", \"for\\u00e3\", \"for\\u00e3\", \"franchise\", \"franchise\", \"franchise\", \"franchise\\u00e3\", \"franchise\\u00e3\", \"frantic\", \"frantic\", \"frenzied\", \"frenzied\", \"front\", \"front\", \"front\", \"game\", \"game\", \"game\", \"get\", \"get\", \"get\", \"gimm\", \"gimm\", \"gimm\", \"gimm\", \"give\", \"give\", \"give\", \"go\", \"go\", \"go\", \"goodnotgreat\", \"goodnotgreat\", \"goodnotgreat\", \"good\\u00e3\", \"good\\u00e3\", \"good\\u00e3\", \"great\\u00e3\", \"great\\u00e3\", \"great\\u00e3\", \"head\", \"head\", \"head\", \"head\", \"headscratch\", \"headscratch\", \"headscratch\", \"hear\", \"hear\", \"hear\", \"hectic\", \"hectic\", \"hectic\", \"high\", \"high\", \"hold\", \"hold\", \"hold\", \"hold\", \"holiday\", \"holiday\", \"holiday\", \"houstontexan\", \"houstontexan\", \"houstontexan\", \"houstontexan\", \"houston\\u00e3\", \"houston\\u00e3\", \"hurt\", \"hurt\", \"hurt\", \"icymi\", \"icymi\", \"icymi\", \"icymi\", \"interested\", \"interested\", \"issue\", \"issue\", \"issue\", \"kick\", \"kick\", \"kick\", \"know\", \"know\", \"lack\", \"land\", \"land\", \"lead\", \"lead\", \"lead\", \"left\", \"left\", \"left\", \"left\", \"left\", \"less\", \"less\", \"less\", \"let\", \"let\", \"let\", \"letter\", \"letter\", \"letter\", \"let\\u00e3\", \"let\\u00e3\", \"let\\u00e3\", \"longterm\", \"longterm\", \"longterm\", \"lot\", \"lot\", \"lot\", \"maintain\", \"maintain\", \"make\", \"make\", \"make\", \"maqb\", \"maqb\", \"maqb\", \"matter\", \"matter\", \"matter\", \"mind\", \"mind\", \"mind\", \"mmqb\", \"mmqb\", \"mmqb\", \"mmqb\", \"move\", \"move\", \"move\", \"nan\", \"nan\", \"naturally\", \"naturally\", \"naturally\", \"need\", \"need\", \"need\", \"nflnews\", \"nflnews\", \"nflnews\", \"obj\", \"obj\", \"offensive\", \"offensive\", \"offensive\", \"office\", \"office\", \"office\", \"offseason\", \"offseason\", \"offseason\", \"offseason\", \"open\", \"open\", \"open\", \"opposed\", \"opposed\", \"opposed\", \"oversee\", \"oversee\", \"oversee\", \"ownership\", \"ownership\", \"ownership\", \"pick\", \"pick\", \"pick\", \"plan\", \"plan\", \"plan\", \"plan\", \"plan\\u00e3\", \"plan\\u00e3\", \"plan\\u00e3\", \"play\", \"play\", \"play\", \"play\", \"player\", \"player\", \"player\", \"post\", \"post\", \"post\", \"praise\", \"praise\", \"press\", \"press\", \"press\", \"presser\", \"presser\", \"presser\", \"preview\", \"preview\", \"preview\", \"process\", \"process\", \"protect\", \"protect\", \"protest\", \"protest\", \"protest\", \"purpose\", \"purpose\", \"purpose\", \"question\", \"question\", \"question\", \"quite\", \"quite\", \"quite\", \"quite\", \"really\", \"really\", \"really\", \"reason\", \"reason\", \"reason\", \"receiver\", \"receiver\", \"release\", \"release\", \"release\", \"rent\", \"rent\", \"reporter\", \"reporter\", \"reporter\", \"right\", \"right\", \"right\", \"room\", \"room\", \"roster\", \"roster\", \"rugby\", \"rugby\", \"rugby\", \"rumble\", \"rumble\", \"rumble\", \"run\", \"run\", \"run\", \"runrunpasspunt\", \"runrunpasspunt\", \"runrunpasspunt\", \"rwc\", \"rwc\", \"rwc\", \"safety\", \"safety\", \"safety\", \"saturday\", \"saturday\", \"saturday\", \"say\", \"say\", \"say\", \"say\", \"say\", \"scenario\", \"scenario\", \"school\", \"school\", \"school\", \"season\", \"season\", \"season\", \"season\\u00e3\", \"season\\u00e3\", \"sec\", \"sec\", \"sec\", \"seem\", \"seem\", \"seem\", \"seismic\", \"sensible\", \"sensible\", \"sensible\", \"share\", \"share\", \"share\", \"signale\", \"signale\", \"signale\", \"sit\", \"sit\", \"slew\", \"slew\", \"slip\", \"slip\", \"slip\", \"smartest\", \"smartest\", \"soccer\", \"soccer\", \"soccer\", \"social\", \"social\", \"someone\", \"someone\", \"someone\", \"sort\", \"sort\", \"sort\", \"sound\", \"sound\", \"sound\", \"speak\", \"speak\", \"speak\", \"stand\", \"stand\", \"stand\", \"start\", \"start\", \"start\", \"start\", \"start\", \"sunday\", \"sunday\", \"support\", \"support\", \"support\", \"support\", \"tackle\", \"tackle\", \"talk\", \"talk\", \"talk\", \"task\", \"task\", \"texans\\u00e3\", \"texans\\u00e3\", \"texans\\u00e3\", \"texans\\u00e3\", \"that\\u00e3\", \"that\\u00e3\", \"that\\u00e3\", \"think\", \"think\", \"think\", \"time\", \"time\", \"toddler\", \"toddler\", \"toddler\", \"tomorrow\", \"tomorrow\", \"tomorrow\", \"trade\", \"trade\", \"trade\", \"trade\", \"trading\", \"trading\", \"trading\", \"trading\", \"trend\", \"trend\", \"trend\", \"try\", \"try\", \"usual\", \"usual\", \"usual\", \"video\", \"video\", \"video\", \"vision\", \"volunteer\", \"volunteer\", \"volunteer\", \"want\", \"want\", \"wealth\", \"wealth\", \"wealth\", \"wear\", \"wear\", \"week\", \"week\", \"weekend\", \"weekend\", \"weekend\", \"weekend\", \"week\\u00e3\", \"week\\u00e3\", \"week\\u00e3\", \"what\\u00e3\", \"what\\u00e3\", \"what\\u00e3\", \"wheel\", \"wheel\", \"wheel\", \"wide\", \"wide\", \"wide\", \"wild\", \"wild\", \"wondering\\u00e3\", \"wondering\\u00e3\", \"world\", \"world\", \"world\", \"worth\", \"worth\", \"worth\", \"yard\", \"yard\", \"year\", \"year\", \"year\"]}, \"R\": 30, \"lambda.step\": 0.01, \"plot.opts\": {\"xlab\": \"PC1\", \"ylab\": \"PC2\"}, \"topic.order\": [7, 9, 10, 3, 1, 5, 2, 8, 4, 6]};\n",
       "\n",
       "function LDAvis_load_lib(url, callback){\n",
       "  var s = document.createElement('script');\n",
       "  s.src = url;\n",
       "  s.async = true;\n",
       "  s.onreadystatechange = s.onload = callback;\n",
       "  s.onerror = function(){console.warn(\"failed to load library \" + url);};\n",
       "  document.getElementsByTagName(\"head\")[0].appendChild(s);\n",
       "}\n",
       "\n",
       "if(typeof(LDAvis) !== \"undefined\"){\n",
       "   // already loaded: just create the visualization\n",
       "   !function(LDAvis){\n",
       "       new LDAvis(\"#\" + \"ldavis_el1833616369689472885560277313\", ldavis_el1833616369689472885560277313_data);\n",
       "   }(LDAvis);\n",
       "}else if(typeof define === \"function\" && define.amd){\n",
       "   // require.js is available: use it to load d3/LDAvis\n",
       "   require.config({paths: {d3: \"https://cdnjs.cloudflare.com/ajax/libs/d3/3.5.5/d3.min\"}});\n",
       "   require([\"d3\"], function(d3){\n",
       "      window.d3 = d3;\n",
       "      LDAvis_load_lib(\"https://cdn.rawgit.com/bmabey/pyLDAvis/files/ldavis.v1.0.0.js\", function(){\n",
       "        new LDAvis(\"#\" + \"ldavis_el1833616369689472885560277313\", ldavis_el1833616369689472885560277313_data);\n",
       "      });\n",
       "    });\n",
       "}else{\n",
       "    // require.js not available: dynamically load d3 & LDAvis\n",
       "    LDAvis_load_lib(\"https://cdnjs.cloudflare.com/ajax/libs/d3/3.5.5/d3.min.js\", function(){\n",
       "         LDAvis_load_lib(\"https://cdn.rawgit.com/bmabey/pyLDAvis/files/ldavis.v1.0.0.js\", function(){\n",
       "                 new LDAvis(\"#\" + \"ldavis_el1833616369689472885560277313\", ldavis_el1833616369689472885560277313_data);\n",
       "            })\n",
       "         });\n",
       "}\n",
       "</script>"
      ],
      "text/plain": [
       "<IPython.core.display.HTML object>"
      ]
     },
     "execution_count": 35,
     "metadata": {},
     "output_type": "execute_result"
    }
   ],
   "source": [
    "## COACH --- LDA TOPIC MODEL VISUALIZATION\n",
    "coach_lda_panel = LDAvis.prepare(coach_lda, coach_train_tf_vec_model, coach_train_tf_vectorizer, mds='tsne')\n",
    "pyLDAvis.display(coach_lda_panel)"
   ]
  },
  {
   "cell_type": "code",
   "execution_count": 36,
   "metadata": {},
   "outputs": [
    {
     "data": {
      "text/html": [
       "\n",
       "<link rel=\"stylesheet\" type=\"text/css\" href=\"https://cdn.rawgit.com/bmabey/pyLDAvis/files/ldavis.v1.0.0.css\">\n",
       "\n",
       "\n",
       "<div id=\"ldavis_el18336163696894752826074880\"></div>\n",
       "<script type=\"text/javascript\">\n",
       "\n",
       "var ldavis_el18336163696894752826074880_data = {\"mdsDat\": {\"x\": [-184.83639526367188, -93.15048217773438, 88.95877075195312, 232.61505126953125, 71.79940032958984, -270.8791198730469, 238.04856872558594, -45.36478042602539, -220.62667846679688, 26.67332649230957], \"y\": [-213.37586975097656, 104.32295989990234, 53.908226013183594, -81.79546356201172, -236.56134033203125, 0.010651154443621635, 176.3798065185547, -78.639892578125, 246.99154663085938, 276.5179748535156], \"topics\": [1, 2, 3, 4, 5, 6, 7, 8, 9, 10], \"cluster\": [1, 1, 1, 1, 1, 1, 1, 1, 1, 1], \"Freq\": [14.872170221287279, 14.228108828571221, 11.624603336013234, 10.28240523690788, 9.78459361388267, 9.745160913139337, 7.975590892412275, 7.966206309376135, 7.0814381388421745, 6.439722509567803]}, \"tinfo\": {\"Category\": [\"Default\", \"Default\", \"Default\", \"Default\", \"Default\", \"Default\", \"Default\", \"Default\", \"Default\", \"Default\", \"Default\", \"Default\", \"Default\", \"Default\", \"Default\", \"Default\", \"Default\", \"Default\", \"Default\", \"Default\", \"Default\", \"Default\", \"Default\", \"Default\", \"Default\", \"Default\", \"Default\", \"Default\", \"Default\", \"Default\", \"Topic1\", \"Topic1\", \"Topic1\", \"Topic1\", \"Topic1\", \"Topic1\", \"Topic1\", \"Topic1\", \"Topic1\", \"Topic1\", \"Topic1\", \"Topic1\", \"Topic1\", \"Topic1\", \"Topic1\", \"Topic1\", \"Topic1\", \"Topic1\", \"Topic1\", \"Topic1\", \"Topic1\", \"Topic1\", \"Topic1\", \"Topic1\", \"Topic1\", \"Topic1\", \"Topic1\", \"Topic1\", \"Topic1\", \"Topic1\", \"Topic1\", \"Topic1\", \"Topic1\", \"Topic1\", \"Topic1\", \"Topic1\", \"Topic1\", \"Topic1\", \"Topic1\", \"Topic1\", \"Topic1\", \"Topic2\", \"Topic2\", \"Topic2\", \"Topic2\", \"Topic2\", \"Topic2\", \"Topic2\", \"Topic2\", \"Topic2\", \"Topic2\", \"Topic2\", \"Topic2\", \"Topic2\", \"Topic2\", \"Topic2\", \"Topic2\", \"Topic2\", \"Topic2\", \"Topic2\", \"Topic2\", \"Topic2\", \"Topic2\", \"Topic2\", \"Topic2\", \"Topic2\", \"Topic2\", \"Topic2\", \"Topic2\", \"Topic2\", \"Topic2\", \"Topic2\", \"Topic2\", \"Topic2\", \"Topic2\", \"Topic2\", \"Topic2\", \"Topic3\", \"Topic3\", \"Topic3\", \"Topic3\", \"Topic3\", \"Topic3\", \"Topic3\", \"Topic3\", \"Topic3\", \"Topic3\", \"Topic3\", \"Topic3\", \"Topic3\", \"Topic3\", \"Topic3\", \"Topic3\", \"Topic3\", \"Topic3\", \"Topic3\", \"Topic3\", \"Topic3\", \"Topic3\", \"Topic3\", \"Topic3\", \"Topic3\", \"Topic3\", \"Topic3\", \"Topic3\", \"Topic3\", \"Topic3\", \"Topic3\", \"Topic3\", \"Topic3\", \"Topic3\", \"Topic3\", \"Topic3\", \"Topic3\", \"Topic3\", \"Topic3\", \"Topic4\", \"Topic4\", \"Topic4\", \"Topic4\", \"Topic4\", \"Topic4\", \"Topic4\", \"Topic4\", \"Topic4\", \"Topic4\", \"Topic4\", \"Topic4\", \"Topic4\", \"Topic4\", \"Topic4\", \"Topic4\", \"Topic4\", \"Topic4\", \"Topic4\", \"Topic4\", \"Topic4\", \"Topic4\", \"Topic4\", \"Topic4\", \"Topic4\", \"Topic4\", \"Topic4\", \"Topic4\", \"Topic4\", \"Topic4\", \"Topic4\", \"Topic4\", \"Topic4\", \"Topic4\", \"Topic4\", \"Topic4\", \"Topic4\", \"Topic4\", \"Topic4\", \"Topic4\", \"Topic4\", \"Topic4\", \"Topic4\", \"Topic5\", \"Topic5\", \"Topic5\", \"Topic5\", \"Topic5\", \"Topic5\", \"Topic5\", \"Topic5\", \"Topic5\", \"Topic5\", \"Topic5\", \"Topic5\", \"Topic5\", \"Topic5\", \"Topic5\", \"Topic5\", \"Topic5\", \"Topic5\", \"Topic5\", \"Topic5\", \"Topic5\", \"Topic5\", \"Topic5\", \"Topic5\", \"Topic5\", \"Topic5\", \"Topic5\", \"Topic5\", \"Topic5\", \"Topic5\", \"Topic5\", \"Topic5\", \"Topic5\", \"Topic5\", \"Topic5\", \"Topic5\", \"Topic5\", \"Topic5\", \"Topic5\", \"Topic5\", \"Topic6\", \"Topic6\", \"Topic6\", \"Topic6\", \"Topic6\", \"Topic6\", \"Topic6\", \"Topic6\", \"Topic6\", \"Topic6\", \"Topic6\", \"Topic6\", \"Topic6\", \"Topic6\", \"Topic6\", \"Topic6\", \"Topic6\", \"Topic6\", \"Topic6\", \"Topic6\", \"Topic6\", \"Topic6\", \"Topic6\", \"Topic6\", \"Topic6\", \"Topic6\", \"Topic6\", \"Topic6\", \"Topic6\", \"Topic6\", \"Topic6\", \"Topic6\", \"Topic6\", \"Topic6\", \"Topic6\", \"Topic6\", \"Topic6\", \"Topic6\", \"Topic6\", \"Topic6\", \"Topic6\", \"Topic6\", \"Topic6\", \"Topic6\", \"Topic6\", \"Topic7\", \"Topic7\", \"Topic7\", \"Topic7\", \"Topic7\", \"Topic7\", \"Topic7\", \"Topic7\", \"Topic7\", \"Topic7\", \"Topic7\", \"Topic7\", \"Topic7\", \"Topic7\", \"Topic7\", \"Topic7\", \"Topic7\", \"Topic7\", \"Topic7\", \"Topic7\", \"Topic7\", \"Topic7\", \"Topic7\", \"Topic7\", \"Topic7\", \"Topic7\", \"Topic7\", \"Topic7\", \"Topic7\", \"Topic7\", \"Topic7\", \"Topic7\", \"Topic7\", \"Topic7\", \"Topic7\", \"Topic7\", \"Topic7\", \"Topic7\", \"Topic7\", \"Topic7\", \"Topic8\", \"Topic8\", \"Topic8\", \"Topic8\", \"Topic8\", \"Topic8\", \"Topic8\", \"Topic8\", \"Topic8\", \"Topic8\", \"Topic8\", \"Topic8\", \"Topic8\", \"Topic8\", \"Topic8\", \"Topic8\", \"Topic8\", \"Topic8\", \"Topic8\", \"Topic8\", \"Topic8\", \"Topic8\", \"Topic8\", \"Topic8\", \"Topic8\", \"Topic8\", \"Topic8\", \"Topic8\", \"Topic8\", \"Topic8\", \"Topic8\", \"Topic8\", \"Topic8\", \"Topic8\", \"Topic8\", \"Topic8\", \"Topic8\", \"Topic8\", \"Topic8\", \"Topic8\", \"Topic8\", \"Topic9\", \"Topic9\", \"Topic9\", \"Topic9\", \"Topic9\", \"Topic9\", \"Topic9\", \"Topic9\", \"Topic9\", \"Topic9\", \"Topic9\", \"Topic9\", \"Topic9\", \"Topic9\", \"Topic9\", \"Topic9\", \"Topic9\", \"Topic9\", \"Topic9\", \"Topic9\", \"Topic9\", \"Topic9\", \"Topic9\", \"Topic9\", \"Topic9\", \"Topic9\", \"Topic9\", \"Topic9\", \"Topic9\", \"Topic9\", \"Topic9\", \"Topic9\", \"Topic9\", \"Topic9\", \"Topic9\", \"Topic9\", \"Topic9\", \"Topic10\", \"Topic10\", \"Topic10\", \"Topic10\", \"Topic10\", \"Topic10\", \"Topic10\", \"Topic10\", \"Topic10\", \"Topic10\", \"Topic10\", \"Topic10\", \"Topic10\", \"Topic10\", \"Topic10\", \"Topic10\", \"Topic10\", \"Topic10\", \"Topic10\", \"Topic10\", \"Topic10\", \"Topic10\", \"Topic10\", \"Topic10\", \"Topic10\", \"Topic10\", \"Topic10\", \"Topic10\", \"Topic10\", \"Topic10\", \"Topic10\", \"Topic10\", \"Topic10\", \"Topic10\", \"Topic10\", \"Topic10\", \"Topic10\"], \"Freq\": [772.0, 678.0, 592.0, 519.0, 384.0, 386.0, 341.0, 334.0, 277.0, 322.0, 321.0, 386.0, 288.0, 408.0, 309.0, 309.0, 218.0, 304.0, 216.0, 216.0, 320.0, 355.0, 401.0, 191.0, 163.0, 186.0, 243.0, 312.0, 187.0, 164.0, 201.07129467206207, 217.2521940182735, 135.4740293836721, 122.75238717568425, 111.95368218912421, 124.53450005487677, 117.15533117739896, 112.3592145893031, 71.30804291066625, 65.17373509392411, 64.28152446809032, 63.39860494768462, 63.39616094945815, 87.61394604242903, 65.36962841033996, 67.28487656137023, 65.69745428618795, 70.9062787451178, 120.51992698016794, 116.19298096021993, 43.93271891530823, 42.920896217468496, 39.37047986991743, 37.5181732241603, 36.73116991120107, 28.348519953157897, 26.519480712089493, 23.66714064252799, 111.32883728650583, 18.280236880955083, 136.74361005498994, 115.1238379438983, 237.1642605110377, 311.87519901659704, 116.6619018231569, 70.98914013506584, 231.75403785821698, 159.09823127668787, 165.43798475425004, 96.70802680674481, 76.19338889379091, 146.4188335452139, 91.78107501583933, 89.9378395544761, 90.57791981688935, 75.44665521102898, 94.0719615109774, 69.29548957247948, 68.74692180905457, 71.04752990010891, 68.78091154433501, 84.97898884301995, 63.26916181610645, 63.266439001752836, 63.26057157019785, 54.84469782827254, 52.990821307796125, 56.96841815314742, 52.26947086382208, 50.21935337203587, 47.595662167096634, 46.48701881704109, 53.1322815935091, 48.60031818055666, 40.898146921504654, 41.26007120297445, 50.09090507634989, 34.53261465743234, 32.52313474192548, 32.456735106111445, 27.012097145081903, 54.83978094540951, 79.75212402733125, 197.63081972615723, 119.65995002576994, 96.5884221048507, 48.62145251143831, 137.98613119260403, 131.49232151274887, 142.72522969955097, 123.7491203608119, 113.48768793475234, 110.51440315003944, 105.09152740522335, 104.42550966399378, 119.73862808528264, 70.15847459649422, 66.79417395497738, 55.437691665514926, 45.25465005684041, 43.71506010561395, 91.54640586078915, 39.591140417433046, 38.41264987492314, 35.5695957589151, 35.768723929342954, 34.04194134632729, 33.817408001162214, 27.145677253451588, 25.941606500419535, 25.360350458565044, 24.81021620807599, 19.88633227651668, 18.195641443975205, 17.199533520386858, 16.68287777793534, 16.06626452476112, 273.69934849725723, 119.79935945884513, 46.453520999294604, 169.31824870057144, 46.37915926122589, 39.615060098401635, 32.78090233189936, 42.89882969690136, 42.836927145659075, 770.3198493597705, 97.59764996830683, 53.57453816666513, 43.923874174208045, 377.8739311832311, 29.51219150240379, 29.069549840119887, 27.567495980198476, 27.211331609640954, 26.607810966651712, 96.49254453315412, 10.14365145180118, 9.381106007240607, 341.9524377436537, 107.3715687549088, 6.485256178258669, 108.42088221208863, 28.958254854522547, 4.754031017626687, 5.186876769925168, 3.7827952881339226, 38.31107344202269, 155.98821069153803, 3.2400802237541386, 3.176358591833648, 3.3626122486726393, 3.4395759877557652, 124.70226182543013, 9.029269861547412, 2.086039323576311, 205.84006096267103, 69.24577680653508, 62.11142308093975, 42.63181011616098, 146.0654656946226, 38.46974159152952, 53.289167585878424, 62.98284958274983, 9.741976222265137, 27.743173986409452, 12.590053013085848, 11.35446637225396, 11.230366842888001, 591.0533745478799, 183.80182940081465, 186.74146615319265, 162.37846873269206, 379.44254832829796, 65.36079129699058, 58.866756863511405, 90.9715751185741, 32.11995042828486, 31.686457909525085, 30.838018133813428, 24.081679946322527, 26.19744123118211, 21.830225346396137, 23.461386333188578, 18.795695269175177, 20.114403796713102, 17.311125469452335, 17.206414163877106, 17.203321100778503, 17.193870000195535, 17.18473168062495, 15.815320543345093, 13.852850688075558, 17.7177162213008, 10.771069154672608, 11.236850677577044, 10.122960163193374, 10.351718192012253, 9.143451326161996, 10.982718251799742, 286.6958675188545, 56.972495254573985, 26.4951828018644, 146.54736527619244, 81.92353864806827, 40.51564603725805, 62.730338713712484, 25.664430147466803, 35.79577129527902, 677.4706346853799, 340.4263693901887, 320.57335007385757, 321.31637781326924, 308.58647679978856, 308.5866228489489, 514.9399337560219, 331.0010570212147, 8.243366531784094, 7.702519062809762, 7.461208108601239, 7.342813924086466, 5.64828609790158, 2.221332974156338, 2.6911316838820474, 2.2647276430571894, 6.7033190230611295, 0.12773911615562195, 0.2022756355701805, 0.12749080372071564, 0.12757012061501224, 0.12758346598594114, 0.1277715227362277, 0.12799963095021133, 0.1276922485249312, 0.12767569064687978, 0.12782987449725972, 0.12754914086844502, 0.12743834562528933, 0.1277018364751381, 0.13344947098748886, 0.1594423868416367, 0.1523043445991844, 0.1531283008973544, 0.20944095577387664, 0.13554447693146487, 0.15357706084128273, 0.1811713087958615, 0.14271923675807693, 0.14396084160075595, 0.1324281481807084, 0.13715129608534424, 0.13710644814013104, 0.14128813039439803, 0.13671801624013236, 287.7275108096714, 118.2657168335984, 114.20596656088323, 77.85656619689176, 33.63082445171201, 32.439040648309515, 28.63843499540561, 24.5971891770645, 24.31890715389315, 20.942756367021538, 20.770295570127253, 33.34402012255399, 19.57429666500982, 19.047799827384154, 18.430518960732304, 18.20248027745727, 18.0038474501694, 17.489478935743865, 17.257160840827897, 16.554380308742694, 17.573168651210413, 15.783890036916361, 16.39886937939606, 17.77220903935629, 14.57323974300591, 16.74791183738556, 14.636889233450134, 14.398983087435338, 16.330414584972942, 13.890454160866122, 139.12492288519417, 34.42558589216926, 70.15708050106645, 44.1997223101792, 113.54930146797776, 19.782990393038723, 17.578927254273857, 26.241472955117608, 30.72015225218714, 27.506613562002038, 217.88654308344698, 215.39615915076837, 215.39602213105886, 189.95329050908677, 108.57339457877791, 74.73641372907089, 51.4220738207877, 46.50255061453731, 46.499993993457316, 46.48772032785181, 35.94149138068353, 39.234126002107445, 34.75043933433349, 40.27027362228514, 38.6051084590074, 38.81054068799221, 28.789742171430454, 36.40298306243381, 34.56758802449619, 26.237023260393823, 34.52801959020395, 34.458856825805185, 23.804314335682815, 24.248211060775837, 23.73451347203347, 18.689091598514068, 15.491066360390455, 13.8385862031943, 12.65780930582742, 12.223412153761698, 50.09546686164288, 15.631882972857326, 70.7485729855054, 52.215688999323625, 35.717887296041646, 34.39323385572652, 46.51991625439108, 38.32141828426929, 37.37032886407859, 40.404162328890315, 29.84077370625907, 133.43920848814255, 162.16951885085984, 70.82860065102089, 81.96792974161471, 62.17843187453865, 61.021682432851726, 60.198325406329324, 56.6408848670441, 56.64062900178228, 56.640439723320675, 56.64103483310927, 103.7297285031221, 50.39463136033067, 35.10708264640162, 97.5002459691904, 24.552258753702265, 69.00029230185518, 23.96537721887132, 19.684594170001024, 48.54160219307744, 15.794434649595908, 18.756146090068214, 11.506822116202354, 172.81348839457402, 9.560884924910273, 9.777662512159894, 8.793842722844069, 7.593068900314235, 6.639588330554234, 6.638201962525882, 80.6212740505811, 163.90813205117058, 74.86744095774137, 59.12000326727494, 120.55618277851481, 20.83034905727158, 40.67902834105266, 276.29498941342473, 162.66379573467694, 115.82376658517809, 85.79605618923546, 82.79466246679841, 82.22278876075453, 82.45246600524727, 80.91985374280618, 81.89091612975557, 81.76632978103325, 80.90993296953977, 80.90424002730762, 40.28906692459702, 27.71256376588011, 22.022905072906628, 20.514838007090116, 22.55744037585522, 20.672995049245547, 19.31596995856811, 17.83305620759189, 16.170433837808925, 16.170452706897358, 16.17044223088875, 15.295337855895962, 14.474878182512573, 12.891973381319147, 13.152511306211524, 12.057334322887586, 39.49740371191535, 10.460394586071867, 12.507244733327319, 22.699707470136367, 17.04080285009138, 43.66954087915789, 30.038164630295576, 17.765970344322874, 18.171793125101324], \"Term\": [\"game\", \"watch\", \"qbs\", \"amp\", \"defense\", \"pass\", \"kick\", \"championship\", \"need\", \"live\", \"chance\", \"yard\", \"int\", \"face\", \"comment\", \"club\", \"calculate\", \"week\", \"valuation\", \"recent\", \"tds\", \"get\", \"play\", \"clemson\", \"hof\", \"team\", \"top\", \"sack\", \"last\", \"see\", \"put\", \"ball\", \"allow\", \"blame\", \"nan\", \"hold\", \"give\", \"cut\", \"forget\", \"asante\", \"mouthpiece\", \"money\\u00e3\", \"locker\", \"boy\", \"stack\", \"used\", \"room\", \"whole\", \"job\", \"potential\", \"honey\", \"steak\", \"man\", \"layer\", \"hooked\", \"special\", \"point\", \"home\", \"however\", \"number\", \"big\", \"bring\", \"better\", \"get\", \"protect\", \"work\", \"play\", \"time\", \"sack\", \"take\", \"run\", \"trade\", \"accuracy\", \"scary\", \"tco\", \"elite\", \"pick\", \"interception\", \"newton\", \"psa\", \"stop\", \"never\", \"halftime\", \"sophomore\", \"patience\", \"superstar\", \"remember\", \"amazing\", \"freak\", \"magical\", \"group\", \"mesmerize\", \"instead\", \"bad\", \"don\\u00e3\", \"want\", \"champion\", \"ask\", \"reminder\", \"end\", \"someone\", \"shit\", \"say\", \"draft\", \"season\", \"electric\", \"think\", \"college\", \"meet\", \"football\", \"weekend\", \"headtohead\", \"saturday\", \"compete\", \"best\", \"enter\", \"app\", \"everyone\", \"tomorrow\", \"sport\", \"even\", \"power\", \"fantasy\", \"score\", \"cbs\", \"scoreboard\", \"houvskc\", \"yahoo\", \"like\", \"explain\", \"mahomes\\u00e3\", \"wearetexan\", \"claytravis\", \"show\", \"makeitreign\", \"fantasyfootball\", \"nfltwitter\", \"week\", \"ranking\", \"fan\", \"play\", \"league\", \"great\", \"go\", \"top\", \"get\", \"game\", \"primetime\", \"total\", \"third\", \"pass\", \"grade\", \"fourth\", \"crush\", \"eat\", \"interior\", \"completion\", \"prepare\", \"winning\", \"yard\", \"turn\", \"getnickwright\", \"rating\", \"defensive\", \"sorry\", \"potency\", \"difference\", \"least\", \"sunday\", \"prop\", \"squad\", \"likely\", \"clemsonnfl\", \"today\", \"insane\", \"dependent\", \"tds\", \"career\", \"league\", \"throw\", \"sack\", \"player\", \"season\", \"time\", \"didn\\u00e3\", \"ranking\", \"worst\", \"acc\", \"jarren\", \"qbs\", \"next\", \"last\", \"falk\", \"defense\", \"pep\", \"dualthreat\", \"break\", \"mccaffery\", \"selection\", \"dabo\", \"oppose\", \"swinney\", \"future\", \"realize\", \"class\", \"bear\", \"matchup\", \"packersbear\", \"trubisky\\u00e3\", \"optimistic\", \"ugly\", \"add\", \"prizm\", \"catch\", \"mention\", \"wr\", \"ship\", \"healthy\", \"outside\", \"podcast\", \"face\", \"overall\", \"early\", \"take\", \"run\", \"talk\", \"draft\", \"rookie\", \"top\", \"watch\", \"kick\", \"chance\", \"live\", \"comment\", \"club\", \"amp\", \"championship\", \"reply\", \"easily\", \"splashtown\", \"hop\", \"nice\", \"idc\", \"endzone\", \"agent\", \"bring\", \"hard\", \"monster\", \"trip\", \"dependent\", \"decide\", \"trash\", \"illuminating\", \"auburn\", \"torn\", \"mix\", \"dbs\", \"tournament\", \"mlb\", \"resign\", \"vibe\", \"hope\", \"free\", \"cut\", \"silence\", \"arm\", \"potential\", \"read\", \"close\", \"wilson\\u00e3\", \"different\", \"analysis\", \"however\", \"exec\", \"int\", \"starter\", \"national\", \"come\", \"tough\", \"old\", \"ability\", \"prediction\", \"imagine\", \"much\", \"air\", \"countdown\", \"como\", \"auto\", \"texas\", \"debut\", \"trading\", \"arm\", \"loss\", \"ppr\", \"espns\", \"teammate\", \"central\", \"ride\", \"luck\", \"lincoln\", \"rest\", \"hell\", \"sitdown\", \"place\", \"start\", \"call\", \"make\", \"back\", \"tds\", \"injury\", \"do\", \"year\", \"time\", \"quarterback\", \"calculate\", \"valuation\", \"recent\", \"clemson\", \"birthday\", \"history\", \"dangerous\", \"generation\", \"tactical\", \"playmaker\", \"highest\", \"twice\", \"slayden\", \"louisville\", \"pitt\", \"other\", \"keep\", \"match\", \"weinke\", \"average\", \"virginia\", \"fsu\", \"coach\", \"min\", \"fast\", \"regular\", \"damn\", \"wish\", \"high\", \"style\", \"record\", \"state\", \"hate\", \"happy\", \"acc\", \"jarren\", \"electric\", \"player\", \"great\", \"today\", \"career\", \"hit\", \"see\", \"believe\", \"they\\u00e3\", \"money\", \"set\", \"couldn\\u00e3\", \"alarm\", \"paycheck\", \"account\", \"bank\", \"first\", \"thought\", \"offer\", \"can\\u00e3\", \"primer\", \"epic\", \"here\\u00e3\", \"espn\", \"lead\", \"reveal\", \"overrate\", \"offseason\", \"team\", \"opinion\", \"underrate\", \"preview\", \"haben\", \"trek\", \"inspire\", \"know\", \"top\", \"quarterback\", \"practice\", \"face\", \"quick\", \"sunday\", \"need\", \"hof\", \"hou\", \"det\", \"reach\", \"marino\", \"attention\", \"marc\", \"fewest\", \"unreal\", \"bulger\", \"stl\", \"leader\", \"sea\", \"qbr\", \"bal\", \"wife\", \"hot\", \"feel\", \"rise\", \"contrast\", \"study\", \"chargers\\u00e3\", \"jamis\", \"lac\", \"dal\", \"nyj\", \"phi\", \"passer\", \"update\", \"south\", \"texans\\u00e3\", \"black\", \"yard\", \"week\", \"rating\", \"time\"], \"Total\": [772.0, 678.0, 592.0, 519.0, 384.0, 386.0, 341.0, 334.0, 277.0, 322.0, 321.0, 386.0, 288.0, 408.0, 309.0, 309.0, 218.0, 304.0, 216.0, 216.0, 320.0, 355.0, 401.0, 191.0, 163.0, 186.0, 243.0, 312.0, 187.0, 164.0, 202.03095375910874, 218.59505965237645, 136.46378553238927, 123.72285376093846, 112.91057511548192, 125.63890721486293, 118.2662714750731, 113.56428104950955, 72.31579697726136, 66.15913798191659, 65.27575563002172, 64.39054672294847, 64.39139426175697, 89.0476676905339, 66.47224792305097, 68.44106300907917, 66.88760557939065, 72.27324638622409, 122.84813145974586, 118.57433220815878, 44.91878636908202, 43.91271871152964, 40.33686123766589, 38.50428751613415, 37.72986107486683, 29.328318472568117, 27.491867622201845, 24.659546015200878, 116.98781796112702, 19.242135821962275, 145.94072598677985, 122.81638955142462, 263.9522366837211, 355.6471432408941, 131.53531006819256, 81.39870257690366, 401.96101283432216, 271.6692857311769, 312.38810576576856, 256.26968159018355, 175.74154434205784, 147.52447738966555, 92.75051527172359, 90.91992769415027, 91.68335165857567, 76.42979861113237, 95.34433562166845, 70.27358478360149, 69.72709370820361, 72.07106222679225, 69.79304032102466, 86.27160511461557, 64.24458823787113, 64.24440562058896, 64.24503381905095, 55.84052197175749, 53.9539577136542, 58.0053947052794, 53.28778782812683, 51.247794033893726, 48.589538340213906, 47.46521890844448, 54.30528865173417, 49.71014296116854, 41.86174096413397, 42.25595168437231, 51.365016313286915, 35.50150972245532, 33.48420629443789, 33.42042948636685, 27.977947498960546, 56.96904427458178, 87.95148818868797, 261.26808288009323, 173.81808796509816, 144.18052434545214, 68.86836565162453, 138.94081501205403, 132.44542651969144, 143.76047181766205, 124.71558810177658, 114.4399672563807, 111.47621929385326, 106.04302221955363, 105.44446265863675, 120.98903392756473, 71.11090094420308, 67.7599087232477, 56.3939015059333, 46.20992699680441, 44.676870974284455, 93.58860588582777, 40.562022562881246, 39.37330620758364, 36.52266114405921, 36.72747059515906, 34.99391321723956, 34.768516997492966, 28.10564580757613, 26.90257053823915, 26.31331979490862, 25.88455438721043, 20.879063038592562, 19.152028758046235, 18.151026573395036, 17.63867700756784, 17.028272546739625, 304.6110037563033, 148.41519118890335, 61.37642405384157, 401.96101283432216, 109.35041227826852, 104.13297023445206, 67.41860985544116, 243.97017638563997, 355.6471432408941, 772.6189087148144, 99.14297879907, 54.605372593814785, 44.893762674231, 386.7419522409349, 30.493951928188448, 30.048465295381423, 28.53266199632889, 28.171657530719497, 27.57234211809939, 100.98145640988888, 11.115286301810297, 10.332342121394197, 386.460484613683, 123.03614260569017, 7.4561872770056485, 127.06313220379232, 34.45569378686209, 5.7101464974964005, 6.255916202494622, 4.747749398603383, 48.461536287583904, 197.4896302490789, 4.198667241104208, 4.127790545988088, 4.374568485712858, 4.555562499991242, 165.95995359961418, 12.746877324914475, 3.0367514870558927, 320.2896583717684, 112.91577062688583, 109.35041227826852, 73.93494749487583, 312.38810576576856, 87.99623852184286, 173.81808796509816, 271.6692857311769, 16.27370841738367, 148.41519118890335, 29.944926494271822, 47.97281996863179, 46.54329732052109, 592.0438379834223, 184.75624728988018, 187.87209701582984, 163.38719194863316, 384.1409718004498, 66.49277504840329, 59.94648343166488, 92.89704273229307, 33.0727702573938, 32.67446267244156, 31.799881834474686, 25.03237719412639, 27.246100980896585, 22.78324394376092, 24.576067850756843, 19.748436973193776, 21.17491872754074, 18.266580223173435, 18.16358458303368, 18.162980938079777, 18.16197397479181, 18.160963220086167, 16.758108487735278, 14.798024160038176, 19.025506691846193, 11.722961211718246, 12.245469621712939, 11.077699710771457, 11.343731307683077, 10.087914413852127, 12.219731255816447, 408.1405075773789, 76.01499935114505, 33.03573815730125, 256.26968159018355, 175.74154434205784, 81.2572480005378, 261.26808288009323, 44.921885531290684, 243.97017638563997, 678.8236519029921, 341.3720334005524, 321.5167436648394, 322.2933527837536, 309.5266127529936, 309.52711506810033, 519.5233559097572, 334.16474142418235, 9.162420824528521, 8.62158277650717, 8.490760613357322, 8.45914934718149, 6.56717442598078, 4.538519681370215, 5.727115133003248, 5.410969184901395, 122.81638955142462, 2.8576198555164845, 4.649759662818085, 3.007994887100661, 3.0367514870558927, 3.196771274465956, 3.24147719822489, 3.3908339234124867, 3.398074827398937, 3.4143529980277822, 3.430851438046895, 3.4290265116696204, 3.508064096958207, 3.5500420132572947, 3.8793738255553096, 5.671077084704886, 8.9273570107473, 9.339774499214565, 113.56428104950955, 5.83258647326843, 18.46405681621588, 118.57433220815878, 11.39532678273765, 16.95456394648717, 5.4625174287865255, 12.648335925794697, 14.692649161320144, 116.98781796112702, 14.692525738003733, 288.7088055179279, 119.24323504908324, 115.16551592589853, 78.82973812666314, 34.625501114940555, 33.40236696068176, 29.727237360420055, 25.550377179063545, 25.266990618950274, 21.91713321677142, 21.74185391148072, 34.94276372125213, 20.52144909011088, 20.013924244070264, 19.386896383795456, 19.155078900856505, 18.965887297533737, 18.46405681621588, 18.221490877244072, 17.504787498175332, 18.585810802727348, 16.7373615235473, 17.414843964241655, 18.905635001420208, 15.523048458477431, 17.84050154564715, 15.592029012544907, 15.347592853819679, 17.41352218129146, 14.850266160445383, 169.39445492100393, 38.632607579777755, 101.33099513384884, 63.91824229303285, 320.2896583717684, 24.723191815303792, 21.765990264847897, 81.51560192732107, 271.6692857311769, 166.24930634071825, 218.83414089246986, 216.34330813875957, 216.3440616282215, 191.03909985216555, 109.52408110907955, 75.82523383589883, 52.37694625419573, 47.46152556256141, 47.4614303905295, 47.46093571734579, 36.919329257718886, 40.42354124081423, 35.81910525863703, 41.52404013828851, 39.81587905529639, 40.036583536406255, 29.786008871037627, 37.66775167646722, 35.81514770558492, 27.18909674610657, 35.813958944886124, 35.81317349662595, 24.774211864187524, 25.24834512582261, 24.72515178775679, 19.64156262309072, 16.44220986257805, 14.79324781211332, 13.60822581298045, 13.17185714037463, 57.19685078064565, 17.009004883295162, 86.01648212439338, 68.42978333391648, 47.97281996863179, 46.54329732052109, 144.18052434545214, 87.99623852184286, 104.13297023445206, 165.95995359961418, 112.91577062688583, 134.50482707815917, 164.37519119859007, 71.79592893196119, 83.12477352820558, 63.13114441178321, 61.981060917964804, 61.16285767126738, 57.59031963311176, 57.59042301653878, 57.59085043576796, 57.591502569396425, 105.70087012038164, 51.6990381599937, 36.03463249858151, 100.11470987066828, 25.536656189331172, 71.83617246209342, 25.079863886631795, 20.60135701629783, 50.97981541562611, 16.710851111468013, 19.927732504016113, 12.426674138086726, 186.80017844780394, 10.470409456198926, 10.747945481965848, 9.716133414842027, 8.502514586180597, 7.551481804959654, 7.550588046475624, 110.10562951766832, 243.97017638563997, 166.24930634071825, 123.47330705400265, 408.1405075773789, 32.57207058999238, 197.4896302490789, 277.3288027084914, 163.65363717482583, 116.75056579169569, 86.75050793570811, 83.7446661948475, 83.1702790951649, 83.40934698854213, 81.8614119058085, 82.8443681527908, 82.71950379858549, 81.85994526541766, 81.85827383923484, 41.22223922084613, 28.643019037338618, 22.954715641286565, 21.4416290193146, 23.578176222198223, 21.645200859438244, 20.252440800502388, 18.825867461201998, 17.09618384113827, 17.097005517471473, 17.097088068434317, 16.267404597796514, 15.435067377538159, 13.818776834918806, 14.101073753404293, 12.98875817108342, 42.683797084282816, 11.392968291427747, 13.624803879869145, 26.354643979443672, 23.16311651311607, 386.460484613683, 304.6110037563033, 127.06313220379232, 271.6692857311769], \"loglift\": [30.0, 29.0, 28.0, 27.0, 26.0, 25.0, 24.0, 23.0, 22.0, 21.0, 20.0, 19.0, 18.0, 17.0, 16.0, 15.0, 14.0, 13.0, 12.0, 11.0, 10.0, 9.0, 8.0, 7.0, 6.0, 5.0, 4.0, 3.0, 2.0, 1.0, 1.9009, 1.8995, 1.8984, 1.8978, 1.8972, 1.8968, 1.8962, 1.895, 1.8916, 1.8907, 1.8903, 1.8902, 1.8901, 1.8894, 1.889, 1.8886, 1.8877, 1.8866, 1.8865, 1.8854, 1.8835, 1.8828, 1.8814, 1.8797, 1.8789, 1.8717, 1.8697, 1.8646, 1.8561, 1.8544, 1.8406, 1.841, 1.7987, 1.7743, 1.7857, 1.7688, 1.355, 1.3706, 1.27, 0.9311, 1.0699, 1.9424, 1.9394, 1.9391, 1.9378, 1.937, 1.9365, 1.9359, 1.9358, 1.9356, 1.9353, 1.9349, 1.9347, 1.9346, 1.9345, 1.932, 1.9319, 1.9319, 1.9307, 1.9297, 1.9293, 1.9291, 1.9281, 1.9274, 1.9267, 1.9261, 1.9248, 1.9223, 1.9208, 1.9207, 1.9148, 1.9119, 1.8521, 1.6708, 1.5766, 1.5493, 1.6018, 2.1452, 2.1448, 2.1448, 2.1443, 2.1437, 2.1434, 2.143, 2.1423, 2.1417, 2.1386, 2.1377, 2.1349, 2.1312, 2.1303, 2.13, 2.1278, 2.1273, 2.1256, 2.1256, 2.1245, 2.1243, 2.1173, 2.1157, 2.1152, 2.1097, 2.1033, 2.1008, 2.0982, 2.0963, 2.0939, 2.045, 1.9379, 1.8735, 1.2875, 1.2943, 1.1856, 1.431, 0.4138, 0.0355, 2.2718, 2.259, 2.2557, 2.2529, 2.2515, 2.242, 2.2416, 2.2403, 2.2401, 2.2391, 2.2293, 2.1833, 2.1782, 2.1524, 2.1386, 2.1352, 2.1161, 2.1009, 2.0915, 2.0873, 2.0475, 2.0397, 2.0388, 2.0156, 2.0127, 2.0116, 1.9937, 1.9889, 1.9299, 1.8992, 1.8326, 1.7858, 1.7091, 1.7242, 1.5145, 1.4473, 1.0925, 0.813, 1.7616, 0.5977, 1.4083, 0.8337, 0.853, 2.3227, 2.3192, 2.3183, 2.3182, 2.3121, 2.3072, 2.3062, 2.3034, 2.2951, 2.2937, 2.2936, 2.2856, 2.2851, 2.2816, 2.2779, 2.2749, 2.273, 2.2706, 2.2702, 2.2701, 2.2696, 2.2691, 2.2665, 2.2584, 2.2531, 2.2397, 2.2384, 2.2342, 2.2328, 2.2261, 2.2176, 1.9712, 2.036, 2.1037, 1.7655, 1.5611, 1.6284, 0.8977, 1.7645, 0.4051, 2.3264, 2.3256, 2.3255, 2.3254, 2.3254, 2.3254, 2.3195, 2.3189, 2.2227, 2.2157, 2.1991, 2.1869, 2.1777, 1.6139, 1.5731, 1.4574, -0.5797, -0.7794, -0.8065, -0.8326, -0.8415, -0.8927, -0.9051, -0.9484, -0.9529, -0.9579, -0.9615, -0.9631, -0.9868, -0.9966, -1.0413, -1.2431, -1.7426, -1.7824, -3.9673, -1.4335, -2.461, -4.1555, -2.0517, -2.4404, -1.3912, -2.1958, -2.3459, -4.3906, -2.3488, 2.5254, 2.5206, 2.5204, 2.5164, 2.4996, 2.4995, 2.4915, 2.4908, 2.4905, 2.4833, 2.4831, 2.482, 2.4815, 2.4793, 2.4782, 2.4778, 2.4767, 2.4746, 2.4744, 2.473, 2.4728, 2.4701, 2.4687, 2.467, 2.4656, 2.4656, 2.4656, 2.465, 2.4646, 2.462, 2.3319, 2.4135, 2.1611, 2.1599, 1.4918, 2.3059, 2.3151, 1.3953, 0.3491, 0.7297, 2.5256, 2.5256, 2.5256, 2.5243, 2.5212, 2.5155, 2.5116, 2.5095, 2.5095, 2.5092, 2.5031, 2.5001, 2.4997, 2.4993, 2.4991, 2.4989, 2.4959, 2.4958, 2.4945, 2.4943, 2.4934, 2.4914, 2.49, 2.4895, 2.4891, 2.4803, 2.4704, 2.4633, 2.4576, 2.4552, 2.3974, 2.4455, 2.3346, 2.2595, 2.235, 2.2274, 1.3988, 1.6987, 1.5052, 1.1171, 1.1992, 2.6397, 2.6342, 2.6341, 2.6337, 2.6325, 2.6321, 2.6318, 2.6311, 2.6311, 2.6311, 2.6311, 2.6289, 2.6221, 2.6216, 2.6212, 2.6084, 2.6074, 2.6022, 2.6022, 2.5987, 2.5913, 2.5871, 2.5708, 2.5699, 2.5568, 2.5531, 2.548, 2.5346, 2.519, 2.5189, 2.336, 2.25, 1.8499, 1.9112, 1.4282, 2.2006, 1.0677, 2.739, 2.7366, 2.7347, 2.7316, 2.7313, 2.7312, 2.7311, 2.7311, 2.7311, 2.7311, 2.731, 2.731, 2.7198, 2.7097, 2.7012, 2.6985, 2.6984, 2.6967, 2.6953, 2.6885, 2.687, 2.687, 2.687, 2.6811, 2.6785, 2.6733, 2.673, 2.6683, 2.6651, 2.6573, 2.6571, 2.5934, 2.4357, 0.5623, 0.4261, 0.7753, 0.038], \"logprob\": [30.0, 29.0, 28.0, 27.0, 26.0, 25.0, 24.0, 23.0, 22.0, 21.0, 20.0, 19.0, 18.0, 17.0, 16.0, 15.0, 14.0, 13.0, 12.0, 11.0, 10.0, 9.0, 8.0, 7.0, 6.0, 5.0, 4.0, 3.0, 2.0, 1.0, -3.2206, -3.1432, -3.6154, -3.7141, -3.8061, -3.6996, -3.7607, -3.8025, -4.2572, -4.3472, -4.361, -4.3748, -4.3748, -4.0513, -4.3442, -4.3153, -4.3392, -4.2629, -3.7324, -3.769, -4.7416, -4.7649, -4.8512, -4.8994, -4.9206, -5.1796, -5.2463, -5.3601, -3.8117, -5.6184, -3.6061, -3.7782, -3.0555, -2.7816, -3.7649, -4.2617, -3.0785, -3.4547, -3.4156, -3.9525, -4.1909, -3.4935, -3.9605, -3.9808, -3.9737, -4.1565, -3.9359, -4.2416, -4.2495, -4.2166, -4.249, -4.0375, -4.3326, -4.3326, -4.3327, -4.4754, -4.5098, -4.4375, -4.5235, -4.5635, -4.6172, -4.6408, -4.5072, -4.5963, -4.7689, -4.7601, -4.5661, -4.938, -4.998, -5.0, -5.1837, -4.4755, -4.101, -3.1935, -3.6953, -3.9095, -4.5959, -3.3507, -3.3989, -3.3169, -3.4596, -3.5462, -3.5727, -3.623, -3.6294, -3.4925, -4.0271, -4.0762, -4.2626, -4.4655, -4.5002, -3.761, -4.5992, -4.6295, -4.7064, -4.7008, -4.7503, -4.7569, -4.9766, -5.022, -5.0447, -5.0666, -5.2878, -5.3767, -5.433, -5.4635, -5.5011, -2.6658, -3.492, -4.4394, -3.1461, -4.441, -4.5986, -4.788, -4.519, -4.5205, -1.5084, -3.5743, -4.1741, -4.3727, -2.2206, -4.7704, -4.7855, -4.8385, -4.8515, -4.874, -3.5857, -5.8383, -5.9165, -2.3205, -3.4789, -6.2856, -3.4691, -4.7893, -6.5962, -6.509, -6.8247, -4.5094, -3.1054, -6.9796, -6.9994, -6.9424, -6.9198, -3.3292, -5.9547, -7.4199, -2.8281, -3.9175, -4.0262, -4.4026, -3.1711, -4.5053, -4.1794, -4.0123, -5.8787, -4.8322, -5.6223, -5.7256, -5.7365, -1.7236, -2.8917, -2.8758, -3.0156, -2.1668, -3.9256, -4.0303, -3.595, -4.6361, -4.6497, -4.6768, -4.9241, -4.8399, -5.0222, -4.9502, -5.1719, -5.1041, -5.2542, -5.2603, -5.2604, -5.261, -5.2615, -5.3446, -5.477, -5.231, -5.7287, -5.6863, -5.7907, -5.7684, -5.8925, -5.7092, -2.4471, -4.063, -4.8286, -3.1182, -3.6998, -4.4039, -3.9667, -4.8604, -4.5277, -1.5831, -2.2713, -2.3314, -2.3291, -2.3695, -2.3695, -1.8575, -2.2994, -5.9921, -6.06, -6.0918, -6.1078, -6.3701, -7.3034, -7.1115, -7.284, -6.1989, -10.1593, -9.6996, -10.1612, -10.1606, -10.1605, -10.159, -10.1572, -10.1596, -10.1598, -10.1586, -10.1608, -10.1616, -10.1596, -10.1155, -9.9376, -9.9834, -9.978, -9.6648, -10.1, -9.9751, -9.8098, -10.0484, -10.0397, -10.1232, -10.0882, -10.0885, -10.0585, -10.0913, -2.2391, -3.1282, -3.1631, -3.5462, -4.3857, -4.4218, -4.5464, -4.6985, -4.7099, -4.8593, -4.8676, -4.3942, -4.9269, -4.9542, -4.9871, -4.9996, -5.0105, -5.0395, -5.0529, -5.0945, -5.0347, -5.1421, -5.1039, -5.0235, -5.2219, -5.0828, -5.2176, -5.234, -5.1081, -5.2699, -2.9657, -4.3623, -3.6504, -4.1124, -3.1689, -4.9163, -5.0344, -4.6338, -4.4762, -4.5867, -2.516, -2.5275, -2.5275, -2.6532, -3.2125, -3.586, -3.9599, -4.0604, -4.0605, -4.0608, -4.318, -4.2304, -4.3517, -4.2043, -4.2466, -4.2412, -4.5399, -4.3053, -4.357, -4.6328, -4.3582, -4.3602, -4.7301, -4.7116, -4.733, -4.972, -5.1597, -5.2725, -5.3617, -5.3966, -3.986, -5.1506, -3.6408, -3.9446, -4.3243, -4.3621, -4.0601, -4.2539, -4.2791, -4.201, -4.5041, -2.8886, -2.6936, -3.5219, -3.3759, -3.6522, -3.671, -3.6846, -3.7455, -3.7455, -3.7455, -3.7455, -3.1404, -3.8623, -4.2238, -3.2024, -4.5814, -3.5481, -4.6056, -4.8024, -3.8998, -5.0226, -4.8507, -5.3393, -2.63, -5.5245, -5.5021, -5.6082, -5.755, -5.8892, -5.8894, -3.3924, -2.6829, -3.4665, -3.7026, -2.9901, -4.7458, -4.0765, -2.0657, -2.5955, -2.9351, -3.2352, -3.2709, -3.2778, -3.275, -3.2938, -3.2818, -3.2834, -3.2939, -3.294, -3.9911, -4.3653, -4.5951, -4.6661, -4.5712, -4.6584, -4.7263, -4.8062, -4.904, -4.904, -4.904, -4.9597, -5.0148, -5.1306, -5.1106, -5.1975, -4.011, -5.3396, -5.1609, -4.5649, -4.8516, -3.9106, -4.2847, -4.8099, -4.7873]}, \"token.table\": {\"Topic\": [7, 4, 8, 9, 2, 5, 4, 6, 7, 9, 1, 2, 3, 6, 8, 2, 3, 7, 1, 2, 10, 1, 7, 8, 3, 7, 2, 10, 1, 9, 5, 9, 3, 1, 2, 1, 3, 7, 8, 1, 10, 1, 1, 2, 4, 5, 1, 6, 10, 8, 1, 7, 4, 9, 1, 4, 8, 5, 3, 7, 2, 3, 6, 6, 10, 5, 3, 8, 4, 3, 8, 6, 8, 3, 7, 6, 7, 3, 4, 7, 10, 9, 4, 7, 4, 1, 5, 10, 8, 8, 3, 7, 2, 3, 5, 9, 1, 4, 4, 10, 4, 7, 4, 5, 9, 7, 10, 2, 2, 5, 5, 2, 5, 6, 4, 2, 8, 2, 2, 2, 6, 3, 4, 9, 9, 7, 3, 3, 2, 3, 5, 9, 5, 2, 3, 3, 3, 8, 10, 10, 5, 9, 3, 1, 4, 2, 2, 3, 4, 4, 8, 5, 4, 9, 8, 1, 3, 4, 1, 2, 3, 4, 2, 3, 5, 7, 8, 2, 9, 2, 3, 8, 2, 3, 7, 8, 3, 5, 7, 9, 8, 8, 8, 9, 10, 1, 1, 1, 1, 6, 1, 3, 10, 10, 3, 1, 10, 6, 7, 1, 7, 3, 7, 4, 7, 9, 2, 7, 2, 4, 10, 4, 8, 1, 7, 8, 6, 1, 2, 9, 10, 5, 1, 1, 9, 10, 3, 4, 1, 4, 3, 4, 7, 6, 1, 7, 8, 7, 2, 3, 2, 7, 3, 1, 10, 10, 8, 5, 5, 3, 5, 2, 8, 3, 2, 9, 1, 3, 1, 7, 1, 7, 10, 2, 2, 5, 3, 6, 1, 10, 9, 9, 7, 9, 5, 5, 8, 5, 2, 5, 9, 5, 4, 8, 8, 10, 2, 9, 5, 10, 2, 8, 7, 1, 3, 2, 4, 8, 8, 5, 1, 4, 1, 7, 3, 4, 7, 1, 9, 7, 4, 9, 9, 4, 7, 5, 4, 1, 7, 2, 1, 10, 5, 2, 3, 5, 7, 9, 10, 7, 9, 3, 4, 4, 10, 10, 7, 8, 5, 8, 4, 8, 8, 2, 2, 6, 7, 7, 9, 7, 10, 2, 5, 7, 1, 1, 3, 5, 7, 1, 4, 3, 2, 3, 2, 3, 3, 10, 2, 4, 3, 9, 5, 9, 5, 1, 2, 3, 10, 7, 8, 2, 2, 4, 10, 1, 6, 3, 4, 1, 3, 7, 10, 7, 8, 1, 10, 2, 10, 8, 4, 9, 2, 5, 8, 1, 3, 5, 2, 5, 2, 4, 7, 2, 7, 8, 9, 7, 1, 10, 7, 9, 1, 2, 4, 9, 3, 4, 5, 8, 1, 4, 7, 10, 4, 8, 3, 3, 5, 9, 10, 2, 4, 7, 3, 2, 7, 2, 9, 2, 5, 1, 3, 4, 7, 8, 8, 5, 9, 10, 10, 1, 8, 1, 8, 2, 3, 6, 3, 3, 10, 3, 8, 1, 10, 7, 4, 8, 1, 7, 4, 5, 5, 3, 4, 10, 1, 2, 7], \"Freq\": [0.9755363288016691, 0.22929650596301449, 0.7504249286062292, 0.9897405502558614, 0.9919082360941622, 0.9547616911365556, 0.3696195508894672, 0.3696195508894672, 0.9658789947489719, 0.9897496725687149, 0.9892734506324988, 0.9826672206889079, 0.003849682554690392, 0.9912932578327759, 0.003849682554690392, 0.9528574354621077, 0.9843779093014903, 0.9207077387819731, 0.9824795482940933, 0.9858735663250371, 0.9831032487433845, 0.5885685576650187, 0.9493390585621573, 0.9562656767449678, 0.29725473227024296, 0.6883793799942469, 0.9857143247058598, 0.9794031965147433, 0.9927031303684859, 0.9897293429932015, 0.9445136605878631, 0.9889140102537644, 0.9863011994919731, 0.8978897204193181, 0.0985026697506425, 0.9387372789444, 0.01370419385320292, 0.04111258155960876, 0.995214923478266, 0.21586041745154455, 0.7339254193352515, 0.9941574758505394, 0.9882347542871662, 0.011229940389626889, 0.01076460531560471, 0.9795790837200287, 0.9363571134115467, 0.05699565038157241, 0.9894949201025064, 0.9961882506583846, 0.07765460806146439, 0.8800855580299298, 0.019977084312421928, 0.9788771313086745, 0.11513006489551099, 0.6110749598300199, 0.26568476514348693, 0.9460983242940018, 0.9856894013829487, 0.9187564374882261, 0.9734251751238359, 0.0059850718884229565, 0.9905293975339993, 0.9983927939212458, 0.9358318759286368, 0.9621014577401902, 0.957897390463944, 0.9945608001033838, 0.6585355815019039, 0.2949058445726618, 0.6487928580598559, 0.9982970310436798, 0.9687492837943035, 0.9932286634998333, 0.9894743006081039, 0.9982986511295109, 0.9745900453802668, 0.9901641598124755, 0.950669592349026, 0.029708424760907064, 0.9358813726312102, 0.9809875189691527, 0.028618228597407758, 0.9444015437144561, 0.9813315001454325, 0.986225589286938, 0.9748463897243944, 0.9407489646370271, 0.9122861297458273, 0.9737108336268187, 0.5832559162764198, 0.9396985568770037, 0.31281562368488725, 0.31281562368488725, 0.9866169657031003, 0.010412843965204225, 0.14511389702175995, 0.8416606027262078, 0.6585985084801868, 0.9913486623471494, 0.6144880898393105, 0.3686928539035863, 0.842504450882908, 0.6324942701501943, 0.2371853513063229, 0.8269782252484981, 0.13782970420808302, 0.9794145932709227, 0.7578422814503156, 0.24113163500691862, 0.9842111934264867, 0.1816214903820436, 0.7870264583221889, 0.9279038672341102, 0.9584100605567183, 0.6727677017430659, 0.3259802266177742, 0.9812926549969463, 0.9574981677914617, 0.3492159583932125, 0.5238239375898188, 0.9918254250368107, 0.027841126990101845, 0.9605188811585137, 0.9708098347200094, 0.9684807507756732, 0.9848496333891857, 0.9887852752820048, 0.9528654398601839, 0.9664503978548725, 0.7031892073236273, 0.29646652991693, 0.9915097876884421, 0.22810061380765204, 0.7494734453679995, 0.986144118873511, 0.9637911047810549, 0.9706714929808493, 0.9381585255407181, 0.9898077784692192, 0.009460660057586188, 0.9839086459889637, 0.9947101466206469, 0.9818048471805533, 0.9651075259559903, 0.9758333404216285, 0.21413793236316267, 0.5353448309079066, 0.10706896618158133, 0.027922686049986958, 0.9493713256995565, 0.9656219304988214, 0.9966103486657208, 0.0012942991541113258, 0.9902757958769561, 0.8772740226642841, 0.12090635568770582, 0.8047008178702235, 0.9892930464512024, 0.5043117927364971, 0.4894790929501295, 0.9838016427207704, 0.1536497034894569, 0.38412425872364225, 0.009603106468091056, 0.09603106468091056, 0.3553149393193691, 0.9878669697150427, 0.9408981212455254, 0.9806273450883842, 0.219202798389768, 0.7599030344178624, 0.34994157745284166, 0.34994157745284166, 0.1627595043907259, 0.8254232008386814, 0.9874172695876894, 0.8815441523396299, 0.9121951652838971, 0.9569429925332493, 0.9553045473128258, 0.9750989718339296, 0.9891166331555956, 0.988812096109497, 0.9960059722099084, 0.9949147343842278, 0.9732539271082155, 0.9795456101255124, 0.9806556119192016, 0.8275063735968126, 0.3360457071884115, 0.5600761786473525, 0.9701919670957034, 0.993571202104195, 0.971597540090203, 0.9488167395077266, 0.042739492770618316, 0.44067232058277295, 0.22033616029138647, 0.5898254073107858, 0.9498558954622783, 0.16179140743162368, 0.8089570371581185, 0.7060552769586166, 0.23535175898620553, 0.9270801104382035, 0.9759638760028487, 0.9975449120207597, 0.9818767636869055, 0.9792421653681831, 0.9220893173107535, 0.2363390785196919, 0.7305026063335932, 0.984955966055117, 0.008140131950868736, 0.9736114739493715, 0.9959808265870962, 0.06357531427470502, 0.19980813057764432, 0.7356572080358723, 0.9070255190705201, 0.995358027989881, 0.9869030814835142, 0.0196156065267644, 0.9611647198114557, 0.9703500041737655, 0.4206659951399351, 0.5669846021451298, 0.18571429404531375, 0.7841270193024359, 0.9606610780216231, 0.6857819256454353, 0.9528880091461206, 0.9959870323958515, 0.9783916115234152, 0.9329642735891862, 0.9632974023430051, 0.9663050424743225, 0.9756517513111204, 0.9500891637716221, 0.2960594629547729, 0.6908054135611369, 0.9365861446601506, 0.9668575789824332, 0.9894771921745052, 0.9859291190567505, 0.9557246821952173, 0.9306613384826887, 0.9675633383885051, 0.9890866256565187, 0.9383294716529834, 0.9691306825894823, 0.9505573486261533, 0.5829456728498142, 0.8450604214814318, 0.9820826246328573, 0.9784044895762177, 0.8602595166339663, 0.9804559040686927, 0.9581545082698311, 0.9919354310740991, 0.9898796448179118, 0.9952085658052324, 0.9852604444657522, 0.9895722929275329, 0.9959067836624023, 0.9396138073361701, 0.9136349380736792, 0.9354470920767254, 0.9219156092181653, 0.971287829878042, 0.9656646554544305, 0.9580159405370134, 0.955072487072564, 0.9587583238251688, 0.9360216033562988, 0.9741090911150382, 0.8921566570431776, 0.23679537135625664, 0.7498520092948127, 0.9534451546943866, 0.9359386040946694, 0.9773959039347022, 0.020685627596501634, 0.0468561875142183, 0.9136956565272569, 0.9806205437986438, 0.9897478958199487, 0.9775498157910145, 0.9238758503268872, 0.9859002046329963, 0.9795087016875027, 0.9427440457121152, 0.5771704035774842, 0.42043878536463286, 0.1136412211246706, 0.43183664027374824, 0.43183664027374824, 0.9692181434001552, 0.9001834630990048, 0.9821086137558503, 0.7992434422325206, 0.9782892961721302, 0.008433528415276984, 0.9830256485734409, 0.010685061397537401, 0.9711628891108818, 0.5102317375564107, 0.47783607167981323, 0.978459136817967, 0.8996619365864957, 0.926294402900223, 0.9789848684435287, 0.9884714095449317, 0.01008644295454012, 0.9460722491457185, 0.7145124459091523, 0.8894949952172011, 0.10643529857299842, 0.9851388033740665, 0.9948970504770374, 0.958408735869095, 0.9982368907225219, 0.2045121314991774, 0.10827112844074098, 0.06616568960267505, 0.16842175535226375, 0.45112970183642076, 0.006015062691152277, 0.337712641559229, 0.6447241338858007, 0.8085425692526556, 0.18865993282561963, 0.8499711767437182, 0.1416618627906197, 0.9911078970317359, 0.2632658156451105, 0.702042175053628, 0.935869812033079, 0.9937873883937187, 0.10490088034759928, 0.8741740028966607, 0.9673364774788084, 0.9823190410105397, 0.9855392631923212, 0.8731316922906849, 0.7733206787748967, 0.9620300211044645, 0.9574617051683152, 0.9520970863262632, 0.956131240013029, 0.022260864346476335, 0.5787824730083847, 0.3784346938900977, 0.9867298945491907, 0.43245323855852763, 0.011380348383119148, 0.4665942837078851, 0.08535261287339362, 0.5281891242162674, 0.46736734627621235, 0.9957280638250035, 0.9095923405908819, 0.07958932980170216, 0.9898820014766745, 0.9651208816363223, 0.9801927390214847, 0.9775505844373322, 0.6903769418065134, 0.3049164826312101, 0.006083643113709592, 0.9855501844209539, 0.9793581097506336, 0.9841716017209953, 0.9027144859574456, 0.017553392596515366, 0.9654365928083452, 0.9398482128133689, 0.8572526138987752, 0.9188261761994306, 0.9771321686367496, 0.9650457740333925, 0.9806301325606761, 0.8756342770176277, 0.9541421744211451, 0.9547086726499324, 0.8244255513443498, 0.973816729966094, 0.7267810627929709, 0.9778516904565155, 0.08855071440794894, 0.8205699535136602, 0.08264733344741901, 0.9895739573941323, 0.9406781942730745, 0.9792151627521527, 0.9895151241410192, 0.9886372578501103, 0.9358363944873013, 0.9110332637314573, 0.7899148922566155, 0.20760583706744382, 0.9849478131278464, 0.9542649797205743, 0.9692080415928401, 0.378507513639942, 0.04682567179050829, 0.5736144794337266, 0.49226377934600074, 0.5045703738296508, 0.9925466112853243, 0.6431678158053126, 0.3559278203971147, 0.0321198836631547, 0.0321198836631547, 0.005353313943859116, 0.9261233122876271, 0.955945175557693, 0.11383193043093151, 0.8727114666371416, 0.9284621758769653, 0.986468853021008, 0.27588864379492956, 0.7115022918921867, 0.9800916069183923, 0.9671359812394253, 0.22993186004735056, 0.5815923518844749, 0.1758302459185622, 0.01352540353219709, 0.5852704311864471, 0.23189960480972432, 0.11410932935081673, 0.06625702994563552, 0.7531937511959548, 0.24102200038270552, 0.9752827616336024, 0.17625105099744057, 0.1475590194397177, 0.672213310780936, 0.004098861651103269, 0.5857625152277024, 0.9889136807413094, 0.9819352472946404, 0.855172515975765, 0.9896662749352513, 0.949072390741279, 0.617002643453808, 0.9269703855212293, 0.6648947471874712, 0.9359697099256699, 0.008127693040611889, 0.008127693040611889, 0.8696631553454721, 0.008127693040611889, 0.09753231648734267, 0.9647843509717815, 0.9360736979632153, 0.9304103762695077, 0.9913018844946481, 0.8777343835428877, 0.9789444677548622, 0.9937908495977237, 0.8816667319661715, 0.9772725783782038, 0.9702775198685962, 0.00147313664925586, 0.9973135115462172, 0.9658269416587876, 0.8995078858648425, 0.09848626487571269, 0.994262240088283, 0.9772401411747408, 0.9823828809429712, 0.9754783314557686, 0.7322631098476116, 0.8710512964301247, 0.9463777108185955, 0.8722497749017658, 0.12285208097207968, 0.4341303025902159, 0.5343142185725734, 0.8982913959049357, 0.97789618126225, 0.8849546424956566, 0.11385381365441195, 0.11040831187168755, 0.5520415593584378, 0.31895734540709736], \"Term\": [\"ability\", \"acc\", \"acc\", \"account\", \"accuracy\", \"add\", \"agent\", \"agent\", \"air\", \"alarm\", \"allow\", \"amazing\", \"amp\", \"amp\", \"amp\", \"analysis\", \"app\", \"arm\", \"asante\", \"ask\", \"attention\", \"auburn\", \"auto\", \"average\", \"back\", \"back\", \"bad\", \"bal\", \"ball\", \"bank\", \"bear\", \"believe\", \"best\", \"better\", \"better\", \"big\", \"big\", \"big\", \"birthday\", \"black\", \"black\", \"blame\", \"boy\", \"boy\", \"break\", \"break\", \"bring\", \"bring\", \"bulger\", \"calculate\", \"call\", \"call\", \"can\\u00e3\", \"can\\u00e3\", \"career\", \"career\", \"career\", \"catch\", \"cbs\", \"central\", \"champion\", \"championship\", \"championship\", \"chance\", \"chargers\\u00e3\", \"class\", \"claytravis\", \"clemson\", \"clemsonnfl\", \"close\", \"close\", \"club\", \"coach\", \"college\", \"come\", \"comment\", \"como\", \"compete\", \"completion\", \"completion\", \"contrast\", \"couldn\\u00e3\", \"countdown\", \"countdown\", \"crush\", \"cut\", \"dabo\", \"dal\", \"damn\", \"dangerous\", \"dbs\", \"debut\", \"decide\", \"decide\", \"defense\", \"defense\", \"defensive\", \"defensive\", \"dependent\", \"det\", \"didn\\u00e3\", \"didn\\u00e3\", \"difference\", \"different\", \"different\", \"do\", \"do\", \"don\\u00e3\", \"draft\", \"draft\", \"dualthreat\", \"early\", \"early\", \"easily\", \"eat\", \"electric\", \"electric\", \"elite\", \"end\", \"endzone\", \"endzone\", \"enter\", \"epic\", \"epic\", \"espn\", \"espns\", \"even\", \"everyone\", \"exec\", \"explain\", \"face\", \"face\", \"falk\", \"fan\", \"fan\", \"fantasy\", \"fantasyfootball\", \"fast\", \"feel\", \"fewest\", \"first\", \"first\", \"football\", \"forget\", \"fourth\", \"freak\", \"free\", \"free\", \"free\", \"fsu\", \"fsu\", \"future\", \"game\", \"game\", \"generation\", \"get\", \"get\", \"getnickwright\", \"give\", \"go\", \"go\", \"grade\", \"great\", \"great\", \"great\", \"great\", \"great\", \"group\", \"haben\", \"halftime\", \"happy\", \"happy\", \"hard\", \"hard\", \"hate\", \"hate\", \"headtohead\", \"healthy\", \"hell\", \"here\\u00e3\", \"high\", \"highest\", \"history\", \"hit\", \"hof\", \"hold\", \"home\", \"honey\", \"hooked\", \"hop\", \"hope\", \"hope\", \"hot\", \"hou\", \"houvskc\", \"however\", \"however\", \"idc\", \"idc\", \"illuminating\", \"imagine\", \"injury\", \"injury\", \"insane\", \"insane\", \"inspire\", \"instead\", \"int\", \"interception\", \"interior\", \"jamis\", \"jarren\", \"jarren\", \"job\", \"job\", \"keep\", \"kick\", \"know\", \"know\", \"know\", \"lac\", \"last\", \"layer\", \"lead\", \"lead\", \"leader\", \"league\", \"league\", \"least\", \"least\", \"like\", \"likely\", \"lincoln\", \"live\", \"locker\", \"loss\", \"louisville\", \"luck\", \"magical\", \"mahomes\\u00e3\", \"make\", \"make\", \"makeitreign\", \"man\", \"marc\", \"marino\", \"match\", \"matchup\", \"mccaffery\", \"meet\", \"mention\", \"mesmerize\", \"min\", \"mix\", \"mlb\", \"money\", \"money\\u00e3\", \"monster\", \"mouthpiece\", \"much\", \"nan\", \"national\", \"need\", \"never\", \"newton\", \"next\", \"nfltwitter\", \"nice\", \"number\", \"nyj\", \"offer\", \"offseason\", \"old\", \"opinion\", \"oppose\", \"optimistic\", \"other\", \"outside\", \"overall\", \"overall\", \"overrate\", \"packersbear\", \"pass\", \"pass\", \"passer\", \"passer\", \"patience\", \"paycheck\", \"pep\", \"phi\", \"pick\", \"pitt\", \"place\", \"play\", \"play\", \"player\", \"player\", \"player\", \"playmaker\", \"podcast\", \"point\", \"potency\", \"potential\", \"potential\", \"power\", \"power\", \"ppr\", \"practice\", \"practice\", \"prediction\", \"prepare\", \"preview\", \"primer\", \"primetime\", \"primetime\", \"prizm\", \"prop\", \"protect\", \"protect\", \"psa\", \"put\", \"qbr\", \"qbs\", \"quarterback\", \"quarterback\", \"quarterback\", \"quarterback\", \"quarterback\", \"quarterback\", \"quick\", \"quick\", \"ranking\", \"ranking\", \"rating\", \"rating\", \"reach\", \"read\", \"read\", \"realize\", \"recent\", \"record\", \"record\", \"regular\", \"remember\", \"reminder\", \"reply\", \"resign\", \"rest\", \"reveal\", \"ride\", \"rise\", \"rookie\", \"rookie\", \"rookie\", \"room\", \"run\", \"run\", \"run\", \"run\", \"sack\", \"sack\", \"saturday\", \"say\", \"say\", \"scary\", \"score\", \"scoreboard\", \"sea\", \"season\", \"season\", \"see\", \"see\", \"selection\", \"set\", \"ship\", \"shit\", \"shit\", \"show\", \"silence\", \"sitdown\", \"slayden\", \"someone\", \"sophomore\", \"sorry\", \"south\", \"special\", \"splashtown\", \"sport\", \"squad\", \"stack\", \"start\", \"start\", \"start\", \"starter\", \"state\", \"steak\", \"stl\", \"stop\", \"study\", \"style\", \"sunday\", \"sunday\", \"superstar\", \"swinney\", \"tactical\", \"take\", \"take\", \"take\", \"talk\", \"talk\", \"tco\", \"tds\", \"tds\", \"team\", \"team\", \"team\", \"team\", \"teammate\", \"texans\\u00e3\", \"texans\\u00e3\", \"texas\", \"they\\u00e3\", \"think\", \"think\", \"third\", \"thought\", \"throw\", \"throw\", \"throw\", \"throw\", \"time\", \"time\", \"time\", \"time\", \"today\", \"today\", \"tomorrow\", \"top\", \"top\", \"top\", \"top\", \"torn\", \"total\", \"tough\", \"tournament\", \"trade\", \"trading\", \"trash\", \"trek\", \"trip\", \"trubisky\\u00e3\", \"turn\", \"turn\", \"turn\", \"turn\", \"turn\", \"twice\", \"ugly\", \"underrate\", \"unreal\", \"update\", \"used\", \"valuation\", \"vibe\", \"virginia\", \"want\", \"watch\", \"watch\", \"wearetexan\", \"week\", \"week\", \"weekend\", \"weinke\", \"whole\", \"wife\", \"wilson\\u00e3\", \"winning\", \"wish\", \"work\", \"work\", \"worst\", \"worst\", \"wr\", \"yahoo\", \"yard\", \"yard\", \"year\", \"year\", \"year\"]}, \"R\": 30, \"lambda.step\": 0.01, \"plot.opts\": {\"xlab\": \"PC1\", \"ylab\": \"PC2\"}, \"topic.order\": [6, 1, 7, 8, 4, 9, 3, 5, 10, 2]};\n",
       "\n",
       "function LDAvis_load_lib(url, callback){\n",
       "  var s = document.createElement('script');\n",
       "  s.src = url;\n",
       "  s.async = true;\n",
       "  s.onreadystatechange = s.onload = callback;\n",
       "  s.onerror = function(){console.warn(\"failed to load library \" + url);};\n",
       "  document.getElementsByTagName(\"head\")[0].appendChild(s);\n",
       "}\n",
       "\n",
       "if(typeof(LDAvis) !== \"undefined\"){\n",
       "   // already loaded: just create the visualization\n",
       "   !function(LDAvis){\n",
       "       new LDAvis(\"#\" + \"ldavis_el18336163696894752826074880\", ldavis_el18336163696894752826074880_data);\n",
       "   }(LDAvis);\n",
       "}else if(typeof define === \"function\" && define.amd){\n",
       "   // require.js is available: use it to load d3/LDAvis\n",
       "   require.config({paths: {d3: \"https://cdnjs.cloudflare.com/ajax/libs/d3/3.5.5/d3.min\"}});\n",
       "   require([\"d3\"], function(d3){\n",
       "      window.d3 = d3;\n",
       "      LDAvis_load_lib(\"https://cdn.rawgit.com/bmabey/pyLDAvis/files/ldavis.v1.0.0.js\", function(){\n",
       "        new LDAvis(\"#\" + \"ldavis_el18336163696894752826074880\", ldavis_el18336163696894752826074880_data);\n",
       "      });\n",
       "    });\n",
       "}else{\n",
       "    // require.js not available: dynamically load d3 & LDAvis\n",
       "    LDAvis_load_lib(\"https://cdnjs.cloudflare.com/ajax/libs/d3/3.5.5/d3.min.js\", function(){\n",
       "         LDAvis_load_lib(\"https://cdn.rawgit.com/bmabey/pyLDAvis/files/ldavis.v1.0.0.js\", function(){\n",
       "                 new LDAvis(\"#\" + \"ldavis_el18336163696894752826074880\", ldavis_el18336163696894752826074880_data);\n",
       "            })\n",
       "         });\n",
       "}\n",
       "</script>"
      ],
      "text/plain": [
       "<IPython.core.display.HTML object>"
      ]
     },
     "execution_count": 36,
     "metadata": {},
     "output_type": "execute_result"
    }
   ],
   "source": [
    "## Player --- LDA TOPIC MODEL VISUALIZATION\n",
    "player_lda_panel = LDAvis.prepare(player_lda, player_train_tf_vec_model, player_train_tf_vectorizer, mds='tsne')\n",
    "pyLDAvis.display(player_lda_panel)"
   ]
  },
  {
   "cell_type": "code",
   "execution_count": 37,
   "metadata": {},
   "outputs": [
    {
     "data": {
      "text/html": [
       "\n",
       "<link rel=\"stylesheet\" type=\"text/css\" href=\"https://cdn.rawgit.com/bmabey/pyLDAvis/files/ldavis.v1.0.0.css\">\n",
       "\n",
       "\n",
       "<div id=\"ldavis_el1833616369897094326377201834\"></div>\n",
       "<script type=\"text/javascript\">\n",
       "\n",
       "var ldavis_el1833616369897094326377201834_data = {\"mdsDat\": {\"x\": [-4.455905437469482, -125.850830078125, -238.94334411621094, 115.77189636230469, -103.82186126708984, 98.30250549316406, 157.70925903320312, 9.071810722351074, -83.92556762695312, -243.5777130126953], \"y\": [131.28634643554688, 45.877376556396484, -57.3951416015625, -123.00069427490234, 252.52391052246094, 241.99815368652344, 64.3209228515625, -16.619508743286133, -145.72987365722656, 145.06951904296875], \"topics\": [1, 2, 3, 4, 5, 6, 7, 8, 9, 10], \"cluster\": [1, 1, 1, 1, 1, 1, 1, 1, 1, 1], \"Freq\": [15.435943826798857, 11.346381836311581, 11.286615860019852, 10.824570011858837, 10.76814004036406, 10.06524136861399, 9.225291315620762, 7.679812196378699, 7.118300022616898, 6.249703521416472]}, \"tinfo\": {\"Category\": [\"Default\", \"Default\", \"Default\", \"Default\", \"Default\", \"Default\", \"Default\", \"Default\", \"Default\", \"Default\", \"Default\", \"Default\", \"Default\", \"Default\", \"Default\", \"Default\", \"Default\", \"Default\", \"Default\", \"Default\", \"Default\", \"Default\", \"Default\", \"Default\", \"Default\", \"Default\", \"Default\", \"Default\", \"Default\", \"Default\", \"Topic1\", \"Topic1\", \"Topic1\", \"Topic1\", \"Topic1\", \"Topic1\", \"Topic1\", \"Topic1\", \"Topic1\", \"Topic1\", \"Topic1\", \"Topic1\", \"Topic1\", \"Topic1\", \"Topic1\", \"Topic1\", \"Topic1\", \"Topic1\", \"Topic1\", \"Topic1\", \"Topic1\", \"Topic1\", \"Topic1\", \"Topic1\", \"Topic1\", \"Topic1\", \"Topic1\", \"Topic1\", \"Topic1\", \"Topic1\", \"Topic1\", \"Topic1\", \"Topic1\", \"Topic1\", \"Topic1\", \"Topic1\", \"Topic1\", \"Topic1\", \"Topic1\", \"Topic1\", \"Topic1\", \"Topic1\", \"Topic2\", \"Topic2\", \"Topic2\", \"Topic2\", \"Topic2\", \"Topic2\", \"Topic2\", \"Topic2\", \"Topic2\", \"Topic2\", \"Topic2\", \"Topic2\", \"Topic2\", \"Topic2\", \"Topic2\", \"Topic2\", \"Topic2\", \"Topic2\", \"Topic2\", \"Topic2\", \"Topic2\", \"Topic2\", \"Topic2\", \"Topic2\", \"Topic2\", \"Topic2\", \"Topic2\", \"Topic2\", \"Topic2\", \"Topic2\", \"Topic2\", \"Topic2\", \"Topic2\", \"Topic2\", \"Topic2\", \"Topic2\", \"Topic2\", \"Topic2\", \"Topic2\", \"Topic2\", \"Topic2\", \"Topic2\", \"Topic2\", \"Topic2\", \"Topic2\", \"Topic2\", \"Topic2\", \"Topic3\", \"Topic3\", \"Topic3\", \"Topic3\", \"Topic3\", \"Topic3\", \"Topic3\", \"Topic3\", \"Topic3\", \"Topic3\", \"Topic3\", \"Topic3\", \"Topic3\", \"Topic3\", \"Topic3\", \"Topic3\", \"Topic3\", \"Topic3\", \"Topic3\", \"Topic3\", \"Topic3\", \"Topic3\", \"Topic3\", \"Topic3\", \"Topic3\", \"Topic3\", \"Topic3\", \"Topic3\", \"Topic3\", \"Topic3\", \"Topic3\", \"Topic3\", \"Topic3\", \"Topic3\", \"Topic3\", \"Topic3\", \"Topic3\", \"Topic3\", \"Topic3\", \"Topic3\", \"Topic3\", \"Topic3\", \"Topic3\", \"Topic3\", \"Topic3\", \"Topic3\", \"Topic3\", \"Topic3\", \"Topic4\", \"Topic4\", \"Topic4\", \"Topic4\", \"Topic4\", \"Topic4\", \"Topic4\", \"Topic4\", \"Topic4\", \"Topic4\", \"Topic4\", \"Topic4\", \"Topic4\", \"Topic4\", \"Topic4\", \"Topic4\", \"Topic4\", \"Topic4\", \"Topic4\", \"Topic4\", \"Topic4\", \"Topic4\", \"Topic4\", \"Topic4\", \"Topic4\", \"Topic4\", \"Topic4\", \"Topic4\", \"Topic4\", \"Topic4\", \"Topic4\", \"Topic4\", \"Topic4\", \"Topic4\", \"Topic4\", \"Topic4\", \"Topic4\", \"Topic4\", \"Topic4\", \"Topic5\", \"Topic5\", \"Topic5\", \"Topic5\", \"Topic5\", \"Topic5\", \"Topic5\", \"Topic5\", \"Topic5\", \"Topic5\", \"Topic5\", \"Topic5\", \"Topic5\", \"Topic5\", \"Topic5\", \"Topic5\", \"Topic5\", \"Topic5\", \"Topic5\", \"Topic5\", \"Topic5\", \"Topic5\", \"Topic5\", \"Topic5\", \"Topic5\", \"Topic5\", \"Topic5\", \"Topic5\", \"Topic5\", \"Topic5\", \"Topic5\", \"Topic5\", \"Topic5\", \"Topic5\", \"Topic5\", \"Topic5\", \"Topic5\", \"Topic5\", \"Topic5\", \"Topic5\", \"Topic5\", \"Topic5\", \"Topic5\", \"Topic5\", \"Topic5\", \"Topic6\", \"Topic6\", \"Topic6\", \"Topic6\", \"Topic6\", \"Topic6\", \"Topic6\", \"Topic6\", \"Topic6\", \"Topic6\", \"Topic6\", \"Topic6\", \"Topic6\", \"Topic6\", \"Topic6\", \"Topic6\", \"Topic6\", \"Topic6\", \"Topic6\", \"Topic6\", \"Topic6\", \"Topic6\", \"Topic6\", \"Topic6\", \"Topic6\", \"Topic6\", \"Topic6\", \"Topic6\", \"Topic6\", \"Topic6\", \"Topic6\", \"Topic6\", \"Topic6\", \"Topic6\", \"Topic6\", \"Topic6\", \"Topic6\", \"Topic6\", \"Topic6\", \"Topic6\", \"Topic6\", \"Topic6\", \"Topic6\", \"Topic6\", \"Topic7\", \"Topic7\", \"Topic7\", \"Topic7\", \"Topic7\", \"Topic7\", \"Topic7\", \"Topic7\", \"Topic7\", \"Topic7\", \"Topic7\", \"Topic7\", \"Topic7\", \"Topic7\", \"Topic7\", \"Topic7\", \"Topic7\", \"Topic7\", \"Topic7\", \"Topic7\", \"Topic7\", \"Topic7\", \"Topic7\", \"Topic7\", \"Topic7\", \"Topic7\", \"Topic7\", \"Topic7\", \"Topic7\", \"Topic7\", \"Topic7\", \"Topic7\", \"Topic7\", \"Topic7\", \"Topic7\", \"Topic7\", \"Topic7\", \"Topic7\", \"Topic7\", \"Topic7\", \"Topic8\", \"Topic8\", \"Topic8\", \"Topic8\", \"Topic8\", \"Topic8\", \"Topic8\", \"Topic8\", \"Topic8\", \"Topic8\", \"Topic8\", \"Topic8\", \"Topic8\", \"Topic8\", \"Topic8\", \"Topic8\", \"Topic8\", \"Topic8\", \"Topic8\", \"Topic8\", \"Topic8\", \"Topic8\", \"Topic8\", \"Topic8\", \"Topic8\", \"Topic8\", \"Topic8\", \"Topic8\", \"Topic8\", \"Topic8\", \"Topic8\", \"Topic8\", \"Topic8\", \"Topic8\", \"Topic8\", \"Topic8\", \"Topic9\", \"Topic9\", \"Topic9\", \"Topic9\", \"Topic9\", \"Topic9\", \"Topic9\", \"Topic9\", \"Topic9\", \"Topic9\", \"Topic9\", \"Topic9\", \"Topic9\", \"Topic9\", \"Topic9\", \"Topic9\", \"Topic9\", \"Topic9\", \"Topic9\", \"Topic9\", \"Topic9\", \"Topic9\", \"Topic9\", \"Topic9\", \"Topic9\", \"Topic9\", \"Topic9\", \"Topic9\", \"Topic9\", \"Topic9\", \"Topic9\", \"Topic9\", \"Topic9\", \"Topic9\", \"Topic9\", \"Topic9\", \"Topic9\", \"Topic9\", \"Topic9\", \"Topic9\", \"Topic9\", \"Topic9\", \"Topic10\", \"Topic10\", \"Topic10\", \"Topic10\", \"Topic10\", \"Topic10\", \"Topic10\", \"Topic10\", \"Topic10\", \"Topic10\", \"Topic10\", \"Topic10\", \"Topic10\", \"Topic10\", \"Topic10\", \"Topic10\", \"Topic10\", \"Topic10\", \"Topic10\", \"Topic10\", \"Topic10\", \"Topic10\", \"Topic10\", \"Topic10\", \"Topic10\", \"Topic10\", \"Topic10\", \"Topic10\", \"Topic10\", \"Topic10\", \"Topic10\", \"Topic10\", \"Topic10\", \"Topic10\", \"Topic10\", \"Topic10\", \"Topic10\", \"Topic10\", \"Topic10\"], \"Freq\": [726.0, 684.0, 308.0, 352.0, 483.0, 485.0, 367.0, 246.0, 232.0, 226.0, 244.0, 417.0, 285.0, 326.0, 311.0, 253.0, 243.0, 232.0, 234.0, 227.0, 226.0, 187.0, 224.0, 224.0, 224.0, 182.0, 301.0, 297.0, 137.0, 259.0, 365.8742251168903, 242.12822178233915, 225.13019509445658, 223.2093275713017, 231.46693448263585, 223.18401300528873, 223.1587686787975, 226.79205627417613, 251.96477204727657, 232.27044191500718, 88.01591243047447, 48.67836811592965, 44.44659983899734, 86.75563998224236, 278.4924967160168, 34.71544046918175, 31.385946811660254, 27.05645293186495, 23.901409176842552, 21.377970882951193, 20.060205655581164, 17.956861424720568, 16.24587272950152, 15.376828221937904, 14.716932077202296, 13.604533598831743, 11.890177603144354, 23.623953530392306, 10.909178418159476, 10.748639188365074, 277.73034558704796, 66.74808984982178, 233.54763846019756, 362.44438370688584, 288.1946875866755, 21.80151524356532, 48.633658002343786, 50.21947212513704, 32.82816932811271, 26.78031767736376, 23.633066386653155, 26.791729586993362, 87.27648105915785, 82.48554431155935, 78.39255847125163, 78.8243722353892, 61.37018083364927, 52.9818279908327, 73.05354837533395, 40.36651062397442, 48.209793129579616, 35.81680072269781, 56.97584600438276, 32.20733238827775, 32.41267302309939, 28.97826675927681, 26.86421355865919, 23.60128574366306, 24.704828512658132, 22.075592267428334, 28.074671829144343, 20.706698211108456, 27.430084848934236, 17.876681262849047, 17.67987967018962, 17.286017769351364, 16.557964713397745, 16.884935514535762, 15.981891231779413, 15.397441119348338, 15.309153805956585, 15.531462234867021, 58.03739578139949, 336.2672829949012, 59.295673211658894, 45.08152911572825, 50.79167523830804, 48.75692466358745, 36.67270999304332, 65.78990164803773, 59.10896599594488, 50.95889584024174, 37.88725379081728, 128.59212167387068, 128.7993044045038, 51.98966102113366, 32.37097791523668, 36.692910482480464, 35.92645400504907, 137.13473183462378, 113.64281259642648, 95.61926430540845, 103.27391433700744, 59.972310232486684, 58.18735722259156, 56.52264929552472, 55.257635158150556, 42.195547679792, 36.05578960289949, 35.51835302094248, 31.724399297449104, 31.752631981886122, 30.17760592608036, 27.820163419154927, 26.29789990462438, 26.6524879759217, 25.71728258645549, 25.536933244101416, 26.574585371019587, 24.639781137397208, 22.1633521428105, 21.740678973870203, 21.96004762559191, 21.495218574627167, 21.49733101247711, 18.80799502734023, 18.201928757578514, 17.74064433491064, 17.73792077152325, 19.598843746867193, 20.110349638032215, 28.914331887523364, 85.71714436552197, 141.6065053310409, 39.155679492933274, 119.3646792240475, 96.06833905443166, 70.06274319900358, 41.314829625835195, 116.43249442698834, 32.476712025010066, 31.152200522247707, 62.33985953786668, 42.084828777939386, 39.76272749639958, 30.111758989573485, 32.79694657473754, 186.33973286007893, 87.36989611236532, 84.3715236282692, 82.88477809161537, 80.58069631928149, 73.59579700551876, 67.4387916957702, 67.83346265478878, 68.45747936395634, 65.41496131939772, 65.41509381322221, 65.4149163127418, 65.41483431892803, 65.41486935070601, 65.41486817053072, 65.41476155564169, 65.41486988428859, 47.19970390483726, 39.33705571582417, 40.16946348075734, 37.22926366185217, 31.645250488150133, 32.66150167545652, 28.815325362016743, 29.037484943018548, 28.501546560873468, 29.044902145590115, 27.91432102947201, 27.912777810494678, 28.30052934167116, 43.74897332011768, 88.10317198954274, 78.58828794056818, 43.64073693445349, 40.11253974725385, 68.248915795755, 55.961579094854976, 60.1657380747795, 41.64273563765213, 154.60735344463956, 117.9176105573308, 94.19985324893231, 115.10491975444414, 78.26173258594352, 74.67136443356294, 65.51114062831172, 68.91841869467322, 58.23352439029375, 66.15196754458775, 46.57929206395073, 41.85628273754725, 39.41996734465916, 35.18708909710057, 34.47766098520145, 30.55922203928713, 29.78532714259156, 27.041822639621127, 24.09071818993871, 21.928210559920096, 24.214650738911608, 23.167219310320895, 21.18886368315072, 20.0599688981452, 22.261524383520413, 19.999406901922832, 19.203778773545828, 18.9973562337854, 18.984048133003228, 17.798168422002878, 92.33398160460426, 136.84386585928752, 79.28010432049452, 46.84540322772093, 73.11512143869525, 75.84823691074725, 61.18002315809835, 113.01536027287153, 45.52458703957998, 149.97526057751148, 52.140631882039706, 50.27083609020075, 35.948055938330725, 49.86427794823773, 34.77072435106739, 243.19152745542965, 106.3555935801509, 85.11946206340396, 78.10666572885819, 77.62510098536735, 65.65798103833384, 62.194728861523764, 57.54523381149561, 57.53293093386315, 50.01950965148518, 178.77672862767, 35.57036019068424, 32.90348507093274, 69.63341928850967, 30.61994146528733, 27.727179032838492, 26.18210364358335, 63.56523373515705, 24.772915553899512, 23.631207943182268, 28.79786515681441, 21.25338230888744, 21.251315047772852, 26.101821519295445, 20.86856172683617, 20.940017622086952, 20.235984066239748, 20.115643313919833, 17.475877517106976, 16.92166287761353, 24.52500835435482, 22.20986482926339, 140.1091067088008, 403.85204812876697, 194.1863500261139, 35.614523631700635, 61.169509157437595, 146.4353622438465, 27.150811765935092, 96.97420179592058, 29.0753887636507, 29.11988224063438, 29.296935191185106, 29.18421354377125, 110.43654864261312, 139.99076659931828, 138.88692252093375, 75.76322601510427, 69.15945562746786, 69.1387320484928, 69.13746807361774, 69.13662317754574, 69.13027253494549, 69.12601177326476, 69.11741095550585, 70.23487641029219, 70.21677241961125, 43.658588056373866, 41.25222457261568, 38.22679414405183, 74.83550599043166, 32.591909843482476, 29.74330753163156, 20.82249443370441, 20.170498041321835, 65.42839215438009, 16.869105950727683, 16.265124955600022, 17.172332533005715, 14.532774081443442, 33.725048402018764, 13.743901819784336, 13.744934186760347, 16.040405616447764, 128.4692433263989, 111.37694320433317, 58.46091136071437, 153.332734259176, 116.29128328688434, 55.733635617864884, 20.96700390237448, 47.75838251446243, 28.031568819063235, 21.333544807593157, 307.2468522766874, 245.37330719463642, 231.84727912567297, 225.87633366557907, 46.500142864407685, 19.946360756849963, 19.94261506880432, 688.8910086983491, 13.653598020178276, 13.117659567645017, 12.639923596352382, 16.39211446226531, 12.230049639978962, 11.871516571333371, 18.07820138766936, 11.480044068244124, 11.061005693430182, 27.132262489937574, 9.244166842448628, 9.226623002561148, 8.435403659131806, 7.772577640323328, 7.314225220062469, 6.931095127520029, 308.94777053023586, 34.18798972328322, 12.508843749171325, 7.286554055966251, 26.026299654855222, 5.725751388700504, 29.481507180768393, 38.62197108459639, 10.11107028439244, 15.215304680627444, 10.115962172053553, 11.654549028958472, 97.3668038366852, 87.1787675321703, 80.64375958952174, 60.20332542170462, 53.62901029165634, 53.14955490859857, 50.07810564809867, 51.60440717690248, 44.57653787478893, 42.94819077264274, 41.99207601040031, 38.04794645983785, 37.019381416140476, 37.01761227241141, 37.01651191571699, 42.756003656385495, 25.399280171483074, 27.14133943707298, 23.413406021709037, 22.677269963737274, 23.093666216909867, 30.843910762341782, 29.600749810313143, 101.02476780536512, 15.643728156123071, 14.718268752414195, 17.3922124178961, 58.20443346198318, 12.548642738701393, 12.577296039825328, 30.168890330938368, 62.37126515461489, 17.167273301963718, 30.391533416708732, 47.46650296984623, 58.127100749953584, 120.82765904579495, 51.66354750918158, 39.82332977138769, 42.90348406413695, 36.05557225039312, 37.06488483218359, 136.3635968839122, 119.7338725260897, 106.61290678071157, 109.61073012001609, 84.63086450037082, 63.46657180387973, 42.0660010606724, 39.94880648855368, 30.844673058892077, 29.550244162134412, 31.01705012578018, 27.60327630886369, 26.37576842939317, 26.92431820067723, 25.862995739112527, 23.854350445951976, 25.323998168030286, 22.517378606670153, 23.551960122101395, 21.575500046842585, 21.107971115534987, 19.36765497698565, 19.362292242263642, 18.40369828372876, 18.40393407314755, 17.312524363959483, 20.9248155396249, 18.02633726277048, 15.659754100164557, 22.988096914100662, 31.32529659686065, 30.10215319158132, 77.09699276185205, 35.418258582195264, 38.735005262389514, 36.75180186485633, 24.54838035832558, 22.24548824559781, 26.307869648511403], \"Term\": [\"october\", \"game\", \"join\", \"come\", \"week\", \"get\", \"work\", \"welcome\", \"detail\", \"conroe\", \"report\", \"texas\", \"want\", \"team\", \"back\", \"drop\", \"democrat\", \"rep\", \"fellow\", \"impeachment\", \"inquiry\", \"storm\", \"lizzie\", \"bogus\", \"madness\", \"injury\", \"amp\", \"stop\", \"sign\", \"play\", \"work\", \"democrat\", \"inquiry\", \"lizzie\", \"rep\", \"bogus\", \"madness\", \"impeachment\", \"drop\", \"fellow\", \"prediction\", \"championship\", \"afc\", \"pick\", \"want\", \"offensive\", \"club\", \"staff\", \"south\", \"update\", \"site\", \"speaking\", \"discuss\", \"better\", \"madden\", \"test\", \"bold\", \"everything\", \"retweet\", \"table\", \"back\", \"best\", \"stop\", \"get\", \"texas\", \"gon\", \"know\", \"sunday\", \"chronicle\", \"watch\", \"give\", \"see\", \"preview\", \"beat\", \"tomorrow\", \"matchup\", \"need\", \"lsu\", \"great\", \"tulane\", \"look\", \"find\", \"bet\", \"move\", \"put\", \"road\", \"power\", \"continue\", \"number\", \"instagram\", \"trade\", \"ranking\", \"name\", \"thought\", \"dominate\", \"longhorn\", \"streak\", \"fourth\", \"loss\", \"elect\", \"rapidly\", \"visit\", \"vote\", \"week\", \"go\", \"state\", \"start\", \"think\", \"much\", \"watch\", \"take\", \"home\", \"today\", \"texas\", \"game\", \"follow\", \"second\", \"check\", \"sunday\", \"sport\", \"rocket\", \"make\", \"talk\", \"electric\", \"trash\", \"elite\", \"rough\\u00e3\", \"stream\", \"currently\", \"coach\", \"shirt\", \"represent\", \"bowl\", \"reddit\", \"world\", \"size\", \"nike\", \"recently\", \"corner\", \"classroom\", \"awesome\", \"series\", \"consider\", \"field\", \"blue\", \"league\", \"logo\", \"thrill\", \"teamcjcorrea\", \"damn\", \"mcnair\", \"super\", \"time\", \"football\", \"say\", \"astro\", \"see\", \"live\", \"man\", \"team\", \"bring\", \"support\", \"stop\", \"right\", \"jersey\", \"year\", \"back\", \"storm\", \"underwater\", \"understand\", \"real\", \"economy\", \"climate\", \"leave\", \"personal\", \"local\", \"intensity\", \"increase\", \"property\", \"hammer\", \"path\", \"frequency\", \"destruction\", \"begin\", \"thing\", \"mystery\", \"always\", \"far\", \"texan\\u00e3\", \"minute\", \"hookem\", \"wide\", \"thrilling\", \"rookie\", \"director\", \"dance\", \"toro\", \"try\", \"impact\", \"change\", \"high\", \"school\", \"season\", \"wearetexan\", \"know\", \"draft\", \"stadium\", \"wembley\", \"last\", \"pvamu\", \"nrg\", \"punter\", \"nov\", \"htown\", \"thunder\", \"texans\\u00e3\", \"run\", \"add\", \"role\", \"plan\", \"underdog\", \"yard\", \"defense\", \"tie\", \"room\", \"point\", \"due\", \"rating\", \"primetime\", \"offense\", \"touchdown\", \"undrafted\", \"poshmark\", \"diligence\", \"reflect\", \"sideline\", \"ticket\", \"london\", \"ahead\", \"houstontexan\", \"that\\u00e3\", \"weekend\", \"right\", \"play\", \"pass\", \"game\", \"check\", \"season\", \"also\", \"amp\", \"first\", \"report\", \"friday\", \"status\", \"travel\", \"hamstring\", \"sunday\\u00e3\", \"moved\", \"note\", \"programming\", \"rule\", \"injury\", \"downgrade\", \"questionable\", \"cbs\", \"tomorrow\\u00e3\", \"news\", \"care\", \"oct\", \"marqise\", \"hip\", \"kicker\", \"attrition\", \"brutal\", \"photo\", \"flood\", \"life\", \"question\", \"birthday\", \"post\", \"fund\", \"land\", \"gather\", \"fan\", \"game\", \"team\", \"final\", \"night\", \"week\", \"return\", \"amp\", \"cornerback\", \"chance\", \"help\", \"play\", \"nan\", \"de\", \"pour\", \"houston\\u00e3\", \"cette\", \"maillot\", \"vont\", \"beaucoup\", \"gonfle\", \"participer\", \"saison\", \"russ\", \"harden\", \"donation\", \"hinch\", \"round\", \"indy\", \"debate\", \"available\", \"talent\", \"hurricane\", \"together\", \"overcome\", \"biggest\", \"txhsfb\", \"dave\", \"center\", \"public\\u00e3\", \"generous\", \"dominant\", \"player\", \"follow\", \"wear\", \"amp\", \"play\", \"jersey\", \"tonight\", \"astro\", \"help\", \"top\", \"join\", \"welcome\", \"detail\", \"conroe\", \"saturday\", \"darts\", \"nflukfanmeetup\", \"october\", \"sponsored\", \"actually\", \"diehard\", \"bbq\", \"bloomsbury\", \"safety\", \"tailgate\", \"supporter\", \"gamblingtwitter\", \"party\", \"defensive\", \"soon\", \"special\", \"clean\", \"luck\", \"friend\", \"come\", \"let\", \"host\", \"patstexan\", \"show\", \"replica\", \"big\", \"fan\", \"hope\", \"time\", \"november\", \"weekend\", \"area\", \"event\", \"beto\", \"job\", \"red\", \"monday\", \"upcoming\", \"meet\", \"quarterback\", \"link\", \"attention\", \"attend\", \"thread\", \"trained\", \"rsvp\\u00e3\", \"part\", \"industry\", \"gas\", \"baptize\", \"israel\", \"canvass\", \"miss\", \"don\\u00e3\", \"former\", \"able\", \"deal\", \"fuel\", \"keep\", \"left\", \"cheer\", \"rank\", \"call\", \"tout\", \"different\", \"free\", \"help\", \"get\", \"live\", \"list\", \"come\", \"football\", \"october\", \"sign\", \"roster\", \"active\", \"place\", \"practice\", \"squad\", \"reserveinjure\", \"head\", \"release\", \"agent\", \"location\", \"waive\", \"forward\", \"america\", \"american\", \"bend\", \"include\", \"mislead\", \"etc\", \"wylie\\u00e3\", \"angleton\", \"diet\", \"restriction\", \"dump\", \"mayock\", \"edge\", \"appreciate\", \"decision\", \"ilb\", \"count\", \"you\\u00e3\", \"never\", \"list\", \"full\", \"even\", \"free\", \"allow\", \"katy\", \"player\"], \"Total\": [726.0, 684.0, 308.0, 352.0, 483.0, 485.0, 367.0, 246.0, 232.0, 226.0, 244.0, 417.0, 285.0, 326.0, 311.0, 253.0, 243.0, 232.0, 234.0, 227.0, 226.0, 187.0, 224.0, 224.0, 224.0, 182.0, 301.0, 297.0, 137.0, 259.0, 367.18257516377764, 243.13745459108532, 226.16054689446335, 224.24317036633087, 232.55647301358246, 224.24340917342255, 224.24398467069437, 227.97711876661546, 253.34067258875822, 234.3107952388512, 88.97422429324337, 49.705060574302465, 45.38860387749986, 88.63632537226258, 285.2899535021108, 35.65961209719031, 32.306208088116826, 27.978528620135965, 24.83529700836968, 22.30894363768569, 20.976974015313417, 18.885750413866795, 17.170780388892197, 16.330434256606626, 15.640866886367649, 14.59512083903843, 12.811304924457893, 25.67412211703865, 11.883966015961752, 11.709502547356825, 311.4976733773759, 74.3552288106375, 297.0940093226193, 485.43684255093194, 417.63525209691034, 27.331809538520556, 109.63058322089628, 123.81972600691, 67.37224009655976, 93.41412051899053, 46.41183890638906, 142.83031835308395, 88.22908721703294, 83.40376981248698, 79.33184226021471, 79.93221135937785, 62.29576339091921, 53.94569570934895, 74.46712538499533, 41.28076009640197, 49.320305674677755, 36.73545335347458, 58.569798090449346, 33.14021024688301, 33.3821116156684, 29.92159266672327, 27.792629834982442, 24.525098340923265, 25.700984997090313, 22.990446373706135, 29.265644850201976, 21.624553565355992, 28.83273129661832, 18.804648846877466, 18.610092252269606, 18.202243289326475, 17.47772587427978, 17.829780031378817, 16.935886166852814, 16.32163552002154, 16.228643138065294, 16.469159226325974, 62.590645577853614, 483.64758140196267, 72.84963486099548, 54.01674166891526, 62.044042918136654, 62.629865641577766, 44.91037855830116, 93.41412051899053, 90.42893472179196, 87.8835250103115, 55.31989630607711, 417.63525209691034, 684.3475688176478, 174.53783567005163, 56.06126468125324, 105.81392593314666, 123.81972600691, 138.06136778624963, 114.58949111127586, 96.64160345624313, 104.5419525555535, 60.89877114222087, 59.109083980000136, 57.44393689250667, 56.18024686733374, 43.118092262083174, 36.99096241873809, 36.449969841622064, 32.65118461940814, 32.68633723783423, 31.101585688638398, 28.7386231445699, 27.224869681898248, 27.601710045039198, 26.65141058261247, 26.464803599760767, 27.565768041443985, 25.596989838324877, 23.085069279782857, 22.66283445316372, 22.9047450490978, 22.421029506769862, 22.42992597303067, 19.748217180280125, 19.14005317912834, 18.664065340468024, 18.66499230403489, 20.636849922389747, 21.225433176118333, 30.889346464974295, 109.05370591974771, 193.52202841739182, 45.11288332373551, 167.9724553588783, 142.83031835308395, 122.56119243909056, 59.8171907951566, 326.98391861781255, 45.45413105904864, 43.14717923907389, 297.0940093226193, 104.12298446924407, 96.53894774783402, 74.86826934307899, 311.4976733773759, 187.27885545241108, 88.28943642489932, 85.29360514119996, 83.81846363791048, 81.50232253484248, 74.51455580077275, 68.35830705676719, 68.75973480837216, 69.39428573608038, 66.33242356514816, 66.33309386150371, 66.33300640846274, 66.33296269685118, 66.33325298544509, 66.33343404441027, 66.33339601337322, 66.33354627337265, 48.15780097902649, 40.25534432918362, 41.117888474979395, 38.21275295252589, 32.56892890533013, 33.66462344034443, 29.735249107236598, 29.967235104115034, 29.429451858450374, 30.000769818764457, 28.837236128601063, 28.838312266386282, 29.240878691709312, 45.50472807559511, 102.66456821934531, 111.17499457547194, 54.03391305786395, 50.40129976547855, 119.75825110762774, 87.39560629319212, 109.63058322089628, 62.23281129846493, 155.53740914465288, 118.84480423164068, 95.12573668014852, 116.31315132400937, 79.21977838383359, 75.60114320402516, 66.43092494222412, 69.8889867194511, 59.243652146003186, 67.48633475620706, 47.56143830937913, 42.84804517223564, 40.394352980370435, 36.1243365423645, 35.50714530244812, 31.47971409391526, 30.712421557778775, 27.979353493802908, 25.01947776407035, 22.848309041564583, 25.263619678729402, 24.175928787662198, 22.139223005533655, 20.985642789164373, 23.291580236009544, 20.943577644124215, 20.12519523410036, 19.94442114383124, 19.94667439484436, 18.71867309379173, 99.97278977577739, 149.73105164587793, 88.68374854321407, 53.68737465297994, 92.19140410814107, 127.23570423441898, 104.12298446924407, 259.5291699514994, 70.87448773003106, 684.3475688176478, 105.81392593314666, 119.75825110762774, 63.29461208418563, 301.72092762816646, 75.51281006963573, 244.64962604096195, 107.28237739137974, 86.03727070840183, 79.02329006937202, 78.53890271846203, 66.57367643424038, 63.21960966388155, 58.53436612040315, 58.53620081009716, 50.93369774060257, 182.55994128354237, 36.48402943987598, 33.83169301703737, 71.69198287661398, 31.587659949482273, 28.65835168903162, 27.10493393723673, 65.86145302800436, 25.717125708405636, 24.561984436995637, 29.950450574063098, 22.182979882959163, 22.18316403570671, 27.249916581850627, 21.788536221060536, 21.870118369587917, 21.16211608759183, 21.114938224701298, 18.39149782517967, 17.84469249781166, 26.08619075797488, 23.745247878085248, 179.88130473168573, 684.3475688176478, 326.98391861781255, 42.91965169378008, 89.63374671759126, 483.64758140196267, 33.02006044189307, 301.72092762816646, 42.223160419349945, 54.72713165991368, 116.56112613067015, 259.5291699514994, 111.34453868477391, 141.54272005581328, 140.5026960222345, 76.71716120455402, 70.07913257855111, 70.07610983947625, 70.07637533844853, 70.07645746550199, 70.07448834418807, 70.07370555767534, 70.07209557803728, 71.49833381099873, 71.4949437522034, 44.56660655765539, 42.16845003050692, 39.139985079004596, 76.80549625208594, 33.52530184058109, 30.65954315758136, 21.742511566735057, 21.07773545382959, 68.63785834980506, 17.778215204243796, 17.170379004216453, 18.158925483240676, 15.436522769029743, 35.93046850819943, 14.648377165903742, 14.649515001071698, 17.127883018371378, 180.3582443029024, 174.53783567005163, 83.14464335250392, 301.72092762816646, 259.5291699514994, 96.53894774783402, 26.177162181498815, 167.9724553588783, 116.56112613067015, 47.5389826395135, 308.1402342330741, 246.26383281873356, 232.74042473313634, 226.7752502458003, 47.427864975908335, 20.847442127281855, 20.846277413209524, 726.7400194887946, 14.55011218306946, 14.020945219120449, 13.530059973535916, 17.557951695811287, 13.151146539353912, 12.766907030243676, 19.463351460128685, 12.370154944826075, 11.957604620780828, 29.59523184039267, 10.138851117021938, 10.12481151030942, 9.35272554186559, 8.666216186343217, 8.2062248959305, 7.855503513550776, 352.739670972853, 49.67950332364948, 19.780550253669837, 12.826602643862191, 47.42530378588945, 10.581573125074815, 71.37505336643783, 179.88130473168573, 26.784975821425412, 109.05370591974771, 33.49745517647955, 127.23570423441898, 98.28708808915812, 88.08493182639734, 81.59793655892933, 61.12695075073906, 54.5654122812145, 54.10999451510542, 50.98436889539016, 52.57283705513648, 45.48177832701172, 43.856841663996676, 42.90099883529111, 38.955770371878515, 37.927145191631546, 37.9272667255543, 37.92718669836129, 44.19731954390222, 26.31498995579877, 28.151613721536947, 24.31691997839186, 23.58049768892334, 24.051325973498997, 32.131941913399956, 30.91827715668306, 105.74033891403678, 16.552937533545848, 15.668560353151438, 18.577252240738577, 62.1817081881242, 13.454970987308752, 13.523578393423552, 32.691564450244265, 69.6857481991142, 18.54519103084601, 37.51106986757548, 85.01324550025994, 116.56112613067015, 485.43684255093194, 122.56119243909056, 117.8150644821535, 352.739670972853, 193.52202841739182, 726.7400194887946, 137.42749992111285, 120.75933239924454, 107.61447622495781, 111.01334417582117, 85.84704201358454, 64.46045929822189, 43.05981855772235, 40.959073707221854, 31.744929073569917, 30.4529297298227, 32.00729668408525, 28.50657697081504, 27.299249126361005, 27.86786836546369, 26.793241307376313, 24.77582539531982, 26.3230011001408, 23.423734529896727, 24.506066325258395, 22.473961903798713, 22.012542604337476, 20.27690709855791, 20.275853906526102, 19.30349134472732, 19.304122757781805, 18.210892834617788, 22.064299367787328, 19.009602905512253, 16.56237803225416, 24.31723785627101, 33.694253111798524, 35.435972413786665, 117.8150644821535, 45.40921572580629, 51.49040154679862, 85.01324550025994, 39.069474514762774, 33.849349672584644, 180.3582443029024], \"loglift\": [30.0, 29.0, 28.0, 27.0, 26.0, 25.0, 24.0, 23.0, 22.0, 21.0, 20.0, 19.0, 18.0, 17.0, 16.0, 15.0, 14.0, 13.0, 12.0, 11.0, 10.0, 9.0, 8.0, 7.0, 6.0, 5.0, 4.0, 3.0, 2.0, 1.0, 1.8649, 1.8643, 1.8639, 1.8639, 1.8638, 1.8637, 1.8636, 1.8633, 1.863, 1.8597, 1.8576, 1.8476, 1.8475, 1.847, 1.8444, 1.8416, 1.8396, 1.835, 1.8301, 1.8258, 1.8238, 1.818, 1.8131, 1.8083, 1.8076, 1.7982, 1.7939, 1.7852, 1.7829, 1.7828, 1.7537, 1.7605, 1.6278, 1.5763, 1.4975, 1.6424, 1.0557, 0.966, 1.1495, 0.6191, 1.1936, 0.1949, 2.1654, 2.1652, 2.1644, 2.1623, 2.1613, 2.1582, 2.1571, 2.1539, 2.1535, 2.1509, 2.1487, 2.1477, 2.1468, 2.1442, 2.1423, 2.1379, 2.1367, 2.1357, 2.1347, 2.1329, 2.1264, 2.1257, 2.125, 2.1246, 2.1222, 2.1218, 2.1183, 2.118, 2.1179, 2.1176, 2.1007, 1.8128, 1.9704, 1.9954, 1.9762, 1.9259, 1.9736, 1.8257, 1.7511, 1.6313, 1.7978, 0.9983, 0.5061, 0.9652, 1.6271, 1.1172, 0.9389, 2.1748, 2.1733, 2.1709, 2.1693, 2.1662, 2.1658, 2.1654, 2.165, 2.1599, 2.1559, 2.1557, 2.1528, 2.1526, 2.1514, 2.1491, 2.1469, 2.1466, 2.1459, 2.1459, 2.1449, 2.1434, 2.1408, 2.14, 2.1394, 2.1394, 2.1391, 2.1328, 2.1313, 2.1308, 2.1306, 2.1299, 2.1276, 2.1155, 1.9408, 1.8692, 2.0399, 1.8399, 1.785, 1.6223, 1.8115, 1.149, 1.8454, 1.8558, 0.6201, 1.2757, 1.2945, 1.2707, -0.0695, 2.2183, 2.2129, 2.2125, 2.2121, 2.212, 2.2109, 2.2098, 2.2098, 2.2098, 2.2094, 2.2094, 2.2094, 2.2094, 2.2094, 2.2094, 2.2094, 2.2094, 2.2033, 2.2003, 2.2, 2.1973, 2.1946, 2.1931, 2.1919, 2.1918, 2.1913, 2.191, 2.1908, 2.1907, 2.1907, 2.184, 2.0704, 1.8765, 2.0097, 1.995, 1.661, 1.7776, 1.6233, 1.8216, 2.2226, 2.2207, 2.2188, 2.2181, 2.2164, 2.2162, 2.2146, 2.2146, 2.2114, 2.2086, 2.2077, 2.2052, 2.2042, 2.2023, 2.1992, 2.1989, 2.1979, 2.1945, 2.1908, 2.1875, 2.1862, 2.186, 2.1847, 2.1835, 2.1833, 2.1824, 2.1817, 2.1799, 2.1791, 2.1782, 2.1491, 2.1386, 2.1165, 2.0923, 1.9967, 1.7113, 1.6968, 1.3972, 1.7859, 0.7106, 1.5208, 1.3605, 1.6629, 0.4284, 1.4531, 2.2901, 2.2874, 2.2854, 2.2844, 2.2844, 2.2822, 2.2797, 2.279, 2.2788, 2.278, 2.2751, 2.2707, 2.2683, 2.2669, 2.265, 2.2631, 2.2614, 2.2606, 2.2587, 2.2575, 2.2568, 2.2533, 2.2532, 2.253, 2.2529, 2.2526, 2.2513, 2.2476, 2.245, 2.243, 2.2344, 2.2292, 2.0462, 1.7687, 1.775, 2.1095, 1.914, 1.1013, 2.1004, 1.161, 1.923, 1.6651, 0.9151, 0.1108, 2.375, 2.3722, 2.3717, 2.3707, 2.37, 2.3698, 2.3697, 2.3697, 2.3697, 2.3696, 2.3695, 2.3654, 2.3652, 2.3626, 2.3613, 2.3596, 2.3572, 2.355, 2.3529, 2.34, 2.3392, 2.3353, 2.3307, 2.3291, 2.3274, 2.3229, 2.3199, 2.3195, 2.3195, 2.3176, 2.044, 1.934, 2.031, 1.7063, 1.5805, 1.8339, 2.1613, 1.1256, 0.9581, 1.582, 2.5637, 2.563, 2.5627, 2.5626, 2.5468, 2.5224, 2.5223, 2.5131, 2.503, 2.5, 2.4985, 2.4979, 2.494, 2.4939, 2.4927, 2.4919, 2.4886, 2.4797, 2.4742, 2.4737, 2.4633, 2.4577, 2.4515, 2.4414, 2.434, 2.1929, 2.1083, 2.0011, 1.9665, 1.9524, 1.6824, 1.0281, 1.5924, 0.597, 1.3692, 0.1762, 2.6331, 2.6322, 2.6307, 2.6273, 2.6252, 2.6246, 2.6246, 2.6239, 2.6224, 2.6216, 2.6211, 2.6189, 2.6183, 2.6182, 2.6182, 2.6093, 2.6071, 2.606, 2.6046, 2.6034, 2.6019, 2.6016, 2.599, 2.5969, 2.586, 2.5799, 2.5766, 2.5764, 2.5728, 2.57, 2.5622, 2.5316, 2.5653, 2.432, 2.0597, 1.9467, 1.2518, 1.7786, 1.5578, 0.5357, 0.9622, -0.3334, 2.7649, 2.7641, 2.7633, 2.7599, 2.7584, 2.7571, 2.7493, 2.7477, 2.7439, 2.7425, 2.7412, 2.7404, 2.7382, 2.7382, 2.7373, 2.7347, 2.7339, 2.7332, 2.7329, 2.7318, 2.7307, 2.7268, 2.7265, 2.7249, 2.7249, 2.722, 2.7196, 2.7195, 2.7166, 2.7164, 2.6997, 2.6095, 2.3486, 2.5241, 2.488, 1.934, 2.3079, 2.3529, 0.8476], \"logprob\": [30.0, 29.0, 28.0, 27.0, 26.0, 25.0, 24.0, 23.0, 22.0, 21.0, 20.0, 19.0, 18.0, 17.0, 16.0, 15.0, 14.0, 13.0, 12.0, 11.0, 10.0, 9.0, 8.0, 7.0, 6.0, 5.0, 4.0, 3.0, 2.0, 1.0, -2.679, -3.0918, -3.1646, -3.1731, -3.1368, -3.1733, -3.1734, -3.1572, -3.052, -3.1334, -4.1037, -4.696, -4.787, -4.1182, -2.9519, -5.0341, -5.1349, -5.2833, -5.4073, -5.5189, -5.5825, -5.6933, -5.7934, -5.8484, -5.8923, -5.9709, -6.1055, -5.419, -6.1917, -6.2065, -2.9546, -4.3803, -3.1279, -2.6884, -2.9176, -5.4993, -4.6969, -4.6649, -5.09, -5.2936, -5.4186, -5.2932, -3.8044, -3.8608, -3.9117, -3.9062, -4.1565, -4.3035, -3.9823, -4.5755, -4.3979, -4.695, -4.2308, -4.8013, -4.7949, -4.9069, -4.9827, -5.1122, -5.0665, -5.179, -4.9386, -5.243, -4.9618, -5.39, -5.401, -5.4236, -5.4666, -5.447, -5.502, -5.5393, -5.545, -5.5306, -4.2124, -2.4556, -4.1909, -4.465, -4.3457, -4.3866, -4.6714, -4.087, -4.1941, -4.3424, -4.6388, -3.4168, -3.4152, -4.3224, -4.7962, -4.6709, -4.692, -3.3472, -3.5351, -3.7078, -3.6308, -4.1743, -4.2045, -4.2335, -4.2562, -4.5259, -4.6831, -4.6981, -4.8111, -4.8102, -4.8611, -4.9424, -4.9987, -4.9853, -5.021, -5.0281, -4.9882, -5.0638, -5.1697, -5.189, -5.179, -5.2003, -5.2002, -5.3339, -5.3666, -5.3923, -5.3925, -5.2927, -5.2669, -4.9038, -3.8171, -3.3151, -4.6006, -3.486, -3.7031, -4.0188, -4.547, -3.5109, -4.7877, -4.8293, -4.1356, -4.5285, -4.5852, -4.8633, -4.7778, -2.9988, -3.7562, -3.7911, -3.8089, -3.8371, -3.9278, -4.0152, -4.0093, -4.0002, -4.0456, -4.0456, -4.0456, -4.0456, -4.0456, -4.0456, -4.0456, -4.0456, -4.372, -4.5542, -4.5333, -4.6093, -4.7718, -4.7402, -4.8655, -4.8578, -4.8764, -4.8575, -4.8972, -4.8973, -4.8835, -4.4479, -3.7479, -3.8622, -4.4504, -4.5347, -4.0032, -4.2017, -4.1293, -4.4973, -3.1803, -3.4512, -3.6757, -3.4753, -3.8611, -3.9081, -4.0389, -3.9882, -4.1567, -4.0292, -4.38, -4.4869, -4.5469, -4.6605, -4.6808, -4.8015, -4.8271, -4.9238, -5.0393, -5.1334, -5.0342, -5.0784, -5.1677, -5.2224, -5.1183, -5.2254, -5.266, -5.2769, -5.2776, -5.3421, -3.6957, -3.3023, -3.8482, -4.3743, -3.9291, -3.8924, -4.1073, -3.4936, -4.4029, -3.2107, -4.2672, -4.3037, -4.6391, -4.3118, -4.6724, -2.6598, -3.4869, -3.7096, -3.7956, -3.8018, -3.9692, -4.0234, -4.1011, -4.1013, -4.2412, -2.9675, -4.5821, -4.6601, -3.9104, -4.732, -4.8312, -4.8886, -4.0016, -4.9439, -4.9911, -4.7933, -5.0971, -5.0972, -4.8916, -5.1154, -5.112, -5.1462, -5.1521, -5.2928, -5.3251, -4.954, -5.0531, -3.2112, -2.1526, -2.8848, -4.5809, -4.04, -3.1671, -4.8522, -3.5792, -4.7838, -4.7822, -4.7762, -4.78, -3.3621, -3.1249, -3.1328, -3.7389, -3.8301, -3.8304, -3.8304, -3.8304, -3.8305, -3.8306, -3.8307, -3.8147, -3.8149, -4.2901, -4.3468, -4.423, -3.7512, -4.5824, -4.6739, -5.0305, -5.0623, -3.8856, -5.241, -5.2775, -5.2232, -5.3901, -4.5483, -5.4459, -5.4458, -5.2914, -3.2108, -3.3536, -3.9981, -3.0339, -3.3104, -4.0459, -5.0236, -4.2004, -4.7332, -5.0062, -2.1555, -2.3804, -2.4371, -2.4632, -4.0437, -4.8901, -4.8903, -1.3481, -5.2692, -5.3092, -5.3463, -5.0864, -5.3793, -5.409, -4.9884, -5.4425, -5.4797, -4.5824, -5.6592, -5.6611, -5.7507, -5.8326, -5.8933, -5.9471, -2.15, -4.3513, -5.3567, -5.8971, -4.624, -6.1382, -4.4994, -4.2293, -5.5695, -5.1609, -5.569, -5.4275, -3.2287, -3.3393, -3.4172, -3.7095, -3.8251, -3.8341, -3.8936, -3.8636, -4.01, -4.0472, -4.0697, -4.1684, -4.1958, -4.1958, -4.1959, -4.0517, -4.5725, -4.5062, -4.6539, -4.6859, -4.6677, -4.3783, -4.4194, -3.1919, -5.0572, -5.1181, -4.9512, -3.7433, -5.2776, -5.2753, -4.4004, -3.6741, -4.9642, -4.3931, -3.9472, -3.7446, -3.0129, -3.8625, -4.1228, -4.0483, -4.2222, -4.1946, -2.7618, -2.8918, -3.0079, -2.9802, -3.2388, -3.5266, -3.9379, -3.9895, -4.2481, -4.291, -4.2426, -4.3592, -4.4046, -4.3841, -4.4243, -4.5051, -4.4453, -4.5628, -4.5179, -4.6055, -4.6274, -4.7135, -4.7138, -4.7645, -4.7645, -4.8257, -4.6362, -4.7853, -4.926, -4.5421, -4.2327, -4.2725, -3.332, -4.1099, -4.0203, -4.0729, -4.4764, -4.575, -4.4072]}, \"token.table\": {\"Topic\": [9, 10, 8, 5, 1, 10, 2, 5, 3, 5, 10, 1, 2, 5, 10, 4, 10, 10, 5, 6, 7, 8, 10, 10, 9, 3, 7, 9, 9, 6, 7, 3, 1, 3, 9, 8, 2, 7, 4, 10, 1, 5, 1, 2, 9, 1, 2, 4, 6, 8, 7, 6, 8, 3, 1, 1, 3, 1, 3, 4, 6, 7, 9, 9, 6, 2, 6, 2, 7, 7, 1, 1, 6, 10, 2, 4, 2, 3, 5, 9, 1, 3, 5, 8, 3, 8, 4, 1, 3, 8, 9, 8, 3, 2, 3, 3, 6, 3, 10, 3, 3, 4, 8, 7, 5, 7, 9, 7, 10, 5, 8, 1, 4, 8, 8, 10, 1, 2, 9, 5, 4, 1, 7, 2, 7, 1, 9, 6, 1, 3, 4, 7, 1, 5, 10, 4, 10, 2, 3, 3, 10, 1, 3, 6, 10, 9, 1, 2, 6, 8, 4, 1, 6, 3, 2, 3, 6, 2, 1, 2, 5, 6, 6, 2, 5, 7, 10, 2, 3, 5, 9, 9, 10, 10, 2, 9, 10, 4, 6, 8, 9, 4, 10, 6, 8, 1, 2, 5, 6, 9, 5, 6, 7, 1, 8, 9, 10, 1, 5, 1, 2, 3, 4, 1, 2, 7, 2, 6, 4, 6, 7, 10, 6, 7, 9, 4, 7, 7, 6, 2, 5, 7, 4, 2, 6, 8, 2, 8, 1, 5, 6, 7, 5, 7, 10, 4, 7, 1, 10, 4, 9, 3, 7, 2, 6, 1, 2, 4, 9, 3, 7, 9, 8, 3, 10, 5, 9, 6, 1, 4, 1, 6, 5, 3, 4, 9, 5, 6, 8, 6, 9, 9, 10, 3, 9, 1, 4, 10, 3, 5, 6, 2, 2, 2, 2, 8, 1, 1, 7, 3, 3, 5, 6, 2, 10, 3, 9, 4, 10, 9, 9, 2, 6, 2, 10, 4, 2, 7, 7, 2, 4, 10, 6, 8, 2, 5, 6, 3, 6, 5, 1, 5, 8, 5, 2, 6, 9, 8, 9, 5, 1, 7, 9, 7, 8, 10, 4, 5, 4, 8, 10, 4, 6, 1, 8, 10, 5, 5, 6, 7, 3, 7, 10, 5, 5, 6, 5, 7, 2, 10, 1, 2, 5, 6, 4, 7, 5, 2, 5, 9, 6, 6, 4, 9, 2, 2, 5, 4, 3, 9, 3, 5, 10, 1, 3, 6, 8, 6, 7, 3, 10, 10, 6, 10, 1, 3, 5, 2, 3, 5, 4, 5, 10, 3, 7, 9, 6, 5, 7, 8, 7, 8, 2, 3, 7, 4, 7, 4, 5, 2, 5, 1, 3, 7, 3, 3, 1, 4, 8, 5, 10, 1, 3, 8, 1, 1, 8, 8, 3, 10, 5, 1, 1, 2, 9, 2, 6, 7, 6, 1, 3, 4, 2, 3, 1, 2, 4, 5, 6, 3, 8, 3, 9, 8, 1, 8, 10, 1, 2, 5, 9, 7, 3, 1, 3, 6, 3, 1, 5, 4, 1, 2, 5, 7, 4, 2, 3, 2, 9, 3, 4, 5, 3, 5, 5, 3, 4, 8, 1, 2, 5, 3, 7, 2, 6, 2, 6, 7, 8, 1, 2, 3, 5, 7, 4, 5, 5, 9, 2, 9, 3, 6, 4, 5, 2, 7, 5, 4, 4, 5, 9, 1, 2, 7, 1, 2, 10, 1, 2, 1, 2, 3, 7, 1, 2, 3, 4, 5, 2, 6, 1, 5, 8, 9, 8, 5, 4, 1, 3, 10, 5, 2, 3, 4, 6, 3, 10], \"Freq\": [0.9665958061869517, 0.994290022620439, 0.9271842801490887, 0.9802080778988453, 0.9694063320112778, 0.985126891440624, 0.09020818505548102, 0.8908058274228751, 0.07678628999390359, 0.2559542999796786, 0.6398857499491966, 0.07899566543436115, 0.30018352865057235, 0.5687687911274002, 0.04739739926061669, 0.9728126001494547, 0.9688577413212118, 0.9703939774110895, 0.16571604891000066, 0.32148913488540126, 0.507091109664602, 0.003314320978200013, 0.954001560722115, 0.9517637360676339, 0.986904810039844, 0.7084494880172636, 0.2857611380237702, 0.9754652426905035, 0.978998185129668, 0.9466717325985622, 0.9784881609555793, 0.952996923395282, 0.892462524634032, 0.10593979608965128, 0.9458434711483987, 0.9112680269998146, 0.9831689884564808, 0.9846388144544561, 0.9798963518718439, 0.9686861937820092, 0.9010798712035537, 0.09414267311081904, 0.01707364601898917, 0.9731978230823827, 0.9926721607905181, 0.9185303810234938, 0.1541154714592823, 0.3922939273509004, 0.0280209948107786, 0.4063044247562897, 0.9318373226398178, 0.947196709133774, 0.9124679710693525, 0.9362491889295583, 0.9944550915542809, 0.9366727332428845, 0.9645810442057038, 0.022000200569248986, 0.7040064182159675, 0.24200220626173885, 0.9466638738368317, 0.10045095562436653, 0.889708464101532, 0.9562882323137858, 0.9592349518432594, 0.013948561050697363, 0.9763992735488154, 0.027831532443608333, 0.9462721030826833, 0.9846012280853859, 0.9858151148765125, 0.21926966818890883, 0.5299016981231963, 0.23754214053798456, 0.2878345092095019, 0.7105914446109578, 0.34967042072871046, 0.1512088305853883, 0.491428699402512, 0.9612840345808055, 0.4898159828544143, 0.1187432685707671, 0.3710727142836472, 0.014842908571345887, 0.976677342058751, 0.9231249057237825, 0.9930945599119116, 0.9595678921972496, 0.9876551381639761, 0.8760001367234387, 0.12190293164759826, 0.9965814159836225, 0.9604996673327547, 0.9785893482006117, 0.9794757018707632, 0.2842042111679699, 0.6868268436559273, 0.041123091607302625, 0.9458311069679604, 0.973210688396793, 0.9691401582710159, 0.9709306058328728, 0.9593503067614777, 0.9717214313377921, 0.007065004824025417, 0.9891006753635584, 0.9573310924499219, 0.9843311823684989, 0.9468898476980023, 0.9768034716364352, 0.8876745398588661, 0.9953217631853623, 0.9798985715565596, 0.9968186672599514, 0.9608235311171801, 0.9370265350454398, 0.053317594167816514, 0.10663518833563303, 0.7997639125172477, 0.952647352509233, 0.9709668386780422, 0.9318155399827036, 0.934149303964675, 0.9672171290717163, 0.9872862979387408, 0.032343328670363755, 0.9702998601109126, 0.9867331145351245, 0.0964121638539572, 0.016068693975659534, 0.6748851469777004, 0.22496171565923348, 0.9947080246726332, 0.949982635315188, 0.9324738037565746, 0.9938367089523402, 0.9335072230881534, 0.919025546281786, 0.985241555365347, 0.9922718233372932, 0.9793493448299048, 0.07768438155147184, 0.11652657232720776, 0.03884219077573592, 0.7574227201268504, 0.9876831166931527, 0.9347934036689957, 0.03894972515287482, 0.7782909969928592, 0.2168096348765822, 0.9682631357643201, 0.9901379053555956, 0.004267835798946533, 0.9366206843293796, 0.06989805093023996, 0.09319740124031994, 0.8387766111628795, 0.9799797392889662, 0.1191850759056703, 0.25161293802308177, 0.4634975174109401, 0.15891343454089374, 0.963809582568546, 0.2979296712393146, 0.005729416754602204, 0.6359652597608446, 0.05729416754602204, 0.0413389631424566, 0.7337665957786047, 0.036171592749649525, 0.1860253341410547, 0.9551700045344992, 0.03782851503106928, 0.952407147890877, 0.9534610056928084, 0.552855025395499, 0.43522629658794604, 0.9798980097499922, 0.9880467097899829, 0.8910950122961527, 0.9150976570539439, 0.19819765340904696, 0.7707686521462938, 0.9526642166618872, 0.9199166847249131, 0.001461245784401203, 0.1885007061877552, 0.21918686766018045, 0.590343296898086, 0.9590924437608377, 0.042113689658422604, 0.9265011724852973, 0.9556630372388313, 0.7457200778122213, 0.0020600002149508876, 0.24926002600905742, 0.0020600002149508876, 0.5171094394343456, 0.4740169861481502, 0.06863452383173244, 0.8098873812144427, 0.013726904766346486, 0.0960883333644254, 0.804922922099026, 0.18293702774977866, 0.9846664832012693, 0.9802983480641924, 0.013428744494030032, 0.979904972691436, 0.9931383976626994, 0.9790902171014391, 0.9765845850402435, 0.2487964981351478, 0.2402173085442806, 0.4975929962702956, 0.8143034163171042, 0.18506895825388733, 0.9722908945037914, 0.9771197462307171, 0.5803135456163837, 0.19343784853879456, 0.2161952424845351, 0.9752734841875711, 0.26134053831777854, 0.33600926355142957, 0.37334362616825506, 0.3033282655464468, 0.6572112420173014, 0.01862635315032106, 0.8754385980650898, 0.09313176575160531, 0.9906518803186445, 0.9872800170501874, 0.9488685368411445, 0.9660448498905795, 0.8571603770054912, 0.13636642361450996, 0.995713961243559, 0.9497397316093368, 0.9799030350629044, 0.9500288634725852, 0.01301990155389226, 0.9764926165419195, 0.016432958834822146, 0.9804998771443881, 0.9948684821008815, 0.9569192195050682, 0.9799129370896643, 0.9753822969904481, 0.41434054268420856, 0.580076759757892, 0.9815637662782413, 0.9962996256041927, 0.32496931570029985, 0.6499386314005997, 0.04824569937711934, 0.9327501879576405, 0.9682659006510512, 0.44695557170638395, 0.5472925367833272, 0.03833445861367426, 0.9583614653418565, 0.988165803289033, 0.9621121656983158, 0.9801295977731104, 0.9661856582420061, 0.12077415430084935, 0.1610322057344658, 0.6843868743714796, 0.9602142816566607, 0.9804627594809209, 0.33951515602708987, 0.653566675352148, 0.5711432681661287, 0.4242778563519813, 0.9944561505962478, 0.9799077730782746, 0.9685291546478495, 0.9404362585381145, 0.9149738714452661, 0.08014369676892841, 0.9339508174780055, 0.9732299778637497, 0.9447394628404774, 0.982469487196083, 0.8530109872410794, 0.9590261274503769, 0.9944525393957783, 0.9846436989447431, 0.9933610015428435, 0.6854216899018898, 0.30091683946912234, 0.9721148577591141, 0.9883374756743988, 0.9324433037364471, 0.9422658107398665, 0.9891039348982497, 0.9802575115232708, 0.9819100353380501, 0.9647720664860313, 0.9794863310363938, 0.9655943568737543, 0.9807083645348995, 0.8238630175866326, 0.15586597630017374, 0.9688154616460816, 0.936435737642612, 0.03468280509787452, 0.9879245205857791, 0.9791998151978968, 0.1410995567333354, 0.8465973404000124, 0.9770275800864154, 0.9594039071612245, 0.04462604930041345, 0.26775629580248067, 0.6805472518313052, 0.9755581198753714, 0.9908708993396464, 0.9935131876818077, 0.5672072669371305, 0.08955904214796798, 0.2985301404932266, 0.9846026029267142, 0.9727253645270921, 0.9717368363067715, 0.015183388067293305, 0.9480694354559671, 0.05091229188950767, 0.953032518514358, 0.9815025442398941, 0.9562264718193967, 0.9729096796760968, 0.9846774828142689, 0.9123091228212444, 0.0675784535423144, 0.3527362355722108, 0.6490346734528678, 0.979900684416342, 0.5457407697391836, 0.3898148355279883, 0.988950876403327, 0.9541313611696296, 0.981538885266394, 0.011282056152487287, 0.990871870554442, 0.9688759254845845, 0.43540385083155525, 0.11174081127535489, 0.44696324510141955, 0.13861301487285374, 0.7096986361490112, 0.1441575354677679, 0.962872130273563, 0.9440902201935504, 0.9243401576964232, 0.007117301150162631, 0.9893048598726056, 0.9714805745376149, 0.9901331252222936, 0.9890504884871769, 0.9860693649248627, 0.9485427738250386, 0.9908398426499065, 0.9799043269612355, 0.9557372698313001, 0.9920484905578365, 0.9585972381980867, 0.9887102076673052, 0.9894072231840243, 0.9450850717016327, 0.9754167485316643, 0.06117786143406962, 0.9176679215110443, 0.9711183140281532, 0.9242916904628068, 0.9513595197110973, 0.9902352822709065, 0.9824369148250558, 0.9896378995855374, 0.9742985897113355, 0.95253973789791, 0.9765339191074102, 0.9933071180801252, 0.2835117202839147, 0.18900781352260979, 0.5670234405678294, 0.9932571896076157, 0.004087478146533398, 0.9790023203627783, 0.975387296249248, 0.9370752071696744, 0.8176847540153098, 0.15142310259542774, 0.9256169182262497, 0.40336915248915084, 0.5858456738532906, 0.9691997455821193, 0.9948556267633354, 0.965481487448307, 0.96664186203187, 0.9592526361387772, 0.9937120189043932, 0.9789917821094517, 0.9708741565255193, 0.9755535071521307, 0.9816683692325315, 0.9881955144895521, 0.9790437940140049, 0.9399300842070095, 0.9847001068086608, 0.9909786161336658, 0.06649985057420597, 0.8644980574646777, 0.044333233716137316, 0.7936303267202103, 0.17856682351204733, 0.5678105631226013, 0.4175077670019127, 0.5708041047939599, 0.4102654503206587, 0.1890354954839112, 0.6721262061650176, 0.13302497830349305, 0.9707523586895731, 0.9800563248470602, 0.2952010610876772, 0.1476005305438386, 0.548230542019972, 0.9616066218908388, 0.9896127054488201, 0.9534263609899019, 0.9782002620831334, 0.8889054369887183, 0.9663665383954064, 0.953099538305005, 0.8553656326372043, 0.9621918940453551, 0.9923123477387761, 0.9773433308710201, 0.9965448238619361, 0.9650257297865291, 0.08058791408221408, 0.8219967236385837, 0.0967054968986569, 0.8330750543196115, 0.1295894528941618, 0.018512778984880254, 0.9879439375533267, 0.7876294797512916, 0.20868815275461572, 0.9931713836603617, 0.9726665884499995, 0.9740690693065196, 0.4038128787105348, 0.29074527267158506, 0.15344889391000321, 0.14537263633579253, 0.9913828338020803, 0.9388350133235535, 0.032373621149088046, 0.7184710691800343, 0.2549413471283993, 0.8892370426290291, 0.9394079684865024, 0.9248150318239688, 0.05137861287910938, 0.03317522217008984, 0.652446036011767, 0.210109740410569, 0.09952566651026953, 0.9658497793846842, 0.9852503945271722, 0.04893207001626653, 0.35475750761793234, 0.5933013489472316, 0.9643722165429913, 0.9592246720255563, 0.9779757670708239, 0.9825315438839309, 0.6895969594376361, 0.3088819714147745, 0.7918308730212045, 0.19524596869016, 0.9759581842299915, 0.78237434326333, 0.20756870331476102, 0.9572101104663234, 0.9755545747789075, 0.9644201127485245, 0.9854074122577631, 0.9790078413306077, 0.07001905234114057, 0.9202504021978476, 0.9649972793681661, 0.7886022696311406, 0.06418855683044168, 0.1375469074938036, 0.12653675200817435, 0.6869137966158037, 0.16269010972479558, 0.0291384382916965, 0.9469992444801363, 0.9832117568145441, 0.9813959011075176, 0.11460371369515006, 0.03820123789838335, 0.8022259958660505, 0.03820123789838335, 0.042070736245365885, 0.18931831310414646, 0.2734597855948782, 0.042070736245365885, 0.4417427305763418, 0.9575635635032699, 0.9445473332885882, 0.053922334816433604, 0.9166796918793713, 0.9567532218517563, 0.9755514487172489, 0.9812366576282014, 0.9870507787201253, 0.9669324894526263, 0.0219757383966506, 0.9689744061540766, 0.936178741175502, 0.9575537461654455, 0.9848335037655115, 0.9853953487856257, 0.9549466829327062, 0.9806927315819111, 0.9413265074786177, 0.9715128611073222, 0.9846399684166033, 0.06390731335443064, 0.9266560436392445, 0.9822294703663063, 0.9744472126949368, 0.021031234806365543, 0.2890355317803486, 0.7065312999075187, 0.28865359248999933, 0.697579515184165, 0.24028667905283294, 0.04576889124815865, 0.05721111406019832, 0.6407644774742212, 0.011442222812039663, 0.6947207283163238, 0.3018726974231645, 0.1414697243066051, 0.5973166137389994, 0.09431314953773673, 0.16504801169103928, 0.9948679722707645, 0.9928915341558048, 0.9677235787434318, 0.9967793265700308, 0.955009162717401, 0.9789106208407962, 0.9847611673827754, 0.38734700634135644, 0.4007037996634722, 0.08014075993269444, 0.12021113989904166, 0.02967865162886889, 0.9200382004949357], \"Term\": [\"able\", \"active\", \"actually\", \"add\", \"afc\", \"agent\", \"ahead\", \"ahead\", \"allow\", \"allow\", \"allow\", \"also\", \"also\", \"also\", \"also\", \"always\", \"america\", \"american\", \"amp\", \"amp\", \"amp\", \"amp\", \"angleton\", \"appreciate\", \"area\", \"astro\", \"astro\", \"attend\", \"attention\", \"attrition\", \"available\", \"awesome\", \"back\", \"back\", \"baptize\", \"bbq\", \"beat\", \"beaucoup\", \"begin\", \"bend\", \"best\", \"best\", \"bet\", \"bet\", \"beto\", \"better\", \"big\", \"big\", \"big\", \"big\", \"biggest\", \"birthday\", \"bloomsbury\", \"blue\", \"bogus\", \"bold\", \"bowl\", \"bring\", \"bring\", \"bring\", \"brutal\", \"call\", \"call\", \"canvass\", \"care\", \"cbs\", \"cbs\", \"center\", \"center\", \"cette\", \"championship\", \"chance\", \"chance\", \"chance\", \"change\", \"change\", \"check\", \"check\", \"check\", \"cheer\", \"chronicle\", \"chronicle\", \"chronicle\", \"chronicle\", \"classroom\", \"clean\", \"climate\", \"club\", \"coach\", \"come\", \"come\", \"conroe\", \"consider\", \"continue\", \"corner\", \"cornerback\", \"cornerback\", \"count\", \"count\", \"currently\", \"damn\", \"dance\", \"darts\", \"dave\", \"de\", \"de\", \"deal\", \"debate\", \"decision\", \"defense\", \"defensive\", \"democrat\", \"destruction\", \"detail\", \"diehard\", \"diet\", \"different\", \"different\", \"different\", \"diligence\", \"director\", \"discuss\", \"dominant\", \"dominate\", \"donation\", \"don\\u00e3\", \"don\\u00e3\", \"downgrade\", \"draft\", \"draft\", \"draft\", \"draft\", \"drop\", \"due\", \"dump\", \"economy\", \"edge\", \"elect\", \"electric\", \"elite\", \"etc\", \"even\", \"even\", \"even\", \"even\", \"event\", \"everything\", \"everything\", \"fan\", \"fan\", \"far\", \"fellow\", \"fellow\", \"field\", \"final\", \"final\", \"final\", \"find\", \"first\", \"first\", \"first\", \"first\", \"flood\", \"follow\", \"follow\", \"follow\", \"follow\", \"football\", \"football\", \"football\", \"football\", \"former\", \"former\", \"forward\", \"fourth\", \"free\", \"free\", \"frequency\", \"friday\", \"friend\", \"fuel\", \"full\", \"full\", \"fund\", \"gamblingtwitter\", \"game\", \"game\", \"game\", \"game\", \"gas\", \"gather\", \"gather\", \"generous\", \"get\", \"get\", \"get\", \"get\", \"give\", \"give\", \"go\", \"go\", \"go\", \"go\", \"gon\", \"gon\", \"gonfle\", \"great\", \"great\", \"hammer\", \"hamstring\", \"harden\", \"head\", \"help\", \"help\", \"help\", \"high\", \"high\", \"hinch\", \"hip\", \"home\", \"home\", \"home\", \"hookem\", \"hope\", \"hope\", \"hope\", \"host\", \"host\", \"houstontexan\", \"houstontexan\", \"houstontexan\", \"houston\\u00e3\", \"htown\", \"hurricane\", \"ilb\", \"impact\", \"impact\", \"impeachment\", \"include\", \"increase\", \"industry\", \"indy\", \"indy\", \"injury\", \"injury\", \"inquiry\", \"instagram\", \"intensity\", \"israel\", \"jersey\", \"jersey\", \"job\", \"join\", \"katy\", \"katy\", \"keep\", \"keep\", \"kicker\", \"know\", \"know\", \"land\", \"land\", \"last\", \"league\", \"leave\", \"left\", \"let\", \"let\", \"let\", \"life\", \"link\", \"list\", \"list\", \"live\", \"live\", \"lizzie\", \"local\", \"location\", \"logo\", \"london\", \"london\", \"longhorn\", \"look\", \"loss\", \"lsu\", \"luck\", \"madden\", \"madness\", \"maillot\", \"make\", \"man\", \"man\", \"marqise\", \"matchup\", \"mayock\", \"mcnair\", \"meet\", \"minute\", \"mislead\", \"miss\", \"monday\", \"move\", \"moved\", \"much\", \"much\", \"mystery\", \"name\", \"name\", \"nan\", \"need\", \"never\", \"never\", \"news\", \"nflukfanmeetup\", \"night\", \"night\", \"night\", \"nike\", \"note\", \"nov\", \"november\", \"november\", \"november\", \"nrg\", \"number\", \"oct\", \"oct\", \"october\", \"october\", \"offense\", \"offensive\", \"overcome\", \"part\", \"participer\", \"party\", \"party\", \"pass\", \"pass\", \"path\", \"patstexan\", \"patstexan\", \"personal\", \"photo\", \"pick\", \"pick\", \"place\", \"plan\", \"play\", \"play\", \"play\", \"player\", \"player\", \"player\", \"point\", \"poshmark\", \"post\", \"pour\", \"pour\", \"power\", \"practice\", \"prediction\", \"preview\", \"primetime\", \"programming\", \"property\", \"public\\u00e3\", \"punter\", \"put\", \"pvamu\", \"quarterback\", \"question\", \"questionable\", \"rank\", \"rank\", \"ranking\", \"rapidly\", \"rating\", \"real\", \"recently\", \"red\", \"reddit\", \"reflect\", \"release\", \"rep\", \"replica\", \"replica\", \"replica\", \"report\", \"report\", \"represent\", \"reserveinjure\", \"restriction\", \"return\", \"return\", \"retweet\", \"right\", \"right\", \"road\", \"rocket\", \"role\", \"rookie\", \"room\", \"roster\", \"rough\\u00e3\", \"round\", \"rsvp\\u00e3\", \"rule\", \"run\", \"russ\", \"safety\", \"saison\", \"saturday\", \"say\", \"say\", \"say\", \"school\", \"school\", \"season\", \"season\", \"second\", \"second\", \"see\", \"see\", \"see\", \"series\", \"shirt\", \"show\", \"show\", \"show\", \"sideline\", \"sign\", \"site\", \"size\", \"soon\", \"south\", \"speaking\", \"special\", \"sponsored\", \"sport\", \"squad\", \"stadium\", \"staff\", \"start\", \"start\", \"start\", \"state\", \"state\", \"state\", \"status\", \"stop\", \"stop\", \"storm\", \"streak\", \"stream\", \"sunday\", \"sunday\", \"sunday\", \"sunday\", \"sunday\\u00e3\", \"super\", \"super\", \"support\", \"support\", \"supporter\", \"table\", \"tailgate\", \"tailgate\", \"take\", \"take\", \"take\", \"take\", \"talent\", \"talk\", \"team\", \"team\", \"team\", \"teamcjcorrea\", \"test\", \"texans\\u00e3\", \"texan\\u00e3\", \"texas\", \"texas\", \"that\\u00e3\", \"that\\u00e3\", \"thing\", \"think\", \"think\", \"thought\", \"thread\", \"thrill\", \"thrilling\", \"thunder\", \"ticket\", \"ticket\", \"tie\", \"time\", \"time\", \"time\", \"today\", \"today\", \"today\", \"together\", \"together\", \"tomorrow\", \"tomorrow\\u00e3\", \"tonight\", \"tonight\", \"tonight\", \"tonight\", \"top\", \"top\", \"top\", \"top\", \"top\", \"toro\", \"touchdown\", \"tout\", \"tout\", \"trade\", \"trained\", \"trash\", \"travel\", \"try\", \"try\", \"tulane\", \"txhsfb\", \"underdog\", \"understand\", \"underwater\", \"undrafted\", \"upcoming\", \"update\", \"visit\", \"vont\", \"vote\", \"vote\", \"waive\", \"want\", \"want\", \"watch\", \"watch\", \"wear\", \"wear\", \"wearetexan\", \"wearetexan\", \"wearetexan\", \"wearetexan\", \"wearetexan\", \"week\", \"week\", \"weekend\", \"weekend\", \"weekend\", \"weekend\", \"welcome\", \"wembley\", \"wide\", \"work\", \"world\", \"wylie\\u00e3\", \"yard\", \"year\", \"year\", \"year\", \"year\", \"you\\u00e3\", \"you\\u00e3\"]}, \"R\": 30, \"lambda.step\": 0.01, \"plot.opts\": {\"xlab\": \"PC1\", \"ylab\": \"PC2\"}, \"topic.order\": [5, 4, 8, 6, 7, 1, 10, 3, 9, 2]};\n",
       "\n",
       "function LDAvis_load_lib(url, callback){\n",
       "  var s = document.createElement('script');\n",
       "  s.src = url;\n",
       "  s.async = true;\n",
       "  s.onreadystatechange = s.onload = callback;\n",
       "  s.onerror = function(){console.warn(\"failed to load library \" + url);};\n",
       "  document.getElementsByTagName(\"head\")[0].appendChild(s);\n",
       "}\n",
       "\n",
       "if(typeof(LDAvis) !== \"undefined\"){\n",
       "   // already loaded: just create the visualization\n",
       "   !function(LDAvis){\n",
       "       new LDAvis(\"#\" + \"ldavis_el1833616369897094326377201834\", ldavis_el1833616369897094326377201834_data);\n",
       "   }(LDAvis);\n",
       "}else if(typeof define === \"function\" && define.amd){\n",
       "   // require.js is available: use it to load d3/LDAvis\n",
       "   require.config({paths: {d3: \"https://cdnjs.cloudflare.com/ajax/libs/d3/3.5.5/d3.min\"}});\n",
       "   require([\"d3\"], function(d3){\n",
       "      window.d3 = d3;\n",
       "      LDAvis_load_lib(\"https://cdn.rawgit.com/bmabey/pyLDAvis/files/ldavis.v1.0.0.js\", function(){\n",
       "        new LDAvis(\"#\" + \"ldavis_el1833616369897094326377201834\", ldavis_el1833616369897094326377201834_data);\n",
       "      });\n",
       "    });\n",
       "}else{\n",
       "    // require.js not available: dynamically load d3 & LDAvis\n",
       "    LDAvis_load_lib(\"https://cdnjs.cloudflare.com/ajax/libs/d3/3.5.5/d3.min.js\", function(){\n",
       "         LDAvis_load_lib(\"https://cdn.rawgit.com/bmabey/pyLDAvis/files/ldavis.v1.0.0.js\", function(){\n",
       "                 new LDAvis(\"#\" + \"ldavis_el1833616369897094326377201834\", ldavis_el1833616369897094326377201834_data);\n",
       "            })\n",
       "         });\n",
       "}\n",
       "</script>"
      ],
      "text/plain": [
       "<IPython.core.display.HTML object>"
      ]
     },
     "execution_count": 37,
     "metadata": {},
     "output_type": "execute_result"
    }
   ],
   "source": [
    "## Team --- LDA TOPIC MODEL VISUALIZATION\n",
    "team_lda_panel = LDAvis.prepare(team_lda, team_train_tf_vec_model, team_train_tf_vectorizer, mds='tsne')\n",
    "pyLDAvis.display(team_lda_panel)"
   ]
  },
  {
   "cell_type": "code",
   "execution_count": 38,
   "metadata": {},
   "outputs": [],
   "source": [
    "del coach_lda\n",
    "del coach_train_tf_vec_model\n",
    "del coach_train_tf_vectorizer\n",
    "del player_lda\n",
    "del player_train_tf_vec_model\n",
    "del player_train_tf_vectorizer\n",
    "del team_lda\n",
    "del team_train_tf_vec_model\n",
    "del team_train_tf_vectorizer\n"
   ]
  }
 ],
 "metadata": {
  "kernelspec": {
   "display_name": "Python 3",
   "language": "python",
   "name": "python3"
  },
  "language_info": {
   "codemirror_mode": {
    "name": "ipython",
    "version": 3
   },
   "file_extension": ".py",
   "mimetype": "text/x-python",
   "name": "python",
   "nbconvert_exporter": "python",
   "pygments_lexer": "ipython3",
   "version": "3.7.3"
  }
 },
 "nbformat": 4,
 "nbformat_minor": 2
}
