{
 "cells": [
  {
   "cell_type": "markdown",
   "metadata": {},
   "source": [
    "# ENVIRONMENT SETUP\n",
    "*------------------------------------------------------------------------------------*"
   ]
  },
  {
   "cell_type": "code",
   "execution_count": null,
   "metadata": {},
   "outputs": [],
   "source": [
    "# import packages for analysis and modeling\n",
    "import pandas as pd #data frame operations\n",
    "import numpy as np #arrays and math functions\n",
    "import matplotlib.pyplot as plt #2D plotting\n",
    "%matplotlib inline\n",
    "import seaborn as sns #\n",
    "import requests\n",
    "import os\n",
    "import io\n",
    "import string\n",
    "import re\n",
    "from datetime import date\n",
    "from datetime import time\n",
    "from datetime import datetime\n",
    "\n",
    "import sys\n",
    "from os import path\n",
    "\n",
    "from sklearn.metrics import cohen_kappa_score"
   ]
  },
  {
   "cell_type": "code",
   "execution_count": null,
   "metadata": {},
   "outputs": [],
   "source": [
    "# custome python packages\n",
    "import rtimbroo_utils_hw5 as rt  "
   ]
  },
  {
   "cell_type": "code",
   "execution_count": null,
   "metadata": {},
   "outputs": [],
   "source": [
    "# set global properties\n",
    "notebook_file_name = 'awt_sentiment'\n",
    "report_file_name = 'awt_sentiment'\n",
    "app_name = 'awt_sentiment'\n",
    "log_level = 10 # 10-DEBUG, 20-INFO, 30-WARNING, 40-ERROR, 50-CRITICAL\n",
    "\n",
    "# environment setup\n",
    "dataDir = './data'\n",
    "outputDir = './output'\n",
    "configDir = './config'\n",
    "logOutDir = './logs'\n",
    "imageDir = './images'\n",
    "modelDir = './models'\n",
    "corpusDir = './corpus'"
   ]
  },
  {
   "cell_type": "code",
   "execution_count": null,
   "metadata": {},
   "outputs": [],
   "source": [
    "# create base output directories if they don't exist\n",
    "if not os.path.exists(outputDir): os.mkdir(outputDir)\n",
    "if not os.path.exists(logOutDir): os.mkdir(logOutDir)\n",
    "if not os.path.exists(imageDir): os.mkdir(imageDir)\n",
    "if not os.path.exists(modelDir): os.mkdir(modelDir)\n",
    "if not os.path.exists(dataDir): os.mkdir(dataDir)\n",
    "if not os.path.exists(configDir): os.mkdir(configDir)\n",
    "if not os.path.exists(corpusDir): os.mkdir(corpusDir)"
   ]
  },
  {
   "cell_type": "code",
   "execution_count": null,
   "metadata": {},
   "outputs": [],
   "source": [
    "# get current date\n",
    "now = datetime.utcnow().isoformat()\n",
    "now_date = re.findall('^[0-9]{4}-[0-9]{2}-[0-9]{2}',now)\n",
    "now_date"
   ]
  },
  {
   "cell_type": "code",
   "execution_count": null,
   "metadata": {},
   "outputs": [],
   "source": [
    "# get a logger for troubleshooting / data exploration\n",
    "logger = rt.getFileLogger(logOutDir+'/',app_name+'_'+now_date[0],level=log_level)"
   ]
  },
  {
   "cell_type": "markdown",
   "metadata": {},
   "source": [
    "## Define Global Functions\n",
    "*------------------------------------------------------------------------*"
   ]
  },
  {
   "cell_type": "code",
   "execution_count": null,
   "metadata": {},
   "outputs": [],
   "source": [
    "def assign_headline_text_id(text):\n",
    "    \n",
    "    if text == \"Toyota's LQ Concept Includes Its Own Artificial Intelligence Assistant. This AI will be able to read your emotions to give you the very best mobility experience it can, apparently.\":\n",
    "        text_id = 1\n",
    "    elif text == \"Researchers spy signs of slavery from space. A surge in satellite data and artificial intelligence helps guide enformcement. Here's one important way that space science has improved life on Earth: a surge in satellite data and artifical intelligence has helped put modern slavery under a spotlight.\":\n",
    "        text_id = 2\n",
    "    elif text == \"In a major IVF breakthrough, doctors have started using artificial intelligence to determine the healthiest embryos to transfer to patients!\":\n",
    "        text_id = 3\n",
    "    elif text == \"Bill Gates compares artificial intelligence to nuclear weapons. Gates called AI 'both promissing and dangerous' - and compared the tech to nuclear weapons.\":\n",
    "        text_id = 4\n",
    "    else:\n",
    "        text_id = 0\n",
    "    \n",
    "    \n",
    "    return text_id"
   ]
  },
  {
   "cell_type": "code",
   "execution_count": null,
   "metadata": {},
   "outputs": [],
   "source": [
    "def assign_response_text_id(text):\n",
    "    \n",
    "    if text == \"It's like the design team still thinks it's 1992.\":\n",
    "        text_id = 1\n",
    "    elif text == \"So it disables itself when I want to drive it? Nice\":\n",
    "        text_id = 2\n",
    "    elif text == \"Yeah it's also wearing a bluetooth ear piece\":\n",
    "        text_id = 3\n",
    "    elif text == 'This is my new response to people that tell me we need to \"look after people here on Earth before we explore outer space\".':\n",
    "        text_id = 4\n",
    "    elif text == \"Does it also detect economic slavery from space?\":\n",
    "        text_id = 5\n",
    "    elif text == \"That is not a view from space, science these days uses propaganda\":\n",
    "        text_id = 6\n",
    "    elif text == \"I wonder if my cells would have been good enough to be chosen?\":\n",
    "        text_id = 7\n",
    "    elif text == \"Wow massive I was lucky to have 2 implanted after many years of ivf and the took resulting in 2 babies who drive me crazy ?? but I love them more every day\":\n",
    "        text_id = 8\n",
    "    elif text == \"How unethical!\":\n",
    "        text_id = 9\n",
    "    elif text == \"Of course it will bite us in the ass eventually, but until then it should be very exciting.\":\n",
    "        text_id = 10\n",
    "    elif text == \"pure nonsense! ..it's no different than guns, dependent on how you legislate, it will be safe or end in mass shootings\\nswiss has the safest gun control!!\":\n",
    "        text_id = 11\n",
    "    elif text == \"Doesn't sound like something we can ethically handle yet.\":\n",
    "        text_id = 12\n",
    "    else:\n",
    "        text_id = 0\n",
    "    \n",
    "    \n",
    "    return text_id"
   ]
  },
  {
   "cell_type": "code",
   "execution_count": null,
   "metadata": {},
   "outputs": [],
   "source": [
    "def is_nan(x):\n",
    "    return (x is np.nan or x != x)"
   ]
  },
  {
   "cell_type": "code",
   "execution_count": null,
   "metadata": {},
   "outputs": [],
   "source": [
    "def assign_label_value(label):\n",
    "    \n",
    "    if is_nan(label):\n",
    "        label_value = 0\n",
    "    elif label == 'Negative':\n",
    "        label_value = 1\n",
    "    elif label == 'Neutral':\n",
    "        label_value = 2\n",
    "    elif label == 'Positive':\n",
    "        label_value = 3\n",
    "    \n",
    "    return label_value"
   ]
  },
  {
   "cell_type": "markdown",
   "metadata": {},
   "source": [
    "# OBTAIN the DATA\n",
    "*-----------------------------------------------------------------------------*"
   ]
  },
  {
   "cell_type": "code",
   "execution_count": null,
   "metadata": {},
   "outputs": [],
   "source": [
    "# AMT Turk Data\n",
    "artical_headline_labels = pd.read_csv(f'{dataDir}/ArticalHeadlines_Batch_3824170_batch_results.csv')\n",
    "response_post_labels = pd.read_csv(f'{dataDir}/ResponsePosts_Batch_3822162_batch_results.csv')\n",
    "workers = pd.read_csv(f'{dataDir}/User_1466364_workers.csv')\n",
    "\n"
   ]
  },
  {
   "cell_type": "code",
   "execution_count": null,
   "metadata": {},
   "outputs": [],
   "source": [
    "logger.info(f'artical_headline_labels shape: {artical_headline_labels.shape}')\n",
    "logger.info(f'artical_headline_labels size: {artical_headline_labels.size}')\n",
    "artical_headline_labels.head()"
   ]
  },
  {
   "cell_type": "code",
   "execution_count": null,
   "metadata": {},
   "outputs": [],
   "source": [
    "keep_cols_art = ['Answer.sentiment.label','Input.text','WorkerId','WorkTimeInSeconds','LifetimeApprovalRate']\n",
    "artical_headline_df = artical_headline_labels[keep_cols_art]\n",
    "#logger.debug(artical_headline_df['Input.text'].unique())\n",
    "artical_headline_df['text_id'] = [assign_headline_text_id(t) for t in artical_headline_df['Input.text'] ]\n",
    "artical_headline_df['label_value'] = [assign_label_value(l) for l in artical_headline_df['Answer.sentiment.label'] ]\n",
    "artical_headline_df.head()"
   ]
  },
  {
   "cell_type": "code",
   "execution_count": null,
   "metadata": {},
   "outputs": [],
   "source": [
    "#len(artical_headline_df['WorkerId'].unique())\n",
    "workers = artical_headline_df['WorkerId'].unique()\n",
    "logger.info(f'unique workers: {workers}')\n",
    "logger.info(f'Number of unique workers: {len(workers)}')\n",
    "worker_labels_art =  artical_headline_df[['WorkerId','text_id','label_value']]\n",
    "worker_labels_art = worker_labels_art.sort_values(by=['WorkerId'])\n",
    "#logger.debug(worker_labels)\n",
    "#worker_labels"
   ]
  },
  {
   "cell_type": "code",
   "execution_count": null,
   "metadata": {},
   "outputs": [],
   "source": [
    "sns.barplot(x='text_id', y='label_value' , data=worker_labels_art)"
   ]
  },
  {
   "cell_type": "code",
   "execution_count": null,
   "metadata": {},
   "outputs": [],
   "source": [
    "workers_comp = []\n",
    "worker_labels_art_keep = pd.DataFrame()\n",
    "\n",
    "for worker in workers:\n",
    "    #print(worker)\n",
    "    _w = worker_labels_art[worker_labels_art.WorkerId == worker]\n",
    "    if len(_w) == 4:\n",
    "        workers_comp.append(_w)\n",
    "        worker_labels_art_keep = pd.concat([worker_labels_art_keep,_w])\n",
    "        #print()\n",
    "    \n",
    "logger.info(f'{len(workers_comp)} full sets')\n",
    "logger.info(f'worker_labels_art_keep shape: {worker_labels_art_keep.shape}')\n",
    "worker_labels_art_keep = worker_labels_art_keep.sort_values(by=['WorkerId','text_id'])\n",
    "worker_labels_art_keep.head(10)"
   ]
  },
  {
   "cell_type": "code",
   "execution_count": null,
   "metadata": {},
   "outputs": [],
   "source": [
    "sns.barplot(x='text_id', y='label_value' , data=worker_labels_art_keep);"
   ]
  },
  {
   "cell_type": "code",
   "execution_count": null,
   "metadata": {},
   "outputs": [],
   "source": [
    "t = worker_labels_art_keep.groupby(by='WorkerId')['label_value'].mean()\n",
    "t"
   ]
  },
  {
   "cell_type": "code",
   "execution_count": null,
   "metadata": {},
   "outputs": [],
   "source": [
    "def calc_kappa(w1,w2):\n",
    "    w1_label_values = []\n",
    "    w2_label_values = []\n",
    "    \n",
    "    for w1_k,w1_v in w1.items():\n",
    "        w1_label_values.append(w1_v)\n",
    "    \n",
    "    for w2_k,w2_v in w2.items():\n",
    "        w2_label_values.append(w2_v)\n",
    "    \n",
    "    \n",
    "    logger.info(f'\\nkappa pair-wise comparision:\\n {w1_label_values} \\n {w2_label_values}')\n",
    "    k_score = cohen_kappa_score(w1_label_values,w2_label_values)\n",
    "    logger.info(f'kappa score: {k_score}\\n')\n",
    "    return k_score"
   ]
  },
  {
   "cell_type": "code",
   "execution_count": null,
   "metadata": {},
   "outputs": [],
   "source": [
    "#(w1,w2,score)\n",
    "workers = worker_labels_art_keep['WorkerId'].unique()\n",
    "coder_pairs = []\n",
    "workers_dict = {}\n",
    "\n",
    "for worker in workers:\n",
    "    w = worker_labels_art_keep[worker_labels_art_keep.WorkerId == worker]\n",
    "    workers_dict[worker] = dict(zip(w['text_id'],w['label_value']))\n",
    "    \n",
    "logger.info(f'Worker Text Labels: {workers_dict}')"
   ]
  },
  {
   "cell_type": "code",
   "execution_count": null,
   "metadata": {},
   "outputs": [],
   "source": [
    "k_score_pairs = []\n",
    "num_workers = len(workers)\n",
    "\n",
    "for i,w_id in enumerate(workers):\n",
    "    logger.info(f' index: {i}')\n",
    "    logger.info(f' worker id: {w_id}')\n",
    "    this_wId = w_id\n",
    "    logger.info(f' worker labels: {workers_dict[w_id]}')\n",
    "    \n",
    "    # get next worker to compare to\n",
    "    for i_n in range(i+1, num_workers):\n",
    "        \n",
    "        logger.info(f' next worker id: {workers[i_n]}')\n",
    "        next_wId = workers[i_n]\n",
    "        logger.info(f' next worker labels: {workers_dict[next_wId]}')\n",
    "\n",
    "        k_score_pairs.append((this_wId,next_wId,calc_kappa(workers_dict[w_id],workers_dict[next_wId])))\n",
    "    \n",
    "    #if i == 2: break\n",
    "k_score_pairs    \n",
    "logger.info(f'k_score_pairs count: {len(k_score_pairs)}')\n",
    "   "
   ]
  },
  {
   "cell_type": "code",
   "execution_count": null,
   "metadata": {},
   "outputs": [],
   "source": [
    "logger.info(k_score_pairs)"
   ]
  },
  {
   "cell_type": "code",
   "execution_count": null,
   "metadata": {},
   "outputs": [],
   "source": [
    "# get average of kappa scores\n",
    "scores = []\n",
    "for score in k_score_pairs:\n",
    "    scores.append(score[2])\n",
    "    \n",
    "logger.info(f'Kappa PAIR-WISE AVG SCORE:: Sentiment Analysis on Social Media Headline Posts: {np.array(scores).mean()}')\n",
    "scores_sorted = np.sort(np.array(scores))\n",
    "logger.info(f'Kappa PAIR-WISE MEDIAN SCORE: Sentiment Analysis on Social Media Headline Posts: {np.median(scores_sorted)}')"
   ]
  },
  {
   "cell_type": "code",
   "execution_count": null,
   "metadata": {},
   "outputs": [],
   "source": []
  },
  {
   "cell_type": "code",
   "execution_count": null,
   "metadata": {},
   "outputs": [],
   "source": [
    "logger.info(f'response_post_labels shape: {response_post_labels.shape}')\n",
    "logger.info(f'response_post_labels size: {response_post_labels.size}')\n",
    "response_post_labels.head()"
   ]
  },
  {
   "cell_type": "code",
   "execution_count": null,
   "metadata": {},
   "outputs": [],
   "source": [
    "keep_cols_resp = ['Answer.sentiment.label','Input.article_headline','Input.text','WorkerId','WorkTimeInSeconds','LifetimeApprovalRate']\n",
    "response_post_df = response_post_labels[keep_cols_resp]\n",
    "response_post_df['article_text_id'] = [assign_headline_text_id(t) for t in response_post_df['Input.article_headline'] ]\n",
    "response_post_df['response_text_id'] = [assign_response_text_id(t) for t in response_post_df['Input.text'] ]\n",
    "response_post_df['label_value'] = [assign_label_value(l) for l in response_post_df['Answer.sentiment.label'] ]\n",
    "response_post_df.head()"
   ]
  },
  {
   "cell_type": "code",
   "execution_count": null,
   "metadata": {},
   "outputs": [],
   "source": [
    "#len(artical_headline_df['WorkerId'].unique())\n",
    "workers_resp = response_post_df['WorkerId'].unique()\n",
    "logger.info(f'Unique Response Workers: {len(workers_resp)}')\n",
    "worker_labels_resp =  response_post_df[['WorkerId','response_text_id','label_value','article_text_id']]\n",
    "worker_labels_resp = worker_labels_resp.sort_values(by=['WorkerId'])\n",
    "logger.info(f'worker_labels_resp shape: {worker_labels_resp.shape}')\n",
    "#logger.debug(worker_labels_resp)\n",
    "#worker_labels_resp"
   ]
  },
  {
   "cell_type": "code",
   "execution_count": null,
   "metadata": {},
   "outputs": [],
   "source": [
    "sns.barplot(x='response_text_id', y='label_value' , data=worker_labels_resp)"
   ]
  },
  {
   "cell_type": "code",
   "execution_count": null,
   "metadata": {},
   "outputs": [],
   "source": [
    "logger.debug(response_post_df['Input.text'].unique())\n",
    "response_post_df['Answer.sentiment.label'].unique()"
   ]
  },
  {
   "cell_type": "code",
   "execution_count": null,
   "metadata": {},
   "outputs": [],
   "source": [
    "workers_resp_full = []\n",
    "worker_labels_resp_keep = pd.DataFrame()\n",
    "\n",
    "for worker in workers_resp:\n",
    "    #print(worker)\n",
    "    _w = worker_labels_resp[worker_labels_resp.WorkerId == worker]\n",
    "    if len(_w) == 12:\n",
    "        workers_resp_full.append(_w)\n",
    "        worker_labels_resp_keep = pd.concat([worker_labels_resp_keep,_w])\n",
    "        #print()\n",
    "    \n",
    "logger.info(f'{len(workers_resp_full)} full sets')\n",
    "logger.info(f'worker_labels_resp_keep shape: {worker_labels_resp_keep.shape}')\n",
    "worker_labels_resp_keep = worker_labels_resp_keep.sort_values(by=['WorkerId','response_text_id'])\n",
    "worker_labels_resp_keep.head(10)"
   ]
  },
  {
   "cell_type": "code",
   "execution_count": null,
   "metadata": {},
   "outputs": [],
   "source": [
    "# plot of kept labeled dataset\n",
    "sns.barplot(x='response_text_id', y='label_value' , data=worker_labels_resp_keep);"
   ]
  },
  {
   "cell_type": "code",
   "execution_count": null,
   "metadata": {},
   "outputs": [],
   "source": [
    "# calculate kappa\n",
    "#(w1,w2,score)\n",
    "workers = worker_labels_resp_keep['WorkerId'].unique()\n",
    "coder_pairs = []\n",
    "workers_dict = {}\n",
    "\n",
    "for worker in workers:\n",
    "    w = worker_labels_resp_keep[worker_labels_resp_keep.WorkerId == worker]\n",
    "    workers_dict[worker] = dict(zip(w['response_text_id'],w['label_value']))\n",
    "    \n",
    "logger.info(f'Worker Text Labels: {workers_dict}')"
   ]
  },
  {
   "cell_type": "code",
   "execution_count": null,
   "metadata": {},
   "outputs": [],
   "source": [
    "k_score_pairs = []\n",
    "num_workers = len(workers)\n",
    "\n",
    "for i,w_id in enumerate(workers):\n",
    "    logger.info(f' index: {i}')\n",
    "    logger.info(f' worker id: {w_id}')\n",
    "    this_wId = w_id\n",
    "    logger.info(f' worker labels: {workers_dict[w_id]}')\n",
    "    \n",
    "    # get next worker to compare to\n",
    "    for i_n in range(i+1, num_workers):\n",
    "        \n",
    "        logger.info(f' next worker id: {workers[i_n]}')\n",
    "        next_wId = workers[i_n]\n",
    "        logger.info(f' next worker labels: {workers_dict[next_wId]}')\n",
    "\n",
    "        k_score_pairs.append((this_wId,next_wId,calc_kappa(workers_dict[w_id],workers_dict[next_wId])))\n",
    "    \n",
    "    #if i == 2: break\n",
    "\n",
    "k_score_pairs    \n",
    "logger.info(f'number of pairs calculated: {len(k_score_pairs)}')\n",
    "   "
   ]
  },
  {
   "cell_type": "code",
   "execution_count": null,
   "metadata": {},
   "outputs": [],
   "source": [
    "# get average of kappa scores\n",
    "scores = []\n",
    "for score in k_score_pairs:\n",
    "    scores.append(score[2])\n",
    "    \n",
    "logger.info(f'Kappa PAIR-WISE AVG SCORE: Public Opinion Toward AI: {np.array(scores).mean()}')\n",
    "scores_sorted = np.sort(np.array(scores))\n",
    "logger.info(f'Kappa PAIR-WISE MEDIAN SCORE: Public Opinion Toward AI: {np.median(scores_sorted)}')\n"
   ]
  },
  {
   "cell_type": "code",
   "execution_count": null,
   "metadata": {},
   "outputs": [],
   "source": []
  }
 ],
 "metadata": {
  "kernelspec": {
   "display_name": "Python 3",
   "language": "python",
   "name": "python3"
  },
  "language_info": {
   "codemirror_mode": {
    "name": "ipython",
    "version": 3
   },
   "file_extension": ".py",
   "mimetype": "text/x-python",
   "name": "python",
   "nbconvert_exporter": "python",
   "pygments_lexer": "ipython3",
   "version": "3.7.3"
  }
 },
 "nbformat": 4,
 "nbformat_minor": 2
}
